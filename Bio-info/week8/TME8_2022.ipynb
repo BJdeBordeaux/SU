{
  "cells": [
    {
      "cell_type": "markdown",
      "metadata": {
        "id": "cMBXoJy9Cn-E"
      },
      "source": [
        "# TME 8 : Mini-projet Detection de motifs\n",
        "\n",
        "\n",
        "## Localisation de pattern (motifs) dans le genome\n",
        "\n",
        "Nous allons implémenter plusieurs algorithmes afin de localiser un motif d'intérêt dans un génome."
      ]
    },
    {
      "cell_type": "markdown",
      "metadata": {
        "id": "K4Jkd01ZCn-L"
      },
      "source": [
        "### A -  Boyer Moore Algorithm \n",
        "1\\. Nous allons réutiliser les fonctions de TME precedents pour générer une séquence artificiel de taille ``n``, et implanter un motif de taille ``k`` dans une position aléatoire de la séquence. Vous pouvez aussi faire varier ``v`` positions pour permettre certaines mutations\n"
      ]
    },
    {
      "cell_type": "code",
      "execution_count": 34,
      "metadata": {
        "id": "yHw0ytHCCn-M"
      },
      "outputs": [],
      "source": [
        "import random\n",
        "import numpy as np\n",
        "\n",
        "nuc = ('A', 'C', 'G', 'T')\n",
        "\n",
        "n = 100 #longuer des sequence\n",
        "k = 8 #longuer du motif\n",
        "t = 5\n",
        "v = 2"
      ]
    },
    {
      "cell_type": "code",
      "execution_count": 35,
      "metadata": {
        "id": "u5SQ7IuMCn-O"
      },
      "outputs": [
        {
          "name": "stdout",
          "output_type": "stream",
          "text": [
            "['ACCTTAACAGAGCGAATGGCGGCGGTCGCAGTTACTCGAAGGACGCTCCTCATTGTACTGGATCTGGCTATGCTTTCTCCCAGGTTCTACCGCGATCCAC', 'GTGTCAAGCACCCCCCTCGAGACTCCCGCAGTCCTCATTTGCGTCGGATGCGGGCGCCGCCATGCGAGTCATGAGAATCAGAAGAAGATCGGGGTTTAGA', 'AAACATCCGCGCCTGTTTGCCGATATGGCACAATTAAATACCCCTTGCTCACCGCTCCATAGACAATGCTAATTTCCTCATTTGGTAACTTCTTCCCTAT', 'GCAACTCTTTTGAACCAACCCACATGAATTAGCAGGTTTCTTCAATCGCGCTTATTTTCGGTTCGCCCCCAACATCCTCATTAAACGTACGTCGCCGCTT', 'GTACCATCCTCATTCGTGTATTGCGCAGGTTGGGGGCCCGCCCTCCTTTGACCAGCACTACGGCCTGGTTTTCGCACCTTACTGTAAAATAAATAAAGCG']\n",
            "['ACCTTAACAGAGCGAATGGCGGCGGTCGCAGTTACTCCTCATTTCGAAGGACGCTCCTCATTGTACTGGATCTGGCTATGCTTTCTCCCAGGTTCTACCGCGATCCAC', 'GTGTCAAGCACCCCCCTCGAGACTCCCGCAGTCCTCATTTGCGTCGGATGCGGGCGCCGCCATGCGAGTCCTCATTTCATGAGAATCAGAAGAAGATCGGGGTTTAGA', 'AAACATCCGCGCCTGTTTGCCGATATGTCCTCATTGCACAATTAAATACCCCTTGCTCACCGCTCCATAGACAATGCTAATTTCCTCATTTGGTAACTTCTTCCCTAT', 'GCAACTCTTTTGAACCAACCCACATGAATTAGCAGGTTTCTTCAATCGTCCTCATTCGCTTATTTTCGGTTCGCCCCCAACATCCTCATTAAACGTACGTCGCCGCTT', 'GTACCATCCTCATTCGTGTATTGCGCAGGTTGGGGGCCCGCCCTCCTTTGACCAGCACTACGGCCTGGTTTTCGCACCTTACTGTAATCCTCATTAATAAATAAAGCG']\n",
            "TCCTCATT\n"
          ]
        }
      ],
      "source": [
        "def generateRandomSequence(n, upper=True):\n",
        "    \"\"\"\n",
        "    Génère une séquence nucléotidique aléatoire \n",
        "    entrée n : longueur de la sequence\n",
        "    entrée upper : bool, si True les nucléotides seront en majuscule, False minuscule\n",
        "    sortie sequence : une séquence nucléotidique aléatoire \n",
        "    \"\"\"\n",
        "    nucList = [\n",
        "        nuc[random.randint(0, 3)].upper() if upper else nuc[random.randint(\n",
        "            0, 3)].lower() for i in range(n)\n",
        "    ]\n",
        "    sequence = \"\".join(nucList)\n",
        "    return sequence\n",
        "\n",
        "\n",
        "def modifierMotif(motif, nbpos, upper=True):\n",
        "    \"\"\"\n",
        "    Modifie nbpos positions d'un motif aléatoirement \n",
        "    entrée motif: motif à modifier\n",
        "    entrée nbpos: nombre de positions\n",
        "    entrée upper : bool, si True les nucléotides modifiés seront majuscule, False minuscule\n",
        "    sortie motifM: motif modifié\n",
        "    \"\"\"\n",
        "    motifM = motif\n",
        "    posToModified = random.sample(range(len(motif)), nbpos)\n",
        "    for pos in posToModified:\n",
        "        newNuc = random.choice(nuc)\n",
        "        while newNuc == motif[pos]:\n",
        "            newNuc = random.choice(nuc)\n",
        "        motifM = motifM[0:pos] + newNuc + motifM[pos + 1:]\n",
        "    return motifM\n",
        "\n",
        "\n",
        "def implantMotif(sequences, motif, k, v, t, n):\n",
        "    \"\"\"\n",
        "    Génère des séquences aléatoires et implante des motifs (un motif par séquence)\n",
        "    entrée sequences: matrice de (n-k)*t initiale\n",
        "    entrée motif: motif sans variation à implémenter\n",
        "    entrée k: taille du motif\n",
        "    entrée v: nombre de variations (si v==0 implante un motif sans variations)\n",
        "    entrée t : nombre de séquences \n",
        "    entrée n : longueur des séquences\n",
        "    sortie DNAOrig : matrice de dimension t x n-k avec les sequences aléatoires\n",
        "    sortie DNAMot: matrice de dimension t x n avec les sequences aléatoires et les motifs implantés\n",
        "    sortie motifFix: motif sans variations\n",
        "    REMARQUE : La taille totale des séquences plus motif doit être égal à n, pensez à générer de séquence aléatoire de taille n-k pour pouvoir implanter un motif de taille k\n",
        "    Cette fonction permet de soit générer les séquences et le motif, soit juste implanter de motif (avec ou sans variations) à des séquences et motif existantes (passé en paramètre)\n",
        "    \"\"\"\n",
        "    # DNAOrig = []\n",
        "    # DNAMot = []\n",
        "    if (sequences):\n",
        "        DNAOrig = sequences[:]\n",
        "    else:\n",
        "        DNAOrig = [generateRandomSequence(n - k) for i in range(t)]\n",
        "    if (len(motif) == 0):\n",
        "        motif = generateRandomSequence(k)\n",
        "    modifiedMotifs = [modifierMotif(motif, v) for i in range(t)]\n",
        "    posToInsert = [random.randint(0, n - k) for i in range(t)]\n",
        "    DNAMot = [\n",
        "        DNAOrig[i][:posToInsert[i]] + modifiedMotifs[i] +\n",
        "        DNAOrig[i][posToInsert[i]:] for i in range(t)\n",
        "    ]\n",
        "    # print(posToInsert)\n",
        "    return DNAOrig, DNAMot, motif\n",
        "\n",
        "\n",
        "adnOri = [\n",
        "    'ACCTTAACAGAGCGAATGGCGGCGGTCGCAGTTACTCGAAGGACGCTCCTCATTGTACTGGATCTGGCTATGCTTTCTCCCAGGTTCTACCGCGATCCAC',\n",
        "    'GTGTCAAGCACCCCCCTCGAGACTCCCGCAGTCCTCATTTGCGTCGGATGCGGGCGCCGCCATGCGAGTCATGAGAATCAGAAGAAGATCGGGGTTTAGA',\n",
        "    'AAACATCCGCGCCTGTTTGCCGATATGGCACAATTAAATACCCCTTGCTCACCGCTCCATAGACAATGCTAATTTCCTCATTTGGTAACTTCTTCCCTAT',\n",
        "    'GCAACTCTTTTGAACCAACCCACATGAATTAGCAGGTTTCTTCAATCGCGCTTATTTTCGGTTCGCCCCCAACATCCTCATTAAACGTACGTCGCCGCTT',\n",
        "    'GTACCATCCTCATTCGTGTATTGCGCAGGTTGGGGGCCCGCCCTCCTTTGACCAGCACTACGGCCTGGTTTTCGCACCTTACTGTAAAATAAATAAAGCG'\n",
        "]\n",
        "adnOri, adn, fix_motif = implantMotif(\n",
        "    adnOri, 'TCCTCATT', k, 0, t,\n",
        "    n)  #générer les séquences et le motif sans variation\n",
        "print(adnOri)\n",
        "# print (adn)\n",
        "\n",
        "adn = [s.upper() for s in adn]\n",
        "print(adn)\n",
        "print(fix_motif)\n"
      ]
    },
    {
      "cell_type": "markdown",
      "metadata": {
        "id": "p-WoB4IrCn-R"
      },
      "source": [
        "2\\. Boyer Moore est une combinaison de deux approches : bad character et good Suffix. Nous allons commencer par la première approche. Définissez une fonction ``badCharacter`` pour construire la badTable d'un motif. Vous pouvez l'implémenter comme dictionnaire, voir un exemple dans les slides de cours.\n"
      ]
    },
    {
      "cell_type": "code",
      "execution_count": 36,
      "metadata": {
        "colab": {
          "base_uri": "https://localhost:8080/"
        },
        "id": "8PaZIrBOCn-S",
        "outputId": "a9958bf1-c9ce-4169-fb2c-8a0b17e8d97c"
      },
      "outputs": [
        {
          "name": "stdout",
          "output_type": "stream",
          "text": [
            "{'T': 1, 'A': 4, 'G': 1}\n",
            "{'G': 4, 'T': 2, 'A': 1}\n"
          ]
        }
      ],
      "source": [
        "def badCharacter(motif):\n",
        "    '''\n",
        "    Construire la badTable d'un motif\n",
        "    entrée motif : le motif à chercher\n",
        "    sortie badMatchTable: un dictionnaire ou la clé est un nucléotide du motif et la valeur le nombre de positions à décaler pour avoir un match\n",
        "    '''\n",
        "    l = len(motif)\n",
        "    return {motif[i]: max(1, l - 1 - i) for i in range(l)}\n",
        "\n",
        "\n",
        "print(badCharacter(\"TATGTG\"))  #{'T': 1, 'A': 4, 'G': 1}\n",
        "\n",
        "print(badCharacter(\"GTTGTTAA\"))  #{'A': 6, 'C': 1, 'G': 1, 'T': 7} // ???\n"
      ]
    },
    {
      "cell_type": "markdown",
      "metadata": {
        "id": "zmHTv4E8Cn-T"
      },
      "source": [
        "3\\. Développer la version de l'algorithme Boyer Moore qui utilise \"bad character\" la règle de caractère incorrect."
      ]
    },
    {
      "cell_type": "code",
      "execution_count": 37,
      "metadata": {
        "id": "Ek9b7fZOCn-U"
      },
      "outputs": [
        {
          "data": {
            "text/plain": [
              "2"
            ]
          },
          "execution_count": 37,
          "metadata": {},
          "output_type": "execute_result"
        }
      ],
      "source": [
        "import sys\n",
        "\n",
        "\n",
        "def BoyerMooreBC(genome, motif):\n",
        "    '''\n",
        "    Implemente l'agorithme Boyer Moore en utilisant uniquement la regle de bad Character\n",
        "    entrée genome : chaine de caracter representant le genome\n",
        "    entrée motif : le motif à chercher\n",
        "    sortie postition : position du motif dans le texte (-1) si il n'est pas trouvé  \n",
        "    '''\n",
        "    # postition = -1\n",
        "    l = len(motif)\n",
        "    tmp_pos = len(motif) - 1\n",
        "    badTab = badCharacter(motif)\n",
        "    # print(badTab)\n",
        "    find = False\n",
        "    while (tmp_pos <= len(genome) - 1):\n",
        "        for i in range(1, l + 1):\n",
        "            currentCharGenome = genome[tmp_pos - (i-1)]\n",
        "            # print(genome[tmp_pos+1-l:tmp_pos+1], tmp_pos, currentCharGenome)\n",
        "            if (motif[-i] != currentCharGenome):\n",
        "                if currentCharGenome in badTab:\n",
        "                    tmp_pos += badTab[currentCharGenome]\n",
        "                else:\n",
        "                    tmp_pos += l\n",
        "                break\n",
        "            if (i == l):\n",
        "                return tmp_pos + 1 - l\n",
        "    return -1\n",
        "\n",
        "\n",
        "BoyerMooreBC(\"ABCABCAB\", \"CA\")  #2\n"
      ]
    },
    {
      "cell_type": "markdown",
      "metadata": {
        "id": "b6_3RpzOCn-V"
      },
      "source": [
        "4\\. Testez la version de l'exercice 3 sur les données artificielles généré dans 1, combien de comparaison inutile avez-vous évité avec cette version? "
      ]
    },
    {
      "cell_type": "markdown",
      "metadata": {},
      "source": [
        "Reponse: À chaque saut, on évite (pas_de_saut - 1) comparaisons, en tournant le code suivant, on constate qu'on évite 133 comparaisons."
      ]
    },
    {
      "cell_type": "code",
      "execution_count": 38,
      "metadata": {},
      "outputs": [
        {
          "name": "stdout",
          "output_type": "stream",
          "text": [
            "position: -1, comparaisons évitées: 74\n",
            "position: -1, comparaisons évitées: 85\n",
            "position: 27, comparaisons évitées: 23\n",
            "position: 48, comparaisons évitées: 37\n",
            "position: 6, comparaisons évitées: 4\n",
            "comparaisons évitées totalement: 223\n"
          ]
        }
      ],
      "source": [
        "def BoyerMooreBCwithSave(genome, motif):\n",
        "    '''\n",
        "    Implemente l'agorithme Boyer Moore en utilisant uniquement la regle de bad Character\n",
        "    entrée genome : chaine de caracter representant le genome\n",
        "    entrée motif : le motif à chercher\n",
        "    sortie postition : position du motif dans le texte (-1) si il n'est pas trouvé\n",
        "    sortie saved : comparaisons inutiles évitées\n",
        "    '''\n",
        "    l = len(motif)\n",
        "    tmp_pos = len(motif) - 1\n",
        "    badTab = badCharacter(motif)\n",
        "    save = 0\n",
        "    while (tmp_pos <= len(genome) - 1):\n",
        "        for i in range(1, l + 1):\n",
        "            currentCharGenome = genome[tmp_pos - (i-1)]\n",
        "            if (motif[-i] != currentCharGenome):\n",
        "                if currentCharGenome in badTab:\n",
        "                    tmp_pos += badTab[currentCharGenome]\n",
        "                    save += badTab[currentCharGenome] -1\n",
        "                else:\n",
        "                    tmp_pos += l\n",
        "                    save += l-1\n",
        "                break\n",
        "            if (i == l):\n",
        "                return tmp_pos + 1 - l, save\n",
        "    return -1, save\n",
        "\n",
        "save1 = 0\n",
        "for i in range(t):\n",
        "    posi, savei = BoyerMooreBCwithSave(adn[i], fix_motif)\n",
        "    print(\"position: \" + str(posi) + \", comparaisons évitées: \" + str(savei))\n",
        "    save1 += savei\n",
        "print(\"comparaisons évitées totalement: \"+ str(save1))"
      ]
    },
    {
      "cell_type": "markdown",
      "metadata": {
        "id": "X0q1LYqXCn-W"
      },
      "source": [
        "5\\. Nous allons implémenter la règle de good suffixe. Pour cela, nous allons pré-processer le motif afin de trouver tous les suffixe de taille k que sont aussi de préfixe. Faire la fonction goodSuffix qui étant donnée un motif renvoie un dictionnaire ou les clés sont de suffixes et les valeurs sont la distance au préfixe le plus proche, voir un exemple ci-dessous."
      ]
    },
    {
      "cell_type": "code",
      "execution_count": 53,
      "metadata": {
        "colab": {
          "base_uri": "https://localhost:8080/"
        },
        "id": "7J2tVu3CCn-X",
        "outputId": "5e2cda75-bf71-4442-ecb1-ee125ef93d49"
      },
      "outputs": [
        {
          "name": "stdout",
          "output_type": "stream",
          "text": [
            "{'G': 2, 'CG': 3, 'GCG': 3, 'GGCG': 5, 'CGGCG': 5, 'GCGGCG': 8, 'AGCGGCG': 8, 'TAGCGGCG': 8}\n",
            "{'A': 5, 'TA': 5, 'TTA': 5, 'GTTA': 5, 'TGTTA': 5, 'ATGTTA': 7}\n"
          ]
        }
      ],
      "source": [
        "def goodSuffix(motif):\n",
        "    '''\n",
        "    Construire la goodSuffix table d'un motif\n",
        "    entrée motif : le motif à chercher\n",
        "    sortie goodSuffixTable: un dictionnaire ou la clé est les suffixes d'un motif et la valeur le nombre de positions à décaler pour avoir un match\n",
        "    '''\n",
        "    goodSuffixTable = dict()\n",
        "    l = len(motif)\n",
        "    for i in range(1, l):\n",
        "        last_index = l - 1\n",
        "        index_suffix_fix = l - i\n",
        "        motif_to_add = motif[index_suffix_fix:]\n",
        "        findArea = motif[:index_suffix_fix]\n",
        "        index_suffix = l - i\n",
        "        if len({char for char in motif_to_add}) == 1:\n",
        "            goodSuffixTable[motif_to_add] = 1\n",
        "        while index_suffix <= last_index:\n",
        "            toFind = motif[index_suffix:]\n",
        "            index_match = findArea.rfind(toFind)\n",
        "            if index_match == -1:\n",
        "                index_suffix += 1\n",
        "                continue\n",
        "            else:\n",
        "                goodSuffixTable[motif_to_add] = index_suffix - index_match\n",
        "                break\n",
        "        if index_match == -1:\n",
        "            goodSuffixTable[motif_to_add] = l\n",
        "    return goodSuffixTable\n",
        "\n",
        "\n",
        "#gs = goodSuffix(\"ABABAB\")\n",
        "gs = goodSuffix(\n",
        "    \"GTAGCGGCG\"\n",
        ")  #{'G': 2, 'CG': 3, 'GCG': 3, 'GGCG': 5, 'CGGCG': 5, 'GCGGCG': 8, 'AGCGGCG': 8, 'TAGCGGCG': 8}\n",
        "print(gs)\n",
        "\n",
        "gs = goodSuffix(\n",
        "    \"GATGTTA\"\n",
        ")  #{'G': 2, 'CG': 3, 'GCG': 3, 'GGCG': 5, 'CGGCG': 5, 'GCGGCG': 8, 'AGCGGCG': 8, 'TAGCGGCG': 8}\n",
        "print(gs)\n"
      ]
    },
    {
      "cell_type": "markdown",
      "metadata": {
        "id": "VsMcBTjrCn-Y"
      },
      "source": [
        "6\\. Développer la version de l'algorithme Boyer Moore qui utilise les deux règles \"bad character\" et  \"good suffixe\". Avez-vous amélioré votre algorithme? "
      ]
    },
    {
      "cell_type": "code",
      "execution_count": 54,
      "metadata": {
        "id": "JlO6DzEqCn-Y"
      },
      "outputs": [
        {
          "name": "stdout",
          "output_type": "stream",
          "text": [
            "12\n",
            "18\n"
          ]
        }
      ],
      "source": [
        "import sys\n",
        "\n",
        "\n",
        "def BoyerMooreBC(genome, motif):\n",
        "    '''\n",
        "    Implemente l'agorithme Boyer Moore en utilisant uniquement la regle de bad Character\n",
        "    entrée genome : chaine de caracter representant le genome\n",
        "    entrée motif : le motif à chercher\n",
        "    sortie postition : position du motif dans le texte (-1) si il n'est pas trouvé  \n",
        "    '''\n",
        "    # postition = -1\n",
        "    l = len(motif)\n",
        "    tmp_pos = len(motif) - 1\n",
        "    badTab = badCharacter(motif)\n",
        "    goodSuffixTab = goodSuffix(motif)\n",
        "    # print(badTab)\n",
        "    while (tmp_pos <= len(genome) - 1):\n",
        "        for i in range(1, l + 1):\n",
        "            currentCharGenome = genome[tmp_pos - (i - 1)]\n",
        "            # print(genome[tmp_pos+1-l:tmp_pos+1], tmp_pos, currentCharGenome)\n",
        "            if (motif[-i] != currentCharGenome):\n",
        "\n",
        "                if (i > 1):\n",
        "                    currentMatchChars = motif[l - (i - 1):]\n",
        "                    goodTabSkip = goodSuffixTab[currentMatchChars]\n",
        "                else:\n",
        "                    goodTabSkip = 0\n",
        "\n",
        "                if currentCharGenome in badTab:\n",
        "                    badCharacterSkip = badTab[currentCharGenome]\n",
        "                else:\n",
        "                    badCharacterSkip = l\n",
        "\n",
        "                if badCharacterSkip >= goodTabSkip:\n",
        "                    tmp_pos += badCharacterSkip\n",
        "                else:\n",
        "                    tmp_pos += goodTabSkip\n",
        "                break\n",
        "            if (i == l):\n",
        "                return tmp_pos + 1 - l\n",
        "    return -1\n",
        "\n",
        "\n",
        "text = \"CGTGCCTACTTACTTACTTACTTACGCGAA\"\n",
        "motif = \"CTTACTTAC\"\n",
        "s = BoyerMooreBC(text, motif)\n",
        "print(s)  #12\n",
        "\n",
        "text = \"GTTATAGCTGATCGCGGCGTAGCGGCGAA\"\n",
        "motif = \"GTAGCGGCG\"\n",
        "s = BoyerMooreBC(text, motif)  #18\n",
        "print(s)\n"
      ]
    },
    {
      "cell_type": "markdown",
      "metadata": {
        "id": "hmedHvbACn-Z"
      },
      "source": [
        "7\\. Tester l'algorithme **Boyer Moore Algorithm** sur vos données de chipSeq. Vous pouvez chercher de motifs trouvés par les algorithms développé précédemment. Chercher toutes les occurences des motifs d'interets et comparer.\n",
        "N'oubliez pas de chercher les motifs dans le brin complémentaire et faire un merge de résultats."
      ]
    },
    {
      "cell_type": "code",
      "execution_count": 64,
      "metadata": {
        "id": "Dgi5ORJJCn-Z"
      },
      "outputs": [
        {
          "name": "stdout",
          "output_type": "stream",
          "text": [
            "TTACACGGCATAAATATTTACAACACATTTGATATACGTTTATCCGTATATGCAGGATTTAAAAAAGATCATATGACTGTCAACCGTACAAAACATCATTGGGAATTCACTCCTTACTATCCTTCCCATCTGGCCAATCACAGCAGAGAACAAGTTTTACCCTTGGATGTGTTGGGACTGGTCGAGAAGGGCACCCCTCGTATCGCTAACTTATTAGCCGGGTAAGTTGACTATAACTAACTCCTCACCACCCAATACATAGACTCTTTCTATTGTCGATCAAGAAGCATAAGTAGTCTGTAAAAATAGCAGCTACTTGTTGCTACTAGACCAGCATTGGGTTGATGTTAA\n",
            "0\n"
          ]
        }
      ],
      "source": [
        "def readFasta(genome):\n",
        "    sequence = []\n",
        "    file = open(genome, \"r\")\n",
        "    sequences = []\n",
        "    seq = \"\"\n",
        "    for s in file:\n",
        "        if s[0] != \">\":\n",
        "            seq += s.strip().upper()\n",
        "        else:\n",
        "            sequences.append(seq)\n",
        "            seq = \"\"\n",
        "    return sequences[1:]\n",
        "genome = \"Sequence_by_Peaks_2.fasta\"\n",
        "sequences = readFasta(genome)\n",
        "print(sequences[0])\n",
        "\n",
        "def reversecompl(seq):\n",
        "    \"\"\"Renvoie le brin complémentaire d’une séquence.\n",
        "    entrée : sequence de nucléotides (brin sens)\n",
        "    sortie : sequence de nucléotides (brin complementaire)\n",
        "    >>> reversecompl('AACGTGGCA')\n",
        "    'TGCCACGTT'\n",
        "    \"\"\"\n",
        "    compl = {'A': 'T', 'C': 'G', 'G': 'C', 'T':'A'}\n",
        "    res = ''\n",
        "    for index in range(len(seq)):\n",
        "        res += compl[seq[index].upper()]\n",
        "    return res[::-1]\n",
        "\n",
        "def chercheMotifBoyerMoureSingle(genome, motif):\n",
        "    \"\"\"\n",
        "    Chercher toutes les occurences d'ub motif d'interet avec l'algo boyer Moore\n",
        "    entrée genome : sequence nucleotidique\n",
        "    entrée motif : motif à chercher \n",
        "    sortie nb : nombre d'occurence du motif dans le genome \n",
        "    \"\"\"\n",
        "    #   for i in range(len(genome)):\n",
        "    l = len(motif)\n",
        "    tmp_pos = len(motif) - 1\n",
        "    badTab = badCharacter(motif)\n",
        "    goodSuffixTab = goodSuffix(motif)\n",
        "    indexes_match = list()\n",
        "    # for the whole sequence\n",
        "    while (tmp_pos <= len(genome) - 1):\n",
        "        \n",
        "        # compare the motif with current letter\n",
        "        for i in range(1, l + 1):\n",
        "            currentCharGenome = genome[tmp_pos - (i - 1)]\n",
        "            if (motif[l-i] != currentCharGenome):\n",
        "\n",
        "                if (i > 1):\n",
        "                    currentMatchChars = motif[l - (i - 1):]\n",
        "                    goodTabSkip = goodSuffixTab[currentMatchChars]\n",
        "                else:\n",
        "                    goodTabSkip = 0\n",
        "\n",
        "                if currentCharGenome in badTab:\n",
        "                    badCharacterSkip = badTab[currentCharGenome]\n",
        "                else:\n",
        "                    badCharacterSkip = l-i+1\n",
        "\n",
        "                if badCharacterSkip >= goodTabSkip:\n",
        "                    tmp_pos += badCharacterSkip\n",
        "                else:\n",
        "                    tmp_pos += goodTabSkip\n",
        "                break\n",
        "            if (i == l):\n",
        "                indexes_match.append(tmp_pos + 1 - l)\n",
        "                tmp_pos += l\n",
        "                break\n",
        "    return len(indexes_match)\n",
        "\n",
        "def chercheMotifBoyerMoure(genome, motif):\n",
        "    \"\"\"\n",
        "    Chercher toutes les occurences d'ub motif d'interet avec l'algo boyer Moore\n",
        "    entrée genome : sequence nucleotidique\n",
        "    entrée motif : motif à chercher \n",
        "    sortie nb : nombre d'occurence du motif dans le genome \n",
        "    \"\"\"\n",
        "    return chercheMotifBoyerMoureSingle(genome, motif) + chercheMotifBoyerMoureSingle(reversecompl(genome), motif)\n",
        "\n",
        "print(chercheMotifBoyerMoure(sequences[2], \"AATTTCTA\"))"
      ]
    },
    {
      "cell_type": "code",
      "execution_count": null,
      "metadata": {
        "id": "QKFtip-ICn-a"
      },
      "outputs": [],
      "source": []
    },
    {
      "cell_type": "markdown",
      "metadata": {
        "id": "AbQu4NSfCn-a"
      },
      "source": [
        "### B -  Index of fixed length words\n",
        "8\\. Faire une fonction pour indexer les positions d'occurrences de tous les mots de taille k dans un texte, la fonction doit renvoyer un dictionnaire ou les clés sont les mots et les valeurs les positions dans le texte."
      ]
    },
    {
      "cell_type": "code",
      "execution_count": 60,
      "metadata": {
        "colab": {
          "base_uri": "https://localhost:8080/"
        },
        "id": "jzo936laCn-a",
        "outputId": "5e4d7f85-4936-4cf8-8d44-6873516cd501"
      },
      "outputs": [
        {
          "name": "stdout",
          "output_type": "stream",
          "text": [
            "{'ab': [0, 4], 'bc': [1], 'cd': [2], 'da': [3, 6], 'bd': [5]}\n"
          ]
        }
      ],
      "source": [
        "def indexTable(k, texte):\n",
        "    \"\"\"\n",
        "    Indexer les positions d'occurrences de tous les mots de taille k dans un texte\n",
        "    entrée k : taille du motif\n",
        "    entrée texte : chaine de caractère représentant le génome\n",
        "    sortie indexes : dictionnaire ou les clés sont les mots et les valeurs les positions dans le texte.\n",
        "    \"\"\"\n",
        "    indexes  = dict()\n",
        "    l = len(texte)\n",
        "    for i in range(l-k+1):\n",
        "        mot = texte[i:i+k]\n",
        "        if mot in indexes:\n",
        "            indexes[mot].append(i)\n",
        "        else: \n",
        "            indexes[mot] = list()\n",
        "            indexes[mot].append(i)\n",
        "    return indexes\n",
        "\n",
        "inds = indexTable(2, \"abcdabda\") #{'ab': [0, 4], 'bc': [1], 'cd': [2], 'da': [3, 6], 'bd': [5]}\n",
        "print (inds)"
      ]
    },
    {
      "cell_type": "markdown",
      "metadata": {
        "id": "LM7VVxtWCn-c"
      },
      "source": [
        "9\\. Faire une fonction pour chercher toutes les occurences d'un motif dans un genome utilisant la table des indexes de la question 8"
      ]
    },
    {
      "cell_type": "code",
      "execution_count": null,
      "metadata": {
        "id": "BTJlVGogCn-c"
      },
      "outputs": [],
      "source": [
        "def hamdist(str1, str2):\n",
        "    \"\"\"\n",
        "    Calcul la distance de hamming entre deux chaînes de caractères\n",
        "    entrée str1: chaîne de caractères\n",
        "    entrée str2: chaîne de caractères\n",
        "    sortie distance: distance de hamming\n",
        "    \"\"\"\n",
        "    assert(len(str1) == len(str2))\n",
        "    return sum([1 if str1[i]!=str2[i] else 0 for i in range(len(str1))])\n",
        "\n",
        "def searchIndexTable(indexTable, k, motif, v):\n",
        "  \"\"\"\n",
        "  cherche les occurrences d'un motif dans un génome en permettant au maximum v variations \n",
        "  entrée indexTable : dictionnaire contenant les mots de taille k indexé sur le génome \n",
        "  entrée k : taille du motif \n",
        "  entrée motif : motif à chercher \n",
        "  entrée v : nombre de variations \n",
        "  sortie listMotif : liste de motifs dans le génome\n",
        "  \"\"\"\n",
        "  listMotif = []\n",
        "  l = len(motif)\n",
        "  # pour chaque mot de taille k\n",
        "  for i in range(len(motif)-k+1):\n",
        "        mot = motif[i:i+k]\n",
        "        listIndexMot = indexTable[mot]\n",
        "        for indexMot in listIndexMot:\n",
        "              # motDansTexte\n",
        "              pass\n",
        "\n",
        "  return listMotif\n",
        "\n",
        "    "
      ]
    },
    {
      "cell_type": "markdown",
      "metadata": {
        "id": "Ab90XjUGCn-c"
      },
      "source": [
        "10\\. Tester l'algorithme **Index of fixed length** words sur vos données de chipSeq. N'oubliez pas de chercher les motifs dans le brin complémentaire et faire un merge de résultats. Puis générér le LOGO du motif trouvé"
      ]
    },
    {
      "cell_type": "code",
      "execution_count": null,
      "metadata": {
        "id": "O96O4exmCn-c"
      },
      "outputs": [],
      "source": []
    },
    {
      "cell_type": "markdown",
      "metadata": {
        "id": "zkavuApHCn-d"
      },
      "source": [
        "### C -  Matrice de fréquences\n",
        "12\\.Nous allons implémenter la recherche de motif par matrice de fréquence. Nous allons utiliser les matrices déjà fabriqué que vous pouvez telecharcher du site http://jaspar.genereg.net/\n",
        "Une fois que vous avez chargé votre matrice de fréquence, vous devez la transformer en matrice de probabilité"
      ]
    },
    {
      "cell_type": "code",
      "execution_count": 81,
      "metadata": {
        "id": "3OQvYbMZCn-d"
      },
      "outputs": [
        {
          "name": "stdout",
          "output_type": "stream",
          "text": [
            "[[4.61155378e-01 2.49003984e-02 9.96015936e-04 9.97011952e-01\n",
            "  9.96015936e-04 7.96812749e-03 9.06374502e-02 5.98605578e-01]\n",
            " [8.66533865e-02 1.69322709e-02 2.29083665e-02 9.96015936e-04\n",
            "  9.97011952e-01 9.96015936e-04 1.98207171e-01 1.38446215e-01]\n",
            " [3.86454183e-01 9.96015936e-04 8.00796813e-01 9.96015936e-04\n",
            "  9.96015936e-04 9.90039841e-01 9.96015936e-04 1.62350598e-01]\n",
            " [6.57370518e-02 9.57171315e-01 1.75298805e-01 9.96015936e-04\n",
            "  9.96015936e-04 9.96015936e-04 7.10159363e-01 1.00597610e-01]]\n"
          ]
        }
      ],
      "source": [
        "import numpy as np\n",
        "\n",
        "nuc = ['A', 'C', 'G', 'T']\n",
        "q = 4\n",
        "\n",
        "#remplacer avec les donnees de la matrice que vous interesse.\n",
        "\n",
        "matrice = np.array([[462.00,24.00,0.00,1000.00,0.00,7.00,90.00,600.00],\n",
        "[86.00,16.00,22.00,0.00,1000.00,0.00,198.00,138.00],\n",
        "[387.00,0.00,803.00,0.00,0.00,993.00,0.00,162.00],\n",
        "[65.00,960.00,175.00,0.00,0.00,0.00,712.00,100.00]])\n",
        "\n",
        "\n",
        "def normalise(M):\n",
        "    \"\"\"\n",
        "    Normalise une matrice de frequence\n",
        "    entrée M : matrice à normaliser\n",
        "    sortie Mn : matrice normalisé\n",
        "    \"\"\"\n",
        "    q = 4\n",
        "    k = len(M[0])\n",
        "    M += np.ones((q, k))\n",
        "    q = len(nuc)\n",
        "    colSumList = np.sum(M, 0)\n",
        "    colSum = colSumList[0]\n",
        "    for i in range(1, len(colSumList)):\n",
        "        assert(colSumList[i] == colSum)\n",
        "    \n",
        "    # print(PWM)\n",
        "    return np.array([M[i, j]/colSum for i in range(q) for j in range(k)]).reshape(q, k)\n",
        "normalised_matrix = normalise(matrice)\n",
        "print(normalised_matrix)"
      ]
    },
    {
      "cell_type": "markdown",
      "metadata": {
        "id": "GWbpvjdLCn-d"
      },
      "source": [
        "12\\. Déterminer les paramètres f(0)(b) du modèle nul, où \n",
        "\\begin{equation}\n",
        "f^{(0)}(b) = \\frac 1L \\sum_{i=0}^{L-1} \\omega_i(b)\\ ,\n",
        "\\end{equation}"
      ]
    },
    {
      "cell_type": "code",
      "execution_count": 82,
      "metadata": {
        "id": "oP-SHzFICn-d",
        "outputId": "6d802350-f1fe-4b3c-dc09-885985550c72"
      },
      "outputs": [
        {
          "name": "stdout",
          "output_type": "stream",
          "text": [
            "[0.2727838645418327, 0.18276892430278885, 0.292953187250996, 0.25149402390438247]\n"
          ]
        }
      ],
      "source": [
        "def f0_calcule(PWM):\n",
        "\t\"\"\"\n",
        "\tCalcule les probabilités du modèle null (probabilités indépendant de positions)\n",
        "\tentrée PWM : matrice de poids positions\n",
        "\tsortie f0 : modèle null, liste de probabilités du modèle null\n",
        "\t\"\"\"\n",
        "\tavgs = np.mean(PWM, axis=1)\n",
        "\tf0 = [i for i in avgs]\n",
        "\treturn f0\n",
        "\n",
        "f_0 = f0_calcule(normalised_matrix)\n",
        "print (f_0)"
      ]
    },
    {
      "cell_type": "markdown",
      "metadata": {
        "id": "YE3jpfh5Cn-e"
      },
      "source": [
        "13\\.Faites une fonction pour calculer log-rapport de vraisemblancee, d'une sequence de taille k.\n",
        "\\begin{equation}\n",
        "\\label{eq:ll}\n",
        "\\ell(b_0,...,b_{k-1}) = \\log_2 \\frac {P(b_0,...,b_{k-1} | \\omega )\n",
        "}{P^{(0)}(b_0,...,b_{k-1})}\n",
        "= \\sum_{i=0}^{k-1} \\log_2 \\frac {\\omega_i(b_i)}{f^{(0)}(b_i)}\\ .\n",
        "\\end{equation}"
      ]
    },
    {
      "cell_type": "code",
      "execution_count": 92,
      "metadata": {
        "id": "msAGTcn_Cn-e"
      },
      "outputs": [
        {
          "name": "stdout",
          "output_type": "stream",
          "text": [
            "-19.01748391976125\n"
          ]
        }
      ],
      "source": [
        "def loglikehood(seq, PWM, f_0):\n",
        "\t\"\"\"\n",
        "\tcalcule le loglikehood d'une sequence \n",
        "\tentrée seq : sequence de taille k\n",
        "\tentrée PWM : matrice de poids positions\n",
        "\tentrée f0 : modèle null\n",
        "\t\"\"\"\n",
        "\t\n",
        "\tlogLike = 0\n",
        "\tl = len(seq)\n",
        "\tligneI = {nuc[i]:i for i in range(len(nuc))}\n",
        "\tmatN = normalise(PWM)\n",
        "\tfor col in range(l):\n",
        "\t\tnucl = seq[col]\n",
        "\t\tlogLike+=np.log2(matN[ligneI[nucl], col]/f_0[ligneI[nucl]])\n",
        "\treturn logLike\n",
        "\n",
        "print(loglikehood(\"AAAAAAAA\", matrice, f0_calcule(normalised_matrix)))"
      ]
    },
    {
      "cell_type": "markdown",
      "metadata": {
        "id": "nZYLXP2HCn-e"
      },
      "source": [
        "14\\.Tester l'algorithme sur vos données de chipSeq. Vous devez parcourir les séquences et extraire les motifs ayant  log-rapport de vraisemblance positive.\n",
        "N'oubliez pas de chercher les motifs dans le brin complémentaire et faire un merge de résultats. Puis générér le LOGO du motif trouvé "
      ]
    },
    {
      "cell_type": "code",
      "execution_count": null,
      "metadata": {
        "id": "cyuRQS9UCn-f"
      },
      "outputs": [],
      "source": []
    }
  ],
  "metadata": {
    "celltoolbar": "Raw Cell Format",
    "colab": {
      "collapsed_sections": [],
      "name": "TME8_2022.ipynb",
      "provenance": []
    },
    "kernelspec": {
      "display_name": "Python 3",
      "language": "python",
      "name": "python3"
    },
    "language_info": {
      "codemirror_mode": {
        "name": "ipython",
        "version": 3
      },
      "file_extension": ".py",
      "mimetype": "text/x-python",
      "name": "python",
      "nbconvert_exporter": "python",
      "pygments_lexer": "ipython3",
      "version": "3.8.10"
    }
  },
  "nbformat": 4,
  "nbformat_minor": 0
}
