{
 "cells": [
  {
   "cell_type": "markdown",
   "metadata": {
    "id": "7OM9MVTO0jzX"
   },
   "source": [
    "# TME 2 : Prédiction de gènes - Détection de gènes candidats\n",
    "\n",
    "Le but de ce TME est d’annoter les régions dans le génome qui correspondent à des gènes. Nous allons prendre en compte les différents éléments qui définissent un gène pour pouvoir déterminer les candidats à des régions codantes : phases ouvertes de lecture, propriétés statistiques du code génétique, et comparer les résultats avec l’annotation qui est disponible. \n",
    "Nous nous baserons sur le génome de _Bifidobacterium actinocoloniiforme_ que nous avons commencé à analyser au TME précédent, avec ses annotations et au génome de _Escherichia coli_\n"
   ]
  },
  {
   "cell_type": "markdown",
   "metadata": {
    "id": "cQeEBXxUF9A5"
   },
   "source": [
    "**Nom etudiant 1 : LI Junji**\n",
    "\n",
    "**Nom etudiant 2 : BABAALI Mohamed**"
   ]
  },
  {
   "cell_type": "markdown",
   "metadata": {
    "id": "QTgZfPwE0jzc"
   },
   "source": [
    "### A) Mise en route,  télécharger et preparer les données"
   ]
  },
  {
   "cell_type": "markdown",
   "metadata": {
    "id": "db238O2w0jzd"
   },
   "source": [
    "<b>Question 1)</b> Adapter les commandes du TME précédent pour télécharger le génome de _E. coli_ ainsi que ses annotations"
   ]
  },
  {
   "cell_type": "markdown",
   "metadata": {
    "id": "4TRTpTg90jze"
   },
   "source": [
    "\n",
    "ftp://ftp.ncbi.nlm.nih.gov/genomes/all/GCF/000/026/345/GCF_000026345.1_ASM2634v1/GCF_000026345.1_ASM2634v1_genomic.fna.gz\n",
    "\n",
    "ftp://ftp.ncbi.nlm.nih.gov/genomes/all/GCF/000/026/345/GCF_000026345.1_ASM2634v1/GCF_000026345.1_ASM2634v1_feature_table.txt.gz\n"
   ]
  },
  {
   "cell_type": "code",
   "execution_count": 15,
   "metadata": {
    "id": "6zJGsrRa0jze"
   },
   "outputs": [],
   "source": [
    "import urllib.request\n",
    "#Utliser la fonction urllib.request.urlretrieve(path)"
   ]
  },
  {
   "cell_type": "code",
   "execution_count": 13,
   "metadata": {
    "id": "_BxtDpKN46Ku"
   },
   "outputs": [
    {
     "data": {
      "text/plain": [
       "('_genomic.fna.gz', <email.message.Message at 0x7efecd4b7358>)"
      ]
     },
     "execution_count": 13,
     "metadata": {},
     "output_type": "execute_result"
    }
   ],
   "source": [
    "#download _genomic.fna.gz\n",
    "urllib.request.urlretrieve(\"ftp://ftp.ncbi.nlm.nih.gov/genomes/all/GCF/000/026/345/GCF_000026345.1_ASM2634v1/GCF_000026345.1_ASM2634v1_genomic.fna.gz\", \"_genomic.fna.gz\")"
   ]
  },
  {
   "cell_type": "code",
   "execution_count": 14,
   "metadata": {
    "id": "1yCPBPfX0jzg"
   },
   "outputs": [
    {
     "data": {
      "text/plain": [
       "('_feature_table.txt.gz', <email.message.Message at 0x7efecd4b7438>)"
      ]
     },
     "execution_count": 14,
     "metadata": {},
     "output_type": "execute_result"
    }
   ],
   "source": [
    "#download _feature_table.txt.gz\n",
    "urllib.request.urlretrieve(\"ftp://ftp.ncbi.nlm.nih.gov/genomes/all/GCF/000/026/345/GCF_000026345.1_ASM2634v1/GCF_000026345.1_ASM2634v1_feature_table.txt.gz\", \"_feature_table.txt.gz\")\n"
   ]
  },
  {
   "cell_type": "markdown",
   "metadata": {
    "id": "PFCOUdML0jzh"
   },
   "source": [
    "<b>Question 2)</b> Decompresser les fichiers"
   ]
  },
  {
   "cell_type": "code",
   "execution_count": 17,
   "metadata": {
    "id": "P1QGNVKK0jzh"
   },
   "outputs": [],
   "source": [
    "import gzip\n",
    "import shutil"
   ]
  },
  {
   "cell_type": "code",
   "execution_count": 18,
   "metadata": {
    "id": "9iaqnOLF0jzi"
   },
   "outputs": [],
   "source": [
    "#Decompresser _genomic.fna.gz\n",
    "with gzip.open('_genomic.fna.gz', 'rb') as f_in:\n",
    "    with open('_genomic.fna', 'wb') as f_out:\n",
    "        shutil.copyfileobj(f_in, f_out)"
   ]
  },
  {
   "cell_type": "code",
   "execution_count": 19,
   "metadata": {
    "id": "I6pdCTwB0jzj"
   },
   "outputs": [],
   "source": [
    "#Decompresser _feature_table.txt.gz\n",
    "with gzip.open('_feature_table.txt.gz', 'rb') as f_in:\n",
    "    with open('_feature_table.txt', 'wb') as f_out:\n",
    "        shutil.copyfileobj(f_in, f_out)"
   ]
  },
  {
   "cell_type": "markdown",
   "metadata": {
    "id": "ErLw46WB0jzk"
   },
   "source": [
    "<b>Question 3)</b> Exécuter le code ci-dessous qui va créer un dictionnaire pour représenter le code genetique. Vous avez également deux jeu de séquences pour tester les prochaines fonctions."
   ]
  },
  {
   "cell_type": "code",
   "execution_count": 77,
   "metadata": {
    "id": "3_O42GrW0jzk"
   },
   "outputs": [],
   "source": [
    "# Dictionnaire codons -> acides aminés. Les codons stops sont représentés\n",
    "# avec le caractère \"*\"\n",
    "CODEGENETIQUE = {\n",
    "    \"TTT\": \"F\", \"TTC\": \"F\",\"TTA\": \"L\",\"TTG\": \"L\",\"TCT\": \"S\",\"TCC\": \"S\",\"TCA\": \"S\",\"TCG\": \"S\",\"TAT\": \"Y\",\"TAC\": \"Y\",\n",
    "    \"TAA\": \"*\",\"TAG\": \"*\",\"TGT\": \"C\",\"TGC\": \"C\",\"TGA\": \"*\",\"TGG\": \"W\",\"CTT\": \"L\",\"CTC\": \"L\",\"CTA\": \"L\",\"CTG\": \"L\",\n",
    "    \"CCT\": \"P\",\"CCC\": \"P\",\"CCA\": \"P\",\"CCG\": \"P\",\"CAT\": \"H\",\"CAC\": \"H\",\"CAA\": \"Q\",\"CAG\": \"Q\",\"CGT\": \"R\",\"CGC\": \"R\",\n",
    "    \"CGA\": \"R\",\"CGG\": \"R\",\"ATT\": \"I\",\"ATC\": \"I\",\"ATA\": \"I\",\"ATG\": \"M\",\"ACT\": \"T\",\"ACC\": \"T\",\"ACA\": \"T\",\"ACG\": \"T\",\n",
    "    \"AAT\": \"N\",\"AAC\": \"N\",\"AAA\": \"K\",\"AAG\": \"K\",\"AGT\": \"S\",\"AGC\": \"S\",\"AGA\": \"R\",\"AGG\": \"R\",\"GTT\": \"V\",\"GTC\": \"V\",\n",
    "    \"GTA\": \"V\",\"GTG\": \"V\",\"GCT\": \"A\",\"GCC\": \"A\",\"GCA\": \"A\",\"GCG\": \"A\",\"GAT\": \"D\",\"GAC\": \"D\",\"GAA\": \"E\",\"GAG\": \"E\",\n",
    "    \"GGT\": \"G\",\"GGC\": \"G\",\"GGA\": \"G\",\"GGG\": \"G\"\n",
    "}\n",
    "\n",
    "# Utiliser les sequences TESTSEQ et TESTSEQCLEAN pour tester vos fonctions\n",
    "TESTSEQ = \"ATGAAACGCATTAGCMMCACCATTACCACCACCATCACCATTACCACAGKTAACGGTGCGGGCTGA\"\n",
    "TESTSEQCLEAN = \"ATGAAACGCATTAGCACCACCATTACCACCACCATCACCATTACCACAGGTAACGGTGCGGGCTGA\""
   ]
  },
  {
   "cell_type": "markdown",
   "metadata": {
    "id": "_-vDgNrv0jzm"
   },
   "source": [
    "### B) Annotation des phases ouvertes de lecture et traduction en séquence protéique\n",
    "\n",
    "<b>Question 1)</b> Parfois dans les génomes (représentés par des fichiers numériques), nous trouvons des nucléotides qui n'ont pas été correctement identifiés par la machine de séquençage. Certains instruments nous restreignent les possibilités à un sous-ensemble de nucléotides. Ecrire une fonction `remplace_non_identifies` qui remplace les nucléotides non identifiés par une des possibilités listées ci-dessous de façon aléatoire.<br>\n",
    "\n",
    "R = G,A (purine)<br>\n",
    "Y = T,C (pyrimidine)<br>\n",
    "K = G,T (céto)<br>\n",
    "M = A,C (amino)<br>\n",
    "S = G,C (obligations solides)<br>\n",
    "W = A,T (Les liaisons faibles)<br>\n",
    "B = G,T,C (tous sauf A)<br>\n",
    "D = G,A,T (tous sauf C)<br>\n",
    "H = A,C,T (tous sauf G)<br>\n",
    "V = G,C,A (tous sauf T)<br>\n",
    "N = A,G,C,T (any)<br>\n",
    "X = A,G,C,T (any)<br>\n",
    "\n"
   ]
  },
  {
   "cell_type": "code",
   "execution_count": 78,
   "metadata": {
    "id": "4S-H90IV0jzn"
   },
   "outputs": [],
   "source": [
    "import doctest # C’est pour pouvoir utiliser doctest.testmod() et tester les fonctions\n",
    "import random"
   ]
  },
  {
   "cell_type": "code",
   "execution_count": 79,
   "metadata": {
    "id": "iGxQjxVA0jzn"
   },
   "outputs": [
    {
     "data": {
      "text/plain": [
       "'A'"
      ]
     },
     "execution_count": 79,
     "metadata": {},
     "output_type": "execute_result"
    }
   ],
   "source": [
    "random.choice(['A', 'C', 'T', 'G'])"
   ]
  },
  {
   "cell_type": "code",
   "execution_count": 80,
   "metadata": {
    "id": "ACYGljKf0jzo"
   },
   "outputs": [
    {
     "data": {
      "text/plain": [
       "'ATGAAACGCATTAGCAACACCATTACCACCACCATCACCATTACCACAGGTAACGGTGCGGGCTGA'"
      ]
     },
     "execution_count": 80,
     "metadata": {},
     "output_type": "execute_result"
    }
   ],
   "source": [
    "def remplace_non_identifies(seq):\n",
    "    \"\"\"\n",
    "    Remplace les nucléotides non identifiés par une des possibilités de façon aléatoire.\n",
    "    entrée : sequence ayant peut-etre des nucleotides non identifiés\n",
    "    sortie : sequence (nettoyé) sans nucléotides non identifiés \n",
    "    >>> remplace_non_identifies(TESTSEQCLEAN)\n",
    "    'ATGAAACGCATTAGCACCACCATTACCACCACCATCACCATTACCACAGGTAACGGTGCGGGCTGA'\n",
    "    \"\"\"\n",
    "    options = {\n",
    "        \"R\": [\"G\", \"A\"],\n",
    "        \"Y\": [\"T\", \"C\"],\n",
    "        \"K\": [\"G\", \"T\"],\n",
    "        \"M\": [\"A\", \"C\"],\n",
    "        \"S\": [\"G\", \"C\"],\n",
    "        \"W\": [\"A\", \"T\"],\n",
    "        \"B\": [\"G\", \"T\", \"C\"],\n",
    "        \"D\": [\"G\", \"A\", \"T\"],\n",
    "        \"H\": [\"A\", \"C\", \"T\"],\n",
    "        \"V\": [\"G\", \"C\", \"A\"],\n",
    "        \"N\": [\"A\", \"G\", \"C\", \"T\"],\n",
    "        \"X\": [\"A\", \"G\", \"C\", \"T\"]\n",
    "    }\n",
    "    res = \"\"\n",
    "    for index in range(len(seq)):\n",
    "        if seq[index] in options:\n",
    "            res += random.choice(options[seq[index]])\n",
    "        else:\n",
    "            res += seq[index]\n",
    "    return res\n",
    "\n",
    "doctest.testmod()\n",
    "\n",
    "remplace_non_identifies(TESTSEQ)"
   ]
  },
  {
   "cell_type": "markdown",
   "metadata": {
    "id": "QSEvMd6o0jzo"
   },
   "source": [
    "<b>Question 2)</b> Ecrire une fonction `listecodon` qui renvoie une liste de codons pour une séquence passée en paramètre. Par exemple, si on passe la séquence ``AACGTGGCA`` comme paramètre votre fonction doit renvoyer ``[‘AAC’, ‘GTG’, ‘GCA’]``. Si la longueur de la séquence n'est pas un multiple de 3 on ne tiendra pas compte des 1 ou 2 nucléotides restant à la fin.\n"
   ]
  },
  {
   "cell_type": "code",
   "execution_count": 81,
   "metadata": {
    "id": "WU87_kH40jzo"
   },
   "outputs": [],
   "source": [
    "#Pour avoir une aide sur la documentation de python\n",
    "?range"
   ]
  },
  {
   "cell_type": "code",
   "execution_count": 82,
   "metadata": {
    "id": "CzvgrhiY0jzp"
   },
   "outputs": [],
   "source": [
    "# Question 2\n",
    "def listecodon(seq):\n",
    "    \"\"\"\n",
    "    Renvoie une liste de codons pour une séquence passée en paramètre.\n",
    "    entrée : sequence de nucléotides\n",
    "    sortie : list de codons de la sequence d'entrée\n",
    "\n",
    "    Si la longueur de la séquence n'est pas un multiple de 3 elle ne tiendra pas \n",
    "    compte des 1 ou 2 nucléotides restant à la fin.\n",
    "    \n",
    "    >>> listecodon('AAACCC')\n",
    "    ['AAA', 'CCC']\n",
    "    >>> listecodon('AAACC')\n",
    "    ['AAA']\n",
    "    >>> listecodon('AAAC')\n",
    "    ['AAA']\n",
    "    \"\"\"\n",
    "    \n",
    "    seq3x = seq[:(len(seq)//3)*3]\n",
    "    return [seq3x[i:i+3] for i in range(0, len(seq3x), 3)]\n",
    "\n",
    "doctest.testmod()\n",
    "\n",
    "assert listecodon(TESTSEQCLEAN) == [\n",
    "    'ATG', 'AAA', 'CGC', 'ATT', 'AGC', 'ACC', 'ACC', 'ATT', 'ACC', 'ACC',\n",
    "    'ACC', 'ATC', 'ACC', 'ATT', 'ACC', 'ACA', 'GGT', 'AAC', 'GGT', 'GCG',\n",
    "    'GGC', 'TGA']"
   ]
  },
  {
   "cell_type": "markdown",
   "metadata": {
    "id": "KPjayFLC0jzp"
   },
   "source": [
    "<b>Question 3)</b> Ecrire une fonction `reversecompl` qui renvoie le brin complémentaire d’une séquence passée en paramètre. Par exemple, si on passe la séquence ``AACGTGGCA`` comme paramètre votre fonction doit renvoyer ``TGCCACGTT``.\n"
   ]
  },
  {
   "cell_type": "code",
   "execution_count": 83,
   "metadata": {
    "id": "4vAcdo0b0jzq"
   },
   "outputs": [
    {
     "name": "stdout",
     "output_type": "stream",
     "text": [
      "TGCCACGTT\n"
     ]
    }
   ],
   "source": [
    "# Question 3\n",
    "def reversecompl(seq):\n",
    "    \"\"\"Renvoie le brin complémentaire d’une séquence.\n",
    "    entrée : sequence de nucléotides (brin sens)\n",
    "    sortie : sequence de nucléotides (brin complementaire)\n",
    "    >>> reversecompl('AACGTGGCA')\n",
    "    'TGCCACGTT'\n",
    "    \"\"\"\n",
    "    compl = {'A': 'T', 'C': 'G', 'G': 'C', 'T':'A'}\n",
    "    res = ''\n",
    "    for index in range(len(seq)):\n",
    "        res += compl[seq[index]]\n",
    "    return res[::-1]\n",
    "\n",
    "print (reversecompl('AACGTGGCA'))\n",
    "assert reversecompl(TESTSEQCLEAN) == \"TCAGCCCGCACCGTTACCTGTGGTAATGGTGATGGTGGTGGTAATGGTGGTGCTAATGCGTTTCAT\""
   ]
  },
  {
   "cell_type": "markdown",
   "metadata": {
    "id": "VxmjK5xnBCiY"
   },
   "source": [
    "<b>Question 4-a)</b> Ecrire une fonction `trouve_positions_orfs` qui etant donnée une liste de codon retourne les positions (start, stop) de cadre ouverts de la liste des codons, c'est à dire la séquence commençant par un des codons start: ``ATG``, ``GTG``, ``TTG`` (``ATG`` est le plus fréquent) et finissant par un des codons stop : ``TAA``, ``TAG``, ``TGA``.\n",
    "\n",
    "Note : si plusieurs start sont trouvés dans la liste de codons, l'orf débute par conventions au start le plus en amont. <br>\n"
   ]
  },
  {
   "cell_type": "code",
   "execution_count": 84,
   "metadata": {
    "id": "5QpFNQtFB_iY"
   },
   "outputs": [],
   "source": [
    "def trouver_positions_orfs(codons):\n",
    "    \"\"\"Retourne les positions de cadre ouverts de la liste des codons.\n",
    "    entrée : liste de codons\n",
    "    sortie : les positions [start] et [stop] de cadre ouverts de la liste des codons\n",
    "    \n",
    "    >>> trouver_positions_orfs(['ATG', 'AAA', 'CGC', 'ATT', 'TAG', 'ATG', 'ACC', 'ATT', 'ACC', 'ACC', 'ACC', 'ATC', 'ACC', 'ATT', 'ACC', 'ACA', 'GGT', 'AAC', 'TGA', 'GGT', 'GCG', 'GGC'])\n",
    "    ([0, 5], [4, 18])\n",
    "    \"\"\"\n",
    "    starts = [i for i, codon in enumerate(codons) if codon in {'ATG', 'GTG', 'TTG'}] #positions de tous les starts dans codons\n",
    "    stops =  [i for i, codon in enumerate(codons) if codon in {'TAA', 'TAG', 'TGA'}] #positions de tous les stops  dans codons\n",
    "    \n",
    "   \n",
    "    orf_starts = [] #renvoie la liste de positions de codons start\n",
    "    orf_stops = []  #renvoie la liste de positions de codons stop, les deux liste ont la meme taille et sont de pair start/stop \n",
    "    \n",
    "    if len(starts)== 0 or len(stops) == 0:\n",
    "        return (orf_starts, orf_stops)\n",
    "    \n",
    "    starts_index = stops_index = last_starts_index = last_stops_index = 0\n",
    "    \n",
    "    orf_starts.append(starts[starts_index])\n",
    "\n",
    "    count_append = 1\n",
    "    \n",
    "    while starts_index < len(starts) and stops_index < len(stops):\n",
    "        if count_append%2 == 0: # append start\n",
    "            starts_index += 1\n",
    "            if starts_index >= len(starts):\n",
    "                break\n",
    "            if(starts[starts_index] > stops[last_stops_index]):\n",
    "                orf_starts.append(starts[starts_index])\n",
    "                last_starts_index = starts_index\n",
    "                count_append += 1\n",
    "            \n",
    "        else: # count_append//2 == 1, append stop\n",
    "            if(stops[stops_index] > starts[last_starts_index]):\n",
    "                orf_stops.append(stops[stops_index])\n",
    "                last_stops_index = stops_index\n",
    "                count_append += 1\n",
    "            stops_index += 1\n",
    "    \n",
    "    if count_append%2 == 1:\n",
    "        orf_starts.pop()\n",
    "\n",
    "    return (orf_starts, orf_stops)\n",
    "\n",
    "# doctest.testmod()"
   ]
  },
  {
   "cell_type": "markdown",
   "metadata": {
    "id": "LOnkgyEC0jzq"
   },
   "source": [
    "<b>Question 4-b)</b> Ecrire une fonction `liste_orfs` qui retourne la liste de tous les cadres ouverts de lectures, c'est à dire les séquence commençant par un des codons start: ``ATG``, ``GTG``, ``TTG`` (``ATG`` est le plus fréquent) et finissant par un des codons stop : ``TAA``, ``TAG``, ``TGA``. Vous renverrez les séquences pour les 6 phases de lecture (3 pour le brin sens et 3 pour le brin complémentaire). Ces séquences sont nommées séquences CDS (pour _CoDing Sequences_ en anglais) et les phases ouvertes de lecture ORFS (pour _Open Reading Frame_). <br>\n",
    "\n",
    "**Note 1**: Coder d'abord la fonction `liste_orfs_sens` qui retourne la liste de trois cadres ouverts de lectures du brin sens. Pour retourver la liste de trois cadres ouverts de lectures du brin complementaire, vous pouvez combiner les deux fonctions `reversecompl` et `liste_orfs_sens`\n",
    "\n",
    "**Note 2**: Vous pouvez utiliser les fonctions precedents tels que `listecodon` et `trouver_position_orfs`\n",
    "\n",
    "\n"
   ]
  },
  {
   "cell_type": "code",
   "execution_count": 85,
   "metadata": {
    "id": "2xB-LoI_0jzq"
   },
   "outputs": [
    {
     "data": {
      "text/plain": [
       "TestResults(failed=0, attempted=12)"
      ]
     },
     "execution_count": 85,
     "metadata": {},
     "output_type": "execute_result"
    }
   ],
   "source": [
    "# Question 4\n",
    "\n",
    "\n",
    "\n",
    "def liste_orfs_sens(seq):\n",
    "    \"\"\"\n",
    "    Liste de tous les cadres ouverts de lectures du brin sens.\n",
    "    entrée : sequence de nucléotides \n",
    "    sortie : liste contenant tous les cadres ouverts de lectures\n",
    "    >>> sorted(liste_orfs_sens('AAATGATGTAATAGTGTTTTGATTAGGGCAT'))\n",
    "    ['ATGATGTAA', 'GTGTTTTGA']\n",
    "    \"\"\"\n",
    "    orfs = []\n",
    "    cadres = [listecodon(seq), listecodon(seq[1:]), listecodon(seq[2:])]\n",
    "    for i_cadre in range(3):\n",
    "        (start_liste, stop_liste) = trouver_positions_orfs(cadres[i_cadre])\n",
    "        assert(len(start_liste) == len(stop_liste))\n",
    "        for index in range(len(start_liste)):\n",
    "            start_pos = start_liste[index]\n",
    "            stop_pos = stop_liste[index]\n",
    "            orfs.append(''.join(cadres[i_cadre][start_pos:stop_pos+1]))\n",
    "    return orfs\n",
    "\n",
    "\n",
    "sorted(liste_orfs_sens('AAATGATGTAATAGTGTTTTGATTAGGGCAT'))\n",
    "\n",
    "\n",
    "def liste_orfs(seq):\n",
    "    \"\"\"\n",
    "    Liste de tous les cadres ouverts de lectures du brin sens et complementaire.\n",
    "    entrée : sequence de nucléotides \n",
    "    sortie : liste contenant tous les cadres ouverts de lectures      \n",
    "    >>> sorted(liste_orfs('AAATGATGTAATAAGTTTTGATTAGGGTA'))\n",
    "    ['ATGATGTAA']\n",
    "    >>> sorted(liste_orfs('AAATGATGTAATAGTGTTTTGATTAGGGCAT'))\n",
    "    ['ATGATGTAA', 'ATGCCCTAA', 'GTGTTTTGA']\n",
    "    \"\"\"\n",
    "    return liste_orfs_sens(seq) + liste_orfs_sens(reversecompl(seq))\n",
    "\n",
    "doctest.testmod()"
   ]
  },
  {
   "cell_type": "code",
   "execution_count": 86,
   "metadata": {
    "id": "LOpsWzuI0jzs"
   },
   "outputs": [
    {
     "data": {
      "text/plain": [
       "['ATGAAACGCATTAGCACCACCATTACCACCACCATCACCATTACCACAGGTAACGGTGCGGGCTGA']"
      ]
     },
     "execution_count": 86,
     "metadata": {},
     "output_type": "execute_result"
    }
   ],
   "source": [
    " liste_orfs(TESTSEQCLEAN)"
   ]
  },
  {
   "cell_type": "markdown",
   "metadata": {
    "id": "64cnu90R0jzs"
   },
   "source": [
    "Voici un code efficaz qui utilise Regular Expression"
   ]
  },
  {
   "cell_type": "code",
   "execution_count": 87,
   "metadata": {
    "id": "CI5yrmsR0jzs"
   },
   "outputs": [],
   "source": [
    "import re"
   ]
  },
  {
   "cell_type": "code",
   "execution_count": 88,
   "metadata": {
    "id": "mmtiYC9c0jzs"
   },
   "outputs": [
    {
     "data": {
      "text/plain": [
       "['ATGATGTAA', 'GTGTTTTGA']"
      ]
     },
     "execution_count": 88,
     "metadata": {},
     "output_type": "execute_result"
    }
   ],
   "source": [
    "[\n",
    "    match.group()\n",
    "    for match in re.finditer('((ATG|GTG|TTG)((?!TAA|TAG|TGA)[ACTG]{3})*(TAA|TAG|TGA))',\n",
    "                             'AAATGATGTAATAGTGTTTTGATTAGGGCAT')\n",
    "]"
   ]
  },
  {
   "cell_type": "code",
   "execution_count": 89,
   "metadata": {
    "id": "lZlihwkq0jzt"
   },
   "outputs": [
    {
     "data": {
      "text/plain": [
       "TestResults(failed=0, attempted=12)"
      ]
     },
     "execution_count": 89,
     "metadata": {},
     "output_type": "execute_result"
    }
   ],
   "source": [
    "def __liste_orfs_sens(seq):\n",
    "    \"\"\"Retourne la liste des cadres ouverts de lecture, sens 5' vers 3'.\n",
    "    entrée : sequence de nucléotides \n",
    "    sortie : liste contenant tous les cadres ouverts de lectures\n",
    "    >>> sorted(__liste_orfs_sens('AAATGATGTAATAGTGTTTTGATTAGGGCAT'))\n",
    "    ['ATGATGTAA', 'GTGTTTTGA']\n",
    "    \"\"\"\n",
    "    return [\n",
    "        match.group() for match in re.finditer(\n",
    "            '((ATG|GTG|TTG)((?!TAA|TAG|TGA)([ACTG][ACTG][ACTG]))*(TAA|TAG|TGA))',\n",
    "            seq)\n",
    "    ]\n",
    "\n",
    "\n",
    "def __liste_orfs(seq):\n",
    "    \"\"\"\n",
    "    Retourne la liste de tous les cadres ouverts de lectures.\n",
    "    entrée : sequence de nucléotides\n",
    "    sortie : liste des cadres ouverts de lecture\n",
    "        \n",
    "    >>> sorted(__liste_orfs('AAATGATGTAATAGTGTTTTGATTAGGGCAT'))\n",
    "    ['ATGATGTAA', 'ATGCCCTAA', 'GTGTTTTGA']\n",
    "    \n",
    "    >>> sorted(__liste_orfs('AAATGATGTAATAAGTTTTGATTAGGGTA'))\n",
    "    ['ATGATGTAA']\n",
    "    \"\"\"\n",
    "    liste = __liste_orfs_sens(seq)\n",
    "    liste.extend(__liste_orfs_sens(reversecompl(seq)))\n",
    "    return liste\n",
    "\n",
    "sorted(__liste_orfs('AAATGATGTAATAGTGTTTTGATTAGGGCAT'))\n",
    "doctest.testmod()\n"
   ]
  },
  {
   "cell_type": "code",
   "execution_count": 90,
   "metadata": {
    "colab": {
     "base_uri": "https://localhost:8080/"
    },
    "id": "Ejn8vywF0jzt",
    "outputId": "3adb9505-86ab-4045-b0c3-435c2b1a8531"
   },
   "outputs": [
    {
     "data": {
      "text/plain": [
       "['ATGAAACGCATTAGCACCACCATTACCACCACCATCACCATTACCACAGGTAACGGTGCGGGCTGA']"
      ]
     },
     "execution_count": 90,
     "metadata": {},
     "output_type": "execute_result"
    }
   ],
   "source": [
    "__liste_orfs(TESTSEQCLEAN)"
   ]
  },
  {
   "cell_type": "markdown",
   "metadata": {
    "id": "VdHtT71c0jzt"
   },
   "source": [
    "<b>Question 5)</b> Développez une fonction `traduit_prot` qui étant donné un gène renvoie la protéine traduite. Utilisez le dictionnaire définit ci dessous."
   ]
  },
  {
   "cell_type": "code",
   "execution_count": 91,
   "metadata": {
    "id": "KBbAJAzg0jzt"
   },
   "outputs": [],
   "source": [
    "# Question 5\n",
    "def traduit_prot(seq, codegenetique=CODEGENETIQUE):\n",
    "    \"\"\"Renvoie la protéine traduite, par défaut il utilise CODEGENETIQUE.\n",
    "    entrée : sequence de nucléotides representant une ORF\n",
    "    sortie : sequence de acid aminé\n",
    "    \"\"\"\n",
    "    return \"\".join([codegenetique[seq[i:i+3]] for i in range(0, len(seq), 3)])\n",
    "\n",
    "\n",
    "assert traduit_prot(TESTSEQCLEAN) == \"MKRISTTITTTITITTGNGAG*\""
   ]
  },
  {
   "cell_type": "markdown",
   "metadata": {
    "id": "IFPXgB_V0jzu"
   },
   "source": [
    "### C) Analyse des phases ouvertes de lecture\n",
    "\n",
    "<b>Question 1)</b> Utilisez votre fonction `liste_orfs` qui trouve toutes les ORFs pour ne trouver que les ORFs d’un génome sur le brin sens, c'est à dire pour trois premières phases. Sauvegarder l'ensemble des ORFs trouvé dans un fichier de type fasta. Ci-dessous de bout de code pour vous aider.\n"
   ]
  },
  {
   "cell_type": "code",
   "execution_count": 92,
   "metadata": {
    "id": "LYb5FU6r0jzu"
   },
   "outputs": [],
   "source": [
    "# charger un fichier fasta \n",
    "def read_fasta(filename):\n",
    "    \"\"\"Lire un fichier fasta dans un dict à partir des identifiants des séquences.\n",
    "    entrée : nom du fichier fasta qui contient le genome\n",
    "    sortie : dictionaire cle=identifiant valeur=sequence\n",
    "    \"\"\"\n",
    "    seqs = {}\n",
    "    with open(filename, 'r') as file:\n",
    "        seqid = ''\n",
    "        seq = ''\n",
    "        for line in file:\n",
    "            if line.startswith('>'):\n",
    "                if seqid != '':\n",
    "                    seqs[seqid] = seq\n",
    "                else:\n",
    "                    seq = ''\n",
    "                seqid = line.replace('>', '').strip()\n",
    "            else:\n",
    "                seq = seq + line.strip()\n",
    "        seqs[seqid] = seq\n",
    "\n",
    "    return seqs"
   ]
  },
  {
   "cell_type": "code",
   "execution_count": 93,
   "metadata": {
    "id": "jD4wA2g00jzv"
   },
   "outputs": [],
   "source": [
    "# sauvegarder un fichier fasta avec les ORFs\n",
    "def write_fasta(filename, sequences):\n",
    "    \"\"\"Ecriver un fichier fasta à partir d'une liste de séquences.\n",
    "    entrée : nom du fichier fasta et ensemble de sequences\n",
    "    sortie : None\n",
    "    \"\"\"\n",
    "    with open(filename, 'w') as file:\n",
    "        counter = 0\n",
    "        for seq in sequences:\n",
    "            file.write('>seq_{}\\n{}\\n'.format(counter, seq))\n",
    "            counter += 1"
   ]
  },
  {
   "cell_type": "code",
   "execution_count": 94,
   "metadata": {
    "id": "1VHyHrYN0jzv"
   },
   "outputs": [],
   "source": [
    "# Montrer les 10 premières lignes d'un fichier\n",
    "def head(filename):\n",
    "    \"\"\"Montrer les 10 premières lignes d'un fichier.\n",
    "    entrée : nom du fichier\n",
    "    sortie : None\n",
    "    \"\"\"\n",
    "    with open(filename) as file:\n",
    "        counter = 0\n",
    "        for line in file:\n",
    "            print(line.strip())\n",
    "            counter += 1\n",
    "            if counter == 10:\n",
    "                break"
   ]
  },
  {
   "cell_type": "code",
   "execution_count": 117,
   "metadata": {
    "id": "Awyxq8bE0jzv"
   },
   "outputs": [],
   "source": [
    "# charger le fichier fasta du génome E. coli\n",
    "\n",
    "genome = read_fasta('GCF_000026345.1_ASM2634v1_genomic.fna')['NC_011750.1 Escherichia coli IAI39, complete sequence']\n",
    "# print(genome)"
   ]
  },
  {
   "cell_type": "code",
   "execution_count": 118,
   "metadata": {
    "id": "3d1dTsN60jzv"
   },
   "outputs": [
    {
     "name": "stdout",
     "output_type": "stream",
     "text": [
      "Analyse ok!\n",
      "Write ok!\n",
      ">seq_0\n",
      "GTGTGGATTAAAAAAAGAGTGTCTGATAGCAGCTTCTGA\n",
      ">seq_1\n",
      "GTGCGGGCTGACGCGTACAGGAAACACAGAAAAAAGCCCGCACCTGACAGTGCGGGCTTTTTTTTCGACCAAAGGTAA\n",
      ">seq_2\n",
      "GTGCCCGGATAG\n",
      ">seq_3\n",
      "TTGCCGTGGCGAGAAAATGTCGATCGCCATTATGGCCGGCGTATTAGAAGCGCGCGGTCACAACGTTACCGTTATCGATCCGGTCGAAAAACTGCTGGCAGTGGGGCATTACCTCGAATCTACCGTCGATATTGCTGA\n",
      ">seq_4\n",
      "TTGTTGCGAGATTTGGACGGACGTTGA\n"
     ]
    }
   ],
   "source": [
    "# extraire les ORFs et les sauvegarder dans fichier fasta\n",
    "liste_seqs = liste_orfs(genome)\n",
    "print(\"Analyse ok!\")\n",
    "filenameF = \"GCF_000026345.1_ASM2634v1_genomic_seqs.txt\"\n",
    "write_fasta(filenameF, liste_seqs)\n",
    "print(\"Write ok!\")\n",
    "head(filenameF)"
   ]
  },
  {
   "cell_type": "code",
   "execution_count": 119,
   "metadata": {},
   "outputs": [
    {
     "data": {
      "text/plain": [
       "174068"
      ]
     },
     "execution_count": 119,
     "metadata": {},
     "output_type": "execute_result"
    }
   ],
   "source": [
    "len(liste_seqs)"
   ]
  },
  {
   "cell_type": "markdown",
   "metadata": {
    "id": "4RxJQ7lI0jzw"
   },
   "source": [
    "\n",
    "<b>Question 2)</b> Dessinez un histogramme (avec matplotlib) de la distribution de longueur des ORFs détectés précédemment, que remarquez vous ? \n"
   ]
  },
  {
   "cell_type": "code",
   "execution_count": 98,
   "metadata": {
    "id": "TmwbxETQ0jzw"
   },
   "outputs": [
    {
     "data": {
      "image/png": "[encoded data removed]",
      "text/plain": [
       "<Figure size 432x288 with 1 Axes>"
      ]
     },
     "metadata": {
      "needs_background": "light"
     },
     "output_type": "display_data"
    }
   ],
   "source": [
    "# Question 2\n",
    " \n",
    "# On a remarqué que la plupart des ORFs sont de taille très petite (proche de 0)\n",
    "    \n",
    "# Plot avec matplotlib\n",
    "import matplotlib.pyplot as plt\n",
    "from collections import Counter\n",
    "longueurs = [len(seq) for seq in liste_seqs]\n",
    "ct = Counter(longueurs)\n",
    "x = [k for (k,v) in ct.items()]\n",
    "y = [ct[k] for k in x]\n",
    "plt.xlabel(\"longueur de la séquence\")\n",
    "plt.ylabel(\"nombre de séquence\")\n",
    "plt.title(\"distribution de longueur des ORFs\")\n",
    "plt.bar(x, y)\n",
    "plt.show()"
   ]
  },
  {
   "cell_type": "markdown",
   "metadata": {
    "id": "8wzBExkP0jzw"
   },
   "source": [
    "\n",
    "<b>Question 3)</b> Utilisez la question précédente pour fixer un seuil pour dire qu’un ORF est un gène. (par exemple plus que 500 nucléotides). En déduire une première annotation des gènes dans le génome de _Escherichia coli_. Vous produirez un fichier tab avec les positions de tous les ORFs annotés. "
   ]
  },
  {
   "cell_type": "code",
   "execution_count": 129,
   "metadata": {
    "id": "HV-kgiSA0jzw"
   },
   "outputs": [],
   "source": [
    "# Question 3\n",
    "# Fichier d'annotation des ORFs\n",
    "\n",
    "####\n",
    "#test\n",
    "# genome2 = genome[:1000]\n",
    "# genome2 = genome[:10000]\n",
    "# genome2 = genome[:100000]\n",
    "# genome2 = genome[:1000000]\n",
    "genome2 = genome\n",
    "####\n",
    "\n",
    "def annotationOrfs(genome, outputFile, seuilOrf, orfs):\n",
    "    \"\"\"\n",
    "    Produire une annotation des gènes d'un génome à partir de l'ensemble des orfs\n",
    "    entrée : genome sequences\n",
    "    entrée : seuilOrf - seuil pour dire qu’un ORF est un gène\n",
    "    entrée : orfs - ensemble des orfs detecté par la fonction liste_orfs\n",
    "    entrée : outputFile - nom du fichier pour sauvegarder l'annotation\n",
    "    sortie : None\n",
    "    \"\"\"\n",
    "    valide_orfs = [orf for orf in orfs if len(orf) >= seuilOrf]\n",
    "    len_orfs = [len(orf) for orf in valide_orfs]\n",
    "    brin2 = reversecompl(genome)\n",
    "    index_start_orfs_1 = []\n",
    "    index_start_orfs_2 = []\n",
    "    pos = 0\n",
    "    last_len = 0\n",
    "    for orf in valide_orfs:\n",
    "        pos = genome[pos+last_len:].find(orf)\n",
    "        last_len = len(orf)\n",
    "        index_start_orfs_1.append(pos)\n",
    "    pos = 0\n",
    "    last_len = 0\n",
    "    for orf in valide_orfs:\n",
    "        pos = brin2[pos+last_len:].find(orf)\n",
    "        last_len = len(orf)\n",
    "        index_start_orfs_2.append(pos)\n",
    "    with open(outputFile, \"w\") as of:\n",
    "        of.write('number, start position, stop position, strand, length\\n')\n",
    "        count = 0\n",
    "        virgule = \", \"\n",
    "        for i in range(len(valide_orfs)):\n",
    "            if index_start_orfs_1[i] != -1:\n",
    "                count += 1\n",
    "                number = str(count)\n",
    "                start_pos = str(index_start_orfs_1[i] + 1)\n",
    "                len_orf = str(len_orfs[i])\n",
    "                stop_pos = str(index_start_orfs_1[i] + 1 + len_orfs[i] - 1)\n",
    "                strand = \" + \"\n",
    "                of.write(number + virgule + start_pos + virgule + stop_pos + virgule + strand + virgule + len_orf + \"\\n\")\n",
    "        for i in range(len(valide_orfs)):\n",
    "            if index_start_orfs_2[i] != -1:\n",
    "                count += 1\n",
    "                number = str(count)\n",
    "                start_pos = str(index_start_orfs_2[i] + 1)\n",
    "                len_orf = str(len_orfs[i])\n",
    "                stop_pos = str(index_start_orfs_2[i] + 1 + len_orfs[i] - 1)\n",
    "                strand = \" - \"\n",
    "                of.write(number + virgule + start_pos + virgule + stop_pos + virgule + strand + virgule + len_orf + \"\\n\")\n",
    "orfs = liste_seqs\n",
    "annotationOrfs(genome2, 'annotation_des_orfs.csv', 1000, orfs)\n"
   ]
  },
  {
   "cell_type": "code",
   "execution_count": 130,
   "metadata": {
    "id": "4vJCSyxE0jzx"
   },
   "outputs": [
    {
     "name": "stdout",
     "output_type": "stream",
     "text": [
      "number, start position, stop position, strand, length\n",
      "1, 16795, 18324,  + , 1530\n",
      "2, 94, 1374,  + , 1281\n",
      "3, 36424, 37599,  + , 1176\n",
      "4, 64036, 65802,  + , 1767\n",
      "5, 39070, 40428,  + , 1359\n",
      "6, 68194, 69441,  + , 1248\n",
      "7, 46087, 47238,  + , 1152\n",
      "8, 88561, 90453,  + , 1893\n",
      "9, 47383, 48870,  + , 1488\n"
     ]
    }
   ],
   "source": [
    "head('annotation_des_orfs.csv')"
   ]
  },
  {
   "cell_type": "code",
   "execution_count": null,
   "metadata": {
    "id": "5t94RPCDP_Ph"
   },
   "outputs": [],
   "source": []
  }
 ],
 "metadata": {
  "colab": {
   "collapsed_sections": [],
   "name": "TME2_LU3IN013.ipynb",
   "provenance": []
  },
  "kernelspec": {
   "display_name": "Python 3",
   "language": "python",
   "name": "python3"
  },
  "language_info": {
   "codemirror_mode": {
    "name": "ipython",
    "version": 3
   },
   "file_extension": ".py",
   "mimetype": "text/x-python",
   "name": "python",
   "nbconvert_exporter": "python",
   "pygments_lexer": "ipython3",
   "version": "3.6.9"
  }
 },
 "nbformat": 4,
 "nbformat_minor": 1
}
