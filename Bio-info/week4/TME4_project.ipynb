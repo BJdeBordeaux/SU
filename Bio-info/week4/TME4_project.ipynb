{
  "cells": [
    {
      "cell_type": "markdown",
      "metadata": {
        "id": "MoRHY5QImaqy"
      },
      "source": [
        "# TME 4 : Projet Detection de motifs\n",
        "\n",
        "Nous allons développer des algorithmes pour chercher de motifs dans les données de ChipSeq de C. glabrata.\n",
        "Pour commencer nous allons d'abord produire des données artificielles qui nous permettront de tester rapidement nos algorithmes. Ensuite nous allons chercher les motifs dans C. glabrata et analyser les résultats.\n",
        "\n",
        "## Partie A : Recherche de pattern (motifs) identiques\n"
      ]
    },
    {
      "cell_type": "markdown",
      "metadata": {
        "id": "bmMkaXpwmaq9"
      },
      "source": [
        "1\\. Faites une fonction pour générer aléatoirement des séquences artificielles, puis générer t=10 séquences de n=41 nucléotides chacune. Toutes les lettres peuvent être équiprobables pour la génération des séquences."
      ]
    },
    {
      "cell_type": "code",
      "execution_count": 1,
      "metadata": {
        "id": "c8RaBfm0maq-"
      },
      "outputs": [
        {
          "name": "stdout",
          "output_type": "stream",
          "text": [
            "['ttggtcgtttttccgatgacagggacgtggcggtgttaggg', 'cccgatcccacaccggcccgttatttgattttttatggccc', 'tcaaaagtcatgacgggcgggtccgtaacgggtcataggtc', 'tcagtccagacacgattgtagcagacgccgccttatcgctc', 'tacagctgtttcccagacgtttgatatccgtttatggtggg', 'gagagattctggcgacctacttgaatagactcatcacattg', 'ttctacagccaagaggggtgtcccccactttagtctcctta', 'tttgcttcaagccttggagttcggtccaatggtctacagac', 'agatccgaacaccaggatggattcccatacatatgcggccc', 'ttgacgattcatgggggacaggtgttagtctctatctgggc']\n"
          ]
        }
      ],
      "source": [
        "import random\n",
        "\n",
        "nuc = ('A', 'C', 'G', 'T')\n",
        "\n",
        "t=10 #nombre de sequences\n",
        "n=41 #longueur des sequences\n",
        "\n",
        "#Pour un simple teste\n",
        "# t=3 #nombre de sequences\n",
        "# n=8 #longueur des sequences\n",
        "\n",
        "def generateRandomSequence(n, upper=False):\n",
        "    \"\"\"\n",
        "    Genere une séquence nucléotidique aléatoire \n",
        "    entrée n : longueur de la sequence\n",
        "    entrée upper : bool, si True les nucléotides seront minuscule, False majuscule\n",
        "    sortie sequence : une séquence nucléotidique aléatoire \n",
        "    \"\"\"\n",
        "    nucList = [nuc[random.randint(0,3)].upper() if upper else nuc[random.randint(0,3)].lower() for i in range(n)]\n",
        "    sequence = \"\".join(nucList)\n",
        "   \n",
        "    return sequence\n",
        "\n",
        "# print(generateRandomSequence(n))\n",
        "# print(generateRandomSequence(n, True))\n",
        "\n",
        "def generateRandomSequences(n, t):\n",
        "    \"\"\"\n",
        "    Genere plusieurs séquences nucléotidiques aléatoires \n",
        "    entrée n : longueur des sequences\n",
        "    entrée t : nombre de sequences\n",
        "    sortie sequences : liste de sequences nucléotidiques aléatoires \n",
        "    \"\"\"\n",
        "    sequences = [generateRandomSequence(n) for i in range(t)]\n",
        "   \n",
        "    return sequences\n",
        "    \n",
        "seqs = generateRandomSequences(n, t);\n",
        "\n",
        "print (seqs)\n"
      ]
    },
    {
      "cell_type": "markdown",
      "metadata": {
        "id": "PcesMqoNmarD"
      },
      "source": [
        "2\\. Nous allons maintenant implanter dans les séquences artificielles generés avant un motif de taille `k`=9 à des positions aléatoires (choisies uniformément le long de la séquence). On considère une proportion ``f``=0.9 de séquences qui possèdent le motif."
      ]
    },
    {
      "cell_type": "code",
      "execution_count": 2,
      "metadata": {
        "id": "7lVbiVK7marF"
      },
      "outputs": [
        {
          "name": "stdout",
          "output_type": "stream",
          "text": [
            "seqs, motif, motified\n",
            "['ttggtcgtttttccgatgacagggacgtggcggtgttaggg', 'cccgatcccacaccggcccgttatttgattttttatggccc', 'tcaaaagtcatgacgggcgggtccgtaacgggtcataggtc', 'tcagtccagacacgattgtagcagacgccgccttatcgctc', 'tacagctgtttcccagacgtttgatatccgtttatggtggg', 'gagagattctggcgacctacttgaatagactcatcacattg', 'ttctacagccaagaggggtgtcccccactttagtctcctta', 'tttgcttcaagccttggagttcggtccaatggtctacagac', 'agatccgaacaccaggatggattcccatacatatgcggccc', 'ttgacgattcatgggggacaggtgttagtctctatctgggc']\n",
            "gcggaccgt\n",
            "['ttggtcgtttttccgatgacagggacgtggcggtgttaggg', 'cccgatcccacagcggaccgtccggcccgttatttgattttttatggccc', 'tcaaaagtcatgacggcggaccgtggcgggtccgtaacgggtcataggtc', 'tcagcggaccgtgtccagacacgattgtagcagacgccgccttatcgctc', 'tagcggaccgtcagctgtttcccagacgtttgatatccgtttatggtggg', 'gagaggcggaccgtattctggcgacctacttgaatagactcatcacattg', 'ttctacagccaagaggggtgtcccccagcggaccgtctttagtctcctta', 'tttgcttcaagccttggagtgcggaccgttcggtccaatggtctacagac', 'agatccgaacaccaggatggattccgcggaccgtcatacatatgcggccc', 'ttgacgattcatgggggcggaccgtgacaggtgttagtctctatctgggc']\n"
          ]
        }
      ],
      "source": [
        "# taille des motifs k = 9\n",
        "# k = 3 \n",
        "k = 9\n",
        "# frequences d'occurences des motifs f = 0.9 \n",
        "f = 0.9 \n",
        "\n",
        "import random\n",
        "\n",
        "def implantMotifs(motifs, f, sequences):\n",
        "    \"\"\"\n",
        "    Insérer un motif dans des positions aléatoires des séquences\n",
        "    entrée motifs : motif qui va être implanté dans les séquences\n",
        "    entrée f : fréquence d'implantation\n",
        "    entrée séquences : liste de sequences\n",
        "    sortie modified_sequences: liste de séquences ayant parfois le motif implanté\n",
        "    \"\"\"\n",
        "    length = len(sequences[0])\n",
        "    assert([len(seq) for seq in sequences])\n",
        "\n",
        "    upperFlag = sequences[0][0].isupper() # use the case of first nucleotide of sequences\n",
        "    if(upperFlag):\n",
        "        motifs = motifs.upper()\n",
        "    else:\n",
        "        motifs = motifs.lower()\n",
        "\n",
        "    modified_sequences = []\n",
        "    for seq in sequences:\n",
        "        if random.random() <= f:\n",
        "            pos_to_insert = random.randint(0, length)\n",
        "            insertedSeq = seq[:pos_to_insert] + motifs + seq[pos_to_insert:]\n",
        "            modified_sequences.append(insertedSeq)\n",
        "        else:\n",
        "            modified_sequences.append(seq)\n",
        "    \n",
        "\n",
        "    return modified_sequences\n",
        "\n",
        "motifs = generateRandomSequence(k)\n",
        "print(\"seqs, motif, motified\")\n",
        "print(seqs)\n",
        "print(motifs)\n",
        "motif_implanted_seqs = implantMotifs(motifs, f, seqs)\n",
        "print(motif_implanted_seqs)\n"
      ]
    },
    {
      "cell_type": "markdown",
      "metadata": {
        "id": "xiIkrujLmarJ"
      },
      "source": [
        "3\\. Faites une fonction pour chercher les $m$ motifs de taille $k$ les plus fréquents dans l'ensemble des séquences. Tester cette fonction sur un l'ensemble de séquences avec le motif implanté génère dans les questions précédentes. Faite aussi une fonction qu'affiche les $top$ motifs les plus fréquents. "
      ]
    },
    {
      "cell_type": "code",
      "execution_count": 3,
      "metadata": {
        "id": "LPsYkRG1marK"
      },
      "outputs": [
        {
          "name": "stdout",
          "output_type": "stream",
          "text": [
            "{'gcggaccgt': 9, 'agcggaccg': 4, 'cggaccgtc': 4, 'cagcggacc': 3, 'ggcggaccg': 3}\n"
          ]
        }
      ],
      "source": [
        "def sortDictMotifToList(motifDict : dict):\n",
        "    return sorted(motifDict.items(), key=lambda item:item[1], reverse=True)\n",
        "\n",
        "def searchMotifs(k, sequences):\n",
        "    \"\"\"\n",
        "    Cherche les motifs de taille k dans un ensemble de séquences\n",
        "    entrée k : taille du motif\n",
        "    entrée séquences : liste de sequences\n",
        "    sortie motifs: dictionnaire de motifs, clé=motif, valeur = fréquence d'observation\n",
        "    >>>searchMotifs(3, ['TAAGTAA', 'TATAA', 'CTATC'])\n",
        "    {'TAA': 3, 'AAG': 1, 'AGT': 1, 'GTA': 1, 'TAT': 2, 'ATA': 1, 'CTA': 1, 'ATC': 1}\n",
        "    \"\"\"\n",
        "    res = dict()\n",
        "    totalValue = 0\n",
        "    totalCount = 0\n",
        "    for seq in sequences:\n",
        "        if(len(seq)<k):\n",
        "            continue\n",
        "        seqRes = [seq[index:index+k] for index in range(len(seq)-(k-1))]\n",
        "        for motif in seqRes:\n",
        "            if motif in res.keys(): \n",
        "                res[motif] += 1\n",
        "            else:\n",
        "                res[motif] = 1\n",
        "            totalValue += 1\n",
        "        totalCount += len(seq)-(k-1)\n",
        "        if(totalCount != totalValue):\n",
        "            print(seqRes, totalCount, totalValue, len(seq)-(k-1), seq)\n",
        "        assert(totalCount == totalValue)\n",
        "    assert(sum(res.values()) >= sum([len(seq)-(k-1) for seq in sequences]))\n",
        "    return res\n",
        "# print(k, motif_implanted_seqs)\n",
        "# print(searchMotifs(k, motif_implanted_seqs))\n",
        "\n",
        "def getTopMotifs(motifs, top):\n",
        "    \"\"\"\n",
        "    renvoyer les top motifs le plus frequent\n",
        "    entrée motifs: dictionnaire de motifs, clé=motif, valeur = fréquence d'observation\n",
        "    entrée top : les top plus frequent \n",
        "    sortie motifsfreq: dictionnaire contenant les top motifs les plus fréquents, clé=motif, valeur = fréquence d'observation\n",
        "    >>>getTopMotifs({'TAA': 3, 'AAG': 1, 'AGT': 1, 'GTA': 1, 'TAT': 2, 'ATA': 1, 'CTA': 1, 'ATC': 1}, 2)\n",
        "    {'TAA': 3, 'TAT': 2}\n",
        "    \"\"\"\n",
        "    sortedDictMotif = sortDictMotifToList(motifs)\n",
        "    motifsfreq  = {key_value[0]: key_value[1]  for key_value in sortedDictMotif[:top]}\n",
        "    return motifsfreq\n",
        "\n",
        "\n",
        "\n",
        "# motifsFound = searchMotifs(k, sequences)\n",
        "motifsFound = searchMotifs(k, motif_implanted_seqs)\n",
        "top = 5\n",
        "topMotifs = getTopMotifs(motifsFound, top)\n",
        "print(topMotifs)"
      ]
    },
    {
      "cell_type": "markdown",
      "metadata": {
        "id": "G8Hw-Zj6marM"
      },
      "source": [
        "4\\. Quell est la complexité de votre algorithme?"
      ]
    },
    {
      "cell_type": "markdown",
      "metadata": {
        "id": "3uvvJvCKmarN"
      },
      "source": [
        "<font color='blue'>\n",
        "reponse : \n",
        "1. searchMotifs : <br/>\n",
        "   A. Pour construire une liste intermédiaire des motifs, il faut faire l'indexage (len(seq)-(k-1)) fois, et à chaque fois on crée une copie de `seq` de taille k. Donc complexité pour cela est O(len(seq)-(k-1))= O(len(seq)-k)<br/>\n",
        "   B. Pour mettre à jour le dictionnaire, on reparcourt la liste, ce qui fait aussi O(len(seq)-k)<br/>\n",
        "   C. Au total, on parcourt tous les sequences. La somme de len(seq) fait O((n+k)*t) où n est la longueur de `sequences` générées, t le nombre de sequences générées et k la longueur de motif. La somme de `-k` fait `-t*k`. En ignorant le terme `-t*k`, a complexité totale fait <strong>O((n+k)*t)</strong>.<br/>\n",
        "2. getTopMotifs : <br/>\n",
        "   A. Il faut juste parcourt le dictionnnaire créé, donc fait aussi<strong>O((n+k)*t)</strong>.<br/>\n",
        "</font>"
      ]
    },
    {
      "cell_type": "markdown",
      "metadata": {
        "id": "H8HebyHumarO"
      },
      "source": [
        "5\\. Certains motifs sont reverse complémentaires. Implanter des motifs reverse complémentaires dans les séquences déjà générés et en suite chercher ces motifs. Attention: vous devez réutiliser les fonctions développés précédemment, pas besoin de définir des nouvelles fonctions. "
      ]
    },
    {
      "cell_type": "code",
      "execution_count": 4,
      "metadata": {
        "id": "O_zGqHAFmarO"
      },
      "outputs": [
        {
          "data": {
            "text/plain": [
              "{'acggtccgc': 10,\n",
              " 'gacggtccg': 4,\n",
              " 'cggtccgct': 4,\n",
              " 'ggacggtcc': 3,\n",
              " 'cggtccgcc': 3}"
            ]
          },
          "execution_count": 4,
          "metadata": {},
          "output_type": "execute_result"
        }
      ],
      "source": [
        "def reversecompl(seq):\n",
        "    \"\"\"Renvoie le brin complémentaire d’une séquence.\n",
        "    entrée : sequence de nucléotides (brin sens)\n",
        "    sortie : sequence de nucléotides (brin complementaire)\n",
        "    >>> reversecompl('AACGTGGCA')\n",
        "    'TGCCACGTT'\n",
        "    \"\"\"\n",
        "    compl = {'A': 'T', 'C': 'G', 'G': 'C', 'T':'A'}\n",
        "    res = ''\n",
        "    for index in range(len(seq)):\n",
        "        res += compl[seq[index].upper()]\n",
        "    return res[::-1]\n",
        "\n",
        "motifsReverseComplement = reversecompl(motifs)\n",
        "reverse_motif_implanted_seqs = implantMotifs(motifsReverseComplement, f, seqs)\n",
        "reverse_motif_found = searchMotifs(k, reverse_motif_implanted_seqs)\n",
        "getTopMotifs(reverse_motif_found, top)"
      ]
    },
    {
      "cell_type": "markdown",
      "metadata": {
        "id": "RyUhiM2XmarQ"
      },
      "source": [
        "\n",
        "## Partie B : Recherche de motifs identiques sur vos données"
      ]
    },
    {
      "cell_type": "markdown",
      "metadata": {
        "id": "qjjE5tq9marQ"
      },
      "source": [
        "1\\. Le fichier \"C_glabrata_1000bp_only.fasta\" contiens les séquences régulatrices pour tous les gènes de votre organisme. Nous avons pris les 1000bp en amont du codon start. Chercher les 50 motifs de taille 7 les plus fréquents dans les deux brim de votre génome."
      ]
    },
    {
      "cell_type": "code",
      "execution_count": 5,
      "metadata": {
        "id": "-r1ASCFYmarR"
      },
      "outputs": [],
      "source": [
        "k=7\n",
        "feq=10\n",
        "top= 50\n",
        "genome = \"Data/C_glabrata_1000bp_only.fasta\"\n",
        "\n",
        "\n",
        "def readFasta(fastaFileName):\n",
        "    \"\"\"\n",
        "    Read a fasta file\n",
        "    entrée fastaFileName: nom du fichier fasta\n",
        "    sortie sequences: liste contenant toutes les sequences du fichier\n",
        "    \"\"\"\n",
        "    sequence = []\n",
        "    file = open(genome, \"r\")\n",
        "    sequence = []\n",
        "    for s in file:\n",
        "        if s[0] != \">\":\n",
        "            sequence.append(s.strip().upper())\n",
        "    return sequence\n",
        "\n",
        "sequence = readFasta(genome)\n"
      ]
    },
    {
      "cell_type": "code",
      "execution_count": 6,
      "metadata": {},
      "outputs": [
        {
          "name": "stdout",
          "output_type": "stream",
          "text": [
            "Searching motifs...\n",
            "\n",
            "The most abundant motifs are \n",
            "\n",
            "[('AAAAAAA', 8385), ('TTTTTTT', 7658), ('ATATATA', 3096), ('ATTTTTT', 2970), ('AAAAAAT', 2960), ('TATATAT', 2796), ('AAAAATT', 2469), ('AATTTTT', 2457), ('GAAAAAA', 2417), ('AAAGAAA', 2417), ('AAAATTT', 2308), ('AAATTTT', 2305), ('TATTTTT', 2292), ('TTTTTTC', 2291), ('AAGAAAA', 2243), ('TATATAA', 2198), ('AAAAATA', 2188), ('TTTATTT', 2164), ('TTTCTTT', 2159), ('TGAAAAA', 2152), ('TTATTTT', 2134), ('TTTTATT', 2110), ('AAAAGAA', 2079), ('TTTTCTT', 2052), ('TTTTTCA', 1977), ('CAAAAAA', 1964), ('ATATAAA', 1946), ('AAAATAA', 1940), ('TTCTTTT', 1912), ('ATATATT', 1904), ('AATATAT', 1898), ('AATAAAA', 1889), ('AAATAAA', 1880), ('AGAAAAA', 1864), ('TTTTTAT', 1862), ('CTTTTTT', 1861), ('AAAAAAG', 1853), ('AATAATA', 1824), ('TTTTTTA', 1813), ('TTTTTTG', 1807), ('TTTTTCT', 1804), ('AAATATA', 1797), ('ATATTTT', 1781), ('ATAAAAA', 1780), ('TATATTT', 1771), ('TTATATA', 1734), ('TATTATT', 1729), ('AAAATAT', 1702), ('AAAAAGA', 1669), ('TAAAAAA', 1652)]\n"
          ]
        }
      ],
      "source": [
        "print(\"Searching motifs...\\n\")\n",
        "motifsP2 = searchMotifs(k, sequence)\n",
        "\n",
        "print(\"The most abundant motifs are \\n\")\n",
        "topMotifsP2 = getTopMotifs(motifsP2, top)\n",
        "topMotifsP2 = sorted(topMotifsP2.items(), key=lambda item:item[1], reverse=True)\n",
        "print(topMotifsP2)"
      ]
    },
    {
      "cell_type": "code",
      "execution_count": 7,
      "metadata": {},
      "outputs": [
        {
          "name": "stdout",
          "output_type": "stream",
          "text": [
            "Searching reverse complementary motifs...\n",
            "\n",
            "The most abundant motifs found in reverse complementary are \n",
            "\n",
            "[('TTTTTTT', 8385), ('AAAAAAA', 7658), ('TATATAT', 3096), ('AAAAAAT', 2970), ('ATTTTTT', 2960), ('ATATATA', 2796), ('AATTTTT', 2469), ('AAAAATT', 2457), ('TTTTTTC', 2417), ('TTTCTTT', 2417), ('AAATTTT', 2308), ('AAAATTT', 2305), ('AAAAATA', 2292), ('GAAAAAA', 2291), ('TTTTCTT', 2243), ('TTATATA', 2198), ('TATTTTT', 2188), ('AAATAAA', 2164), ('AAAGAAA', 2159), ('TTTTTCA', 2152), ('AAAATAA', 2134), ('AATAAAA', 2110), ('TTCTTTT', 2079), ('AAGAAAA', 2052), ('TGAAAAA', 1977), ('TTTTTTG', 1964), ('TTTATAT', 1946), ('TTATTTT', 1940), ('AAAAGAA', 1912), ('AATATAT', 1904), ('ATATATT', 1898), ('TTTTATT', 1889), ('TTTATTT', 1880), ('TTTTTCT', 1864), ('ATAAAAA', 1862), ('AAAAAAG', 1861), ('CTTTTTT', 1853), ('TATTATT', 1824), ('TAAAAAA', 1813), ('CAAAAAA', 1807), ('AGAAAAA', 1804), ('TATATTT', 1797), ('AAAATAT', 1781), ('TTTTTAT', 1780), ('AAATATA', 1771), ('TATATAA', 1734), ('AATAATA', 1729), ('ATATTTT', 1702), ('TCTTTTT', 1669), ('TTTTTTA', 1652)]\n"
          ]
        }
      ],
      "source": [
        "print(\"Searching reverse complementary motifs...\\n\")\n",
        "reverseSequenceP2 = [reversecompl(seq) for seq in sequence]\n",
        "motifsReverseP2 = searchMotifs(k, reverseSequenceP2)\n",
        "\n",
        "print(\"The most abundant motifs found in reverse complementary are \\n\")\n",
        "topReverseMotifsP2 = getTopMotifs(motifsReverseP2, top)\n",
        "topReverseMotifsP2 = sorted(topReverseMotifsP2.items(), key=lambda item:item[1], reverse=True)\n",
        "print(topReverseMotifsP2)"
      ]
    },
    {
      "cell_type": "markdown",
      "metadata": {
        "id": "0e5fdIztmarS"
      },
      "source": [
        "2\\. Quel sont les trois motifs de taille 7 les plus frequents? Pensez vous que ces motifs correspondent à de facteur de transcription connus? Justifier votre reponse."
      ]
    },
    {
      "cell_type": "markdown",
      "metadata": {
        "id": "8Zyhn6-PmarS"
      },
      "source": [
        "<font color='blue'>\n",
        "reponse: <br/>\n",
        "les motifs les plus fréquentes ('AAAAAAA', 8385), ('TTTTTTT', 7658), ('ATATATA', 3096) pour le brin \"+\";<br/>\n",
        "('TTTTTTT', 8385), ('AAAAAAA', 7658), ('TATATAT', 3096) pour le brin \"-\"<br/>\n",
        "On pense qu'il est peu possible que c'est ces motifs correspondent à de facteur de transcription connus, car ils sont très réguliers (simple répétition des nucléotides).\n",
        "</font>"
      ]
    },
    {
      "cell_type": "markdown",
      "metadata": {
        "id": "NVUbnuGDmarT"
      },
      "source": [
        "3\\. Le motif TGATTCAT correspond au facteur de transcription Gcn4 qui est trés suivant trouvé dans le genome de levures. Est-ce que vous avez trouvé ce motif? Si oui avec quel frequence?"
      ]
    },
    {
      "cell_type": "code",
      "execution_count": 8,
      "metadata": {
        "id": "ZeMVGLjVmarT"
      },
      "outputs": [
        {
          "name": "stdout",
          "output_type": "stream",
          "text": [
            "1819 - TGATTCA - 591\n",
            "reverse\n",
            "1791 - TGATTCA - 594\n"
          ]
        }
      ],
      "source": [
        "motifGcn4 = ['TGATTCA']\n",
        "def searchGivenMotif(motifsTrouve, motifSpecifique):\n",
        "    \"\"\"\n",
        "    Cherche une liste de motifs specifiques dans un dictionaire de motifs trouvés\n",
        "    entrée motifsTrouve : dictionnaire de motifs, clé=motif, valeur = fréquence d'observation\n",
        "    entrée motifSpecifique: liste de motifs specifiques à chercher\n",
        "    sortie None : affiche le ranking des motifs especifique et sa frequence d'observation\n",
        "    >>>searchGivenMotif({'TAA': 4, 'AAG': 3, 'AGT': 1}, ['AAG'])\n",
        "    2 - AGG - 3\n",
        "    \"\"\"\n",
        "    sortedMotifTrouver = sorted(motifsTrouve.items(), key=lambda item:item[1], reverse=True)\n",
        "    sortedListMotifOnly = [motif for (motif, occurrence) in sortedMotifTrouver]\n",
        "    for givenMotif in motifSpecifique:\n",
        "        print(\"{} - {} - {}\".format(sortedListMotifOnly.index(givenMotif)+1, givenMotif,motifsTrouve[givenMotif]))\n",
        "    return None\n",
        "\n",
        "motifsData = motifsP2\n",
        "motifsRevComData = motifsReverseP2\n",
        "\n",
        "searchGivenMotif(motifsData, motifGcn4)    \n",
        "print (\"reverse\")\n",
        "searchGivenMotif(motifsRevComData, motifGcn4)   "
      ]
    },
    {
      "cell_type": "markdown",
      "metadata": {
        "id": "Ibm0Eja2marU"
      },
      "source": [
        "4\\. Les motifs peu complexes (avec par exemple 5, 6 ou 7 fois la même lettre) sont courants dans les génomes, ils n'ont généralement pas de signification biologique. Dans le context de ce projet, vous pouvez eliminer aussi les motifis ayant deux lettre repetés, comme par exemple AGAGAGA. Faites une fonction pour éliminer les motifs peu complexes, _i. e._ qui ont au moins $m$ fois la même lettre ou qui ont deux lettre consecutive répétés. Dans quel position vous trouver Gcn4 apres enlever les motifs peu complexes?</font>. "
      ]
    },
    {
      "cell_type": "code",
      "execution_count": 9,
      "metadata": {},
      "outputs": [],
      "source": [
        "repeatMax = 5\n",
        "simpleRepeatMax = 5\n",
        "\n",
        "def isRepeatN_(seq, repeatMax):\n",
        "    nonPermisList = [nuc*repeatMax for nuc in \"ACGT\"]\n",
        "    for nonPermi in nonPermisList:\n",
        "        if seq.find(nonPermi) != -1:\n",
        "            return True\n",
        "    return False\n",
        "\n",
        "def isSimpleRepeat_(seq, simpleRepeatMax):\n",
        "    if len(seq) <= 3:\n",
        "        return False\n",
        "    a = seq[0]\n",
        "    b = seq[1]\n",
        "    repeat = \"\".join([a if i%2 == 0 else b for i in range(simpleRepeatMax)])\n",
        "    return seq.find(repeat) != -1\n",
        "\n",
        "def isRepeatN(seq):\n",
        "    return isRepeatN_(seq, repeatMax)\n",
        "    \n",
        "def isSimpleRepeat(seq):\n",
        "    return isSimpleRepeat_(seq, simpleRepeatMax)\n",
        "\n",
        "assert(isSimpleRepeat(\"AGAGAGAT\"))\n",
        "assert(isRepeatN(\"AAAAAA\"))"
      ]
    },
    {
      "cell_type": "code",
      "execution_count": 10,
      "metadata": {
        "id": "cFkaqI39marU"
      },
      "outputs": [
        {
          "name": "stdout",
          "output_type": "stream",
          "text": [
            "[('AAAGAAA', 2417), ('AAAATTT', 2308), ('AAATTTT', 2305), ('AAGAAAA', 2243), ('TTTATTT', 2164), ('TTTCTTT', 2159), ('TTATTTT', 2134), ('TTTTATT', 2110), ('AAAAGAA', 2079), ('TTTTCTT', 2052), ('AAAATAA', 1940), ('TTCTTTT', 1912), ('AATATAT', 1898), ('AATAAAA', 1889), ('AAATAAA', 1880), ('AATAATA', 1824), ('AAATATA', 1797), ('ATATTTT', 1781), ('TTATATA', 1734), ('TATTATT', 1729), ('AAAATAT', 1702), ('TTGAAAA', 1627), ('AATATAA', 1624), ('AAAACAA', 1600), ('AAGAAGA', 1599), ('ATAATAT', 1598), ('AAACAAA', 1598), ('AACAAAA', 1594), ('TAATATA', 1590), ('AATATTT', 1583), ('TTTGAAA', 1570), ('ATAAATA', 1564), ('AGAAGAA', 1557), ('ATTATTT', 1554), ('AAATATT', 1549), ('ATAATAA', 1545), ('ATTTATT', 1530), ('TATAATA', 1518), ('TTATATT', 1511), ('AAATAAT', 1508), ('ATTATAT', 1508), ('ATATTAT', 1505), ('TTATTAT', 1503), ('TTTCAAA', 1500), ('TTTTCAA', 1485), ('TATTATA', 1485), ('TATTTAT', 1483), ('TTTTGTT', 1478), ('TAATATT', 1465), ('ATTTTAT', 1448)]\n",
            "[('TTTCTTT', 2417), ('AAATTTT', 2308), ('AAAATTT', 2305), ('TTTTCTT', 2243), ('TTATATA', 2198), ('AAATAAA', 2164), ('AAAGAAA', 2159), ('AAAATAA', 2134), ('AATAAAA', 2110), ('TTCTTTT', 2079), ('AAGAAAA', 2052), ('TTTATAT', 1946), ('TTATTTT', 1940), ('AAAAGAA', 1912), ('AATATAT', 1904), ('TTTTATT', 1889), ('TTTATTT', 1880), ('TATTATT', 1824), ('AAAATAT', 1781), ('AAATATA', 1771), ('AATAATA', 1729), ('ATATTTT', 1702), ('TTTTCAA', 1627), ('TTATATT', 1624), ('ATTATAT', 1616), ('TTGTTTT', 1600), ('TCTTCTT', 1599), ('ATATTAT', 1598), ('TTTGTTT', 1598), ('TTTTGTT', 1594), ('AAATATT', 1583), ('TTTCAAA', 1570), ('TATTTAT', 1564), ('TTCTTCT', 1557), ('AAATAAT', 1554), ('AATATTT', 1549), ('TTATTAT', 1545), ('AATAAAT', 1530), ('TATTATA', 1518), ('AATATAA', 1511), ('ATTATTT', 1508), ('ATAATAT', 1505), ('ATAATAA', 1503), ('TTTGAAA', 1500), ('TTGAAAA', 1485), ('TATAATA', 1485), ('ATAAATA', 1483), ('AACAAAA', 1478), ('AATATTA', 1465), ('ATAAAAT', 1448)]\n"
          ]
        }
      ],
      "source": [
        "\n",
        "def removeLowComplexe(motifs):\n",
        "    \"\"\"\n",
        "    Eleve les motifs peu complexe \n",
        "    entrée motifs: dictionnaire de motifs, clé=motif, valeur = fréquence d'observation\n",
        "    sortie validMotif: dictionnaire de motifs filtré, clé=motif, valeur = fréquence d'observation\n",
        "    \"\"\"\n",
        "    validMotif = dict()\n",
        "    for (motif, freq) in motifs.items():\n",
        "        if((not isSimpleRepeat(motif)) and (not isRepeatN(motif))):\n",
        "            validMotif[motif] = freq\n",
        "    return validMotif\n",
        "\n",
        "\n",
        "\n",
        "motifsFiltreData = removeLowComplexe(motifsData)\n",
        "motifsFiltreReverse = removeLowComplexe(motifsRevComData)\n",
        "print(sortDictMotifToList(motifsFiltreData)[:top])\n",
        "print(sortDictMotifToList(motifsFiltreReverse)[:top])"
      ]
    },
    {
      "cell_type": "markdown",
      "metadata": {
        "id": "MrAPyMcPmarV"
      },
      "source": [
        "5\\. Le fichier \"Sequence_by_Peaks_G*.fasta\" contiens les regions de peak trouvé par ChipSeq, qui contient probablement le Facteur de Transcription que nous cherchons. Apliquer les fonctions precedents pour chercher les 3 motifs les plus fréquents dans les deux brim. Il faut bien evidement enlever les motifs peu complexe."
      ]
    },
    {
      "cell_type": "code",
      "execution_count": 13,
      "metadata": {
        "id": "wIHGDtXDmarW"
      },
      "outputs": [
        {
          "name": "stdout",
          "output_type": "stream",
          "text": [
            "Searching fwd motifs...\n",
            "\n",
            "The most abundant motifs are\n",
            "[('AAAAAAAA', 36), ('TTATTATT', 17), ('GAGCAAAT', 14), ('TTTTTATT', 14), ('TTTATTAT', 13), ('ATTTGCTC', 12), ('TTTTTTTT', 12), ('ATATATAT', 12), ('TTTTATTA', 12), ('ATTATTAT', 11), ('TTATCATT', 11), ('TAGTTGTA', 10), ('ATTATTAG', 10), ('CAAAAAAA', 9), ('TTTGCTCA', 9), ('AGCAAATA', 9), ('GCAAATAT', 9), ('TTATTTTT', 9), ('AAAAGAAA', 9), ('AGAAAAAA', 9), ('ATTATTTT', 9), ('TATTATTT', 9), ('TATTATTA', 9), ('ATTATCAT', 9), ('ATTATTTG', 9), ('TTTATTTA', 9), ('TTATTTAT', 9), ('TTCTTCTC', 9), ('AAAAAAAT', 8), ('ATTTTTTT', 8)]\n",
            "\n",
            "The most abundant reverse compl motifs are\n",
            "[('TTTTTTTT', 36), ('AATAATAA', 17), ('ATTTGCTC', 14), ('AATAAAAA', 14), ('ATAATAAA', 13), ('GAGCAAAT', 12), ('AAAAAAAA', 12), ('ATATATAT', 12), ('TAATAAAA', 12), ('ATAATAAT', 11), ('AATGATAA', 11), ('TACAACTA', 10), ('CTAATAAT', 10), ('TTTTTTTG', 9), ('TGAGCAAA', 9), ('ATATTTGC', 9), ('TATTTGCT', 9), ('AAAAATAA', 9), ('TTTCTTTT', 9), ('TTTTTTCT', 9), ('AAAATAAT', 9), ('AAATAATA', 9), ('TAATAATA', 9), ('ATGATAAT', 9), ('CAAATAAT', 9), ('ATAAATAA', 9), ('TAAATAAA', 9), ('GAGAAGAA', 9), ('ATTTTTTT', 8), ('AAAAAAAT', 8)]\n",
            "\n",
            "The most abundant no low-complexe motifs are\n",
            "[('TTATTATT', 17), ('GAGCAAAT', 14), ('TTTATTAT', 13), ('ATTTGCTC', 12), ('TTTTATTA', 12), ('ATTATTAT', 11), ('TTATCATT', 11), ('TAGTTGTA', 10), ('ATTATTAG', 10), ('TTTGCTCA', 9), ('AGCAAATA', 9), ('GCAAATAT', 9), ('AAAAGAAA', 9), ('ATTATTTT', 9), ('TATTATTT', 9), ('TATTATTA', 9), ('ATTATCAT', 9), ('ATTATTTG', 9), ('TTTATTTA', 9), ('TTATTTAT', 9), ('TTCTTCTC', 9), ('TTTTATTT', 8), ('AGCAAATT', 8), ('TGAGCAAA', 8), ('AAAATTTG', 8), ('TGATTATT', 8), ('TTTCTTTT', 8), ('AAATATAT', 8), ('TATTGTAT', 8), ('CATTATTT', 8)]\n",
            "\n",
            "The most abundant no low-complexe motifs in reverse compl are\n",
            "[('AATAATAA', 17), ('ATTTGCTC', 14), ('ATAATAAA', 13), ('GAGCAAAT', 12), ('TAATAAAA', 12), ('ATAATAAT', 11), ('AATGATAA', 11), ('TACAACTA', 10), ('CTAATAAT', 10), ('TGAGCAAA', 9), ('ATATTTGC', 9), ('TATTTGCT', 9), ('TTTCTTTT', 9), ('AAAATAAT', 9), ('AAATAATA', 9), ('TAATAATA', 9), ('ATGATAAT', 9), ('CAAATAAT', 9), ('ATAAATAA', 9), ('TAAATAAA', 9), ('GAGAAGAA', 9), ('AAATAAAA', 8), ('AATTTGCT', 8), ('TTTGCTCA', 8), ('CAAATTTT', 8), ('AATAATCA', 8), ('AAAAGAAA', 8), ('ATACAATA', 8), ('AAATAATG', 8), ('ATCTAATA', 8)]\n",
            "\n"
          ]
        }
      ],
      "source": [
        "k=8\n",
        "feq=5\n",
        "top= 30\n",
        "reLow = 5\n",
        "\n",
        "genome = \"Data/ChipSeq/Sequence_by_Peaks_2.fasta\"\n",
        "\n",
        "sequence   = readFasta(genome)\n",
        "\n",
        "print(\"Searching fwd motifs...\\n\")\n",
        "fwdMotif = searchMotifs(k, sequence)\n",
        "\n",
        "print(\"The most abundant motifs are\")\n",
        "topMotif = getTopMotifs(fwdMotif, top)\n",
        "sortedTopMotif = sortDictMotifToList(topMotif)\n",
        "print(sortedTopMotif)\n",
        "print()\n",
        "\n",
        "print(\"The most abundant reverse compl motifs are\")\n",
        "reverseSequence = [reversecompl(seq) for seq in sequence]\n",
        "reverseFwdMotif = searchMotifs(k, reverseSequence)\n",
        "reverseTopMotif = getTopMotifs(reverseFwdMotif, top)\n",
        "sortedReverseTopMotif = sortDictMotifToList(reverseTopMotif)\n",
        "print(sortedReverseTopMotif)\n",
        "print()\n",
        "\n",
        "print(\"The most abundant no low-complexe motifs are\")\n",
        "fwdMotifFiltrated = removeLowComplexe(fwdMotif)\n",
        "fwdMotifFiltratedTop = getTopMotifs(fwdMotifFiltrated, top)\n",
        "fwdMotifFiltratedTopSorted = sortDictMotifToList(fwdMotifFiltratedTop)\n",
        "print(fwdMotifFiltratedTopSorted)\n",
        "print()\n",
        "\n",
        "\n",
        "print(\"The most abundant no low-complexe motifs in reverse compl are\")\n",
        "reverseFwdMotifFiltrated = removeLowComplexe(reverseFwdMotif)\n",
        "reverseFwdMotifFiltratedTop = getTopMotifs(reverseFwdMotifFiltrated, top)\n",
        "reverseFwdMotifFiltratedTopSorted = sortDictMotifToList(reverseFwdMotifFiltratedTop)\n",
        "print(reverseFwdMotifFiltratedTopSorted)\n",
        "print()\n"
      ]
    },
    {
      "cell_type": "markdown",
      "metadata": {
        "id": "MEBziFExmarX"
      },
      "source": [
        "6\\. Ulitser la base YEASTRACT : http://www.yeastract.com/formsearchbydnamotif.php pour chercher les motifs. \n",
        "Avez vous une indication pour le facteur de transcription impliqué ?\n"
      ]
    },
    {
      "cell_type": "code",
      "execution_count": null,
      "metadata": {
        "id": "Wjp5t7eiKj14"
      },
      "outputs": [],
      "source": [
        "Pour `Sequence_by_Peaks_2`, on pense que Hap4 est le facteur de transcription impliqué. Car la séquence 'ACCAATGA' de fréquence 10 et 'ACCAATCA' de fréquence 9 comprennent 'CCAAT', le site de fixation de Hap4. "
      ]
    }
  ],
  "metadata": {
    "colab": {
      "collapsed_sections": [],
      "name": "TME4-project.ipynb",
      "provenance": []
    },
    "kernelspec": {
      "display_name": "Python 3",
      "language": "python",
      "name": "python3"
    },
    "language_info": {
      "codemirror_mode": {
        "name": "ipython",
        "version": 3
      },
      "file_extension": ".py",
      "mimetype": "text/x-python",
      "name": "python",
      "nbconvert_exporter": "python",
      "pygments_lexer": "ipython3",
      "version": "3.8.10"
    }
  },
  "nbformat": 4,
  "nbformat_minor": 0
}
