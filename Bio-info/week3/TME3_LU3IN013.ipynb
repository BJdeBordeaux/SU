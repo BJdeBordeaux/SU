{
  "cells": [
    {
      "cell_type": "markdown",
      "metadata": {
        "id": "H-ZmDjzwYF9d"
      },
      "source": [
        "# TME 3 :  Evaluation des résultats de  méthode de Prédiction de gènes\n",
        "\n"
      ]
    },
    {
      "cell_type": "markdown",
      "metadata": {
        "id": "ROoa6jTYYv0w"
      },
      "source": [
        "**Nom etudiant 1 : LI Junji**\n",
        "\n",
        "**Nom etudiant 2 : BABAALI Mohamed**"
      ]
    },
    {
      "cell_type": "markdown",
      "metadata": {
        "id": "-DRSKEw0YF9r"
      },
      "source": [
        "### A) Matrice de confusion et mesures de performance \n",
        "\n",
        "Il est nécessaire d’avoir une méthode pour évaluer la qualité des prédictions obtenues pour les coordonnées des gènes. Est ce que certains gènes sont ratés par la prédiction, ou est-ce qu’au contraire certains des gènes sont systématiquement surannotés alors qu’il s’agit d’une région intergénique (entre les gènes) ? Toute l’information peut être résumée en construisant le tableau de valeurs suivante, appelée matrice de confusion. Pour cela nous attribuons à chaque nucléotide d’un génome donné la valeur 0 ou 1, 0 si le nucléotide ne fait pas partie d’un gène et 1 si il en fait partie. La matrice de confusion est calculée comme ce tableau. \n",
        "\n",
        "![](matriceconfusion.png \"\")\n",
        "\n",
        "On résume ensuite la qualité de l’annotation avec les métriques suivantes : \n",
        "\n",
        "   + La sensibilité  (= ``11/(11+10)``) <br>\n",
        "Sen = (le taux de vrais positifs) / (le taux de vrais positifs + le taux de faux négatifs)\n",
        "\n",
        "   + La spécificité (= ``00 / (00+01)``) <br>\n",
        "Spe = (le taux de vrais négatifs) / (le taux de vrais négatifs + le taux de faux positifs)\n",
        "\n",
        "   + La valeur prédictive VP (= ``11 / (11+01)``) est le taux de vrais positifs parmi ceux prédits comme positifs <br>\n",
        "VP = (le taux de vrais positifs) / (le taux de vrais positifs + le taux de faux positifs)\n",
        "\n",
        "\n",
        "**Nous allons d'abord coder plusieurs fonctions qui seront utilisés plustard.**\n",
        "\n",
        "\n"
      ]
    },
    {
      "cell_type": "markdown",
      "metadata": {
        "id": "9xpcTpSXYF9t"
      },
      "source": [
        "<b>Question 1)</b> Ecrivez une fonction ``eval_res`` qui calcule la **Sen**, la **Spe** et **VP** (la valeur prédictive) à partir d’une matrice de confusion et renvoie un tuple à trois dimensions. La matrice de confusion sera codée comme un tableau à deux dimension, _e.g._ une liste de listes ou une matrice de numpy.\n"
      ]
    },
    {
      "cell_type": "code",
      "execution_count": 2,
      "metadata": {
        "id": "viL_iYvbYF9o"
      },
      "outputs": [],
      "source": [
        "import doctest # Pour pouvoirjh utiliser doctest.testmod()\n",
        "import numpy as np"
      ]
    },
    {
      "cell_type": "code",
      "execution_count": 3,
      "metadata": {
        "id": "lU5fe2L8YF9u"
      },
      "outputs": [
        {
          "data": {
            "text/plain": [
              "TestResults(failed=0, attempted=1)"
            ]
          },
          "execution_count": 3,
          "metadata": {},
          "output_type": "execute_result"
        }
      ],
      "source": [
        "# Question 1\n",
        "def eval_res(matconf):\n",
        "    \"\"\"Renvoi un tuple avec la sensibilité, la spécificité et la valeur prédictive.\n",
        "    entrée1 matconf : matrice de confusion (les positions contient VP, FP, FN, VN) \n",
        "    sortie1 sen: sensibilité \n",
        "    sortie2 spe: spécificité \n",
        "    sortie3 vp: sensibi valeur prédictive \n",
        "    >>> eval_res([[4, 1], [1, 3]])\n",
        "    (0.75, 0.8, 0.75)\n",
        "    \"\"\"\n",
        "    vn = matconf[0][0]\n",
        "    fp = matconf[0][1]\n",
        "    fn = matconf[1][0]\n",
        "    vp = matconf[1][1]\n",
        "\n",
        "    sen = vp/(vp+fn);  spe = vn/(vn+fp); valeurPredictive = vp/(fp+vp)\n",
        "    return (sen, spe, valeurPredictive)\n",
        "doctest.testmod()"
      ]
    },
    {
      "cell_type": "code",
      "execution_count": 4,
      "metadata": {
        "id": "koe-K87FYF9w"
      },
      "outputs": [],
      "source": [
        "assert eval_res([[50, 10], [5, 100]]) == (100 / 105, 50 / 60, 100 / 110)\n",
        "\n"
      ]
    },
    {
      "cell_type": "markdown",
      "metadata": {
        "id": "UD2AEgTmYF9x"
      },
      "source": [
        "<b>Question 2)</b> Ecrivez une fonction ``ecrit_intervalle`` qui, à partir des deux listes des positions de début et de fin des gènes sur le brin sens et de la longueur du génome, recode une grande liste avec la valeur 1 pour les positions qui sont des gènes et 0 sinon. Attention, il faut tenir compte des cas possibles où des gènes se chevauchent. Vous pourrez par exemple initialiser une liste avec ``lg`` valeurs à ``0`` et traiter ensuite les intervalles séquentiellement.\n"
      ]
    },
    {
      "cell_type": "code",
      "execution_count": 56,
      "metadata": {
        "id": "FOUZtaJ6YF9y"
      },
      "outputs": [
        {
          "data": {
            "text/plain": [
              "TestResults(failed=0, attempted=3)"
            ]
          },
          "execution_count": 56,
          "metadata": {},
          "output_type": "execute_result"
        }
      ],
      "source": [
        "# Question 2\n",
        "def ecrit_intervalle(positions_debut, positions_fin, len_genome):\n",
        "    \"\"\"\n",
        "    Renvoie une liste binaire avec un élément par base du génome.\n",
        "    1 indique la présence d'un gène.\n",
        "    entrée1 positions_debut : liste contenant les positions de debut des genes\n",
        "    entrée2 positions_fin : liste contenant les positions de fin des genes\n",
        "    entrée3 len_genome : taille du genome\n",
        "    sortie1 genome_list : Liste binaire avec un élément par base du génome\n",
        "    \n",
        "\n",
        "    >>> ecrit_intervalle([2, 10, 15], [7, 12, 20], 22)\n",
        "    [0, 0, 1, 1, 1, 1, 1, 1, 0, 0, 1, 1, 1, 0, 0, 1, 1, 1, 1, 1, 1, 0]\n",
        "    \"\"\"\n",
        "    genome_list = [0 for _ in range(len_genome)] #initialise tous les positions à zero\n",
        "    positions_debut\n",
        "    positions_fin\n",
        "    assert(len(positions_debut) == len(positions_fin))\n",
        "    for index in range(len(positions_debut)):\n",
        "        assert(positions_debut[index] < positions_fin[index])\n",
        "    for index in range(len(positions_debut)):\n",
        "        for j in range(positions_debut[index],positions_fin[index]+1):\n",
        "            genome_list[j] = 1\n",
        "    return genome_list\n",
        "\n",
        "\n",
        "doctest.testmod()"
      ]
    },
    {
      "cell_type": "markdown",
      "metadata": {
        "id": "vUNDBy_iYF90"
      },
      "source": [
        "**Question 3)** Ecrivez la fonction ``compare_intervalle`` qui compare deux listes produites par la fonction ``ecrit_intervalle``, et renvoie la matrice de confusion.  \n",
        "    Par exemple, si les deux listes données en paramètre sont  \n",
        "    ``génome =[0,0,1,1,1,1,1,1,0,0,1,1,1,0,0,1,1,1,1,1,1,0]`` et  \n",
        "    ``ORFs   =[0,0,0,1,1,1,1,0,0,0,1,1,1,0,0,0,0,1,1,1,1,0]``, on a :  \n",
        "\n",
        "| Genome / ORF | 0 | 1 |\n",
        "|---|---|---| \n",
        "| **0** | 7 | 0  |\n",
        "| **1** | 4 | 11 |\n"
      ]
    },
    {
      "cell_type": "code",
      "execution_count": 60,
      "metadata": {
        "id": "uoHEYNeYYF91"
      },
      "outputs": [
        {
          "data": {
            "text/plain": [
              "TestResults(failed=0, attempted=3)"
            ]
          },
          "execution_count": 60,
          "metadata": {},
          "output_type": "execute_result"
        }
      ],
      "source": [
        "# Question 3\n",
        "def compare_intervalles(intervalle_1, intervalle_2):\n",
        "    \"\"\"Renvoi la matrice de confusion.\n",
        "    entrée1 intervalle_1: Liste binaire representant un genome de reference\n",
        "    entrée2 intervalle_2: Liste binaire representant un les predictions de genes\n",
        "    sortie1 matrix: matrice de confusion\n",
        "    >>> compare_intervalles([0, 0, 1, 1, 1, 1, 1, 1, 0, 0, 1, 1, 1, 0, 0, 1, 1, 1, 1, 1, 1, 0],[0, 0, 0, 1, 1, 1, 1, 0, 0, 0, 1, 1, 1, 0, 0, 0, 0, 1, 1, 1, 1, 0])\n",
        "    [[7, 0], [4, 11]]\n",
        "    \"\"\"\n",
        "    assert(len(intervalle_1) == len(intervalle_2))\n",
        "    vn = fp = fn = vp = 0\n",
        "    for i in range(len(intervalle_1)):\n",
        "        annote = intervalle_1[i]\n",
        "        predit = intervalle_2[i]\n",
        "        vrai = annote == predit\n",
        "        positif = predit == 1\n",
        "        if vrai and positif:\n",
        "            vp += 1\n",
        "        elif vrai:\n",
        "            vn += 1\n",
        "        elif not vrai and positif:\n",
        "            fp += 1\n",
        "        else:\n",
        "            fn += 1\n",
        "    matrix = [[vn, fp], [fn, vp]]\n",
        "\n",
        "\n",
        "    \n",
        "    return matrix\n",
        "\n",
        "doctest.testmod()"
      ]
    },
    {
      "cell_type": "code",
      "execution_count": 7,
      "metadata": {
        "colab": {
          "base_uri": "https://localhost:8080/"
        },
        "id": "jLFdSWhVYF93",
        "outputId": "190d9d81-be7d-4dc2-f6cb-b52e943bb7b9"
      },
      "outputs": [
        {
          "data": {
            "text/plain": [
              "[[7, 0], [4, 11]]"
            ]
          },
          "execution_count": 7,
          "metadata": {},
          "output_type": "execute_result"
        }
      ],
      "source": [
        "compare_intervalles(\n",
        "    [0, 0, 1, 1, 1, 1, 1, 1, 0, 0, 1, 1, 1, 0, 0, 1, 1, 1, 1, 1, 1, 0],\n",
        "    [0, 0, 0, 1, 1, 1, 1, 0, 0, 0, 1, 1, 1, 0, 0, 0, 0, 1, 1, 1, 1, 0])"
      ]
    },
    {
      "cell_type": "markdown",
      "metadata": {
        "id": "isfF0PVHYF93"
      },
      "source": [
        "### B) Evaluation sur _E. coli_\n",
        "Nous allons comparer l’annotation des gènes de E. coli disponible au NCBI avec la prédiction par les ORFs realisé au TME precedent.\n",
        "**Attention, certains gènes définit dans les fichiers .tab sont non-codant (rRNA transfer, rRNA ribossomal). Ces gènes ne commencent pas par un codon START et nous allons les ignorer dans notre comparaison**. Nous allons donc travailler seulement avec les lignes \"protein_coding\" et le strand \"+\". \n",
        "\n",
        "\n",
        "\n",
        "\n"
      ]
    },
    {
      "cell_type": "markdown",
      "metadata": {
        "id": "ooXXMrjTsiFv"
      },
      "source": [
        "Nous allons utiliser pandas, une structuré de données puissante qui va simplifier nos analyses.\n",
        "\n",
        "Pour apprendre les bases on vous conseil les tutoriaux et vidéos suivant\n",
        "\n",
        "*   https://eric.univ-lyon2.fr/~ricco/tanagra/fichiers/fr_Tanagra_Data_Manipulation_Pandas.pdf\n",
        "*   https://pandas.pydata.org/pandas-docs/stable/reference/api/pandas.DataFrame.html (doc en anglais)\n",
        "*   https://www.youtube.com/watch?v=zZkNOdBWgFQ&t=187s (video en français)\n",
        "\n"
      ]
    },
    {
      "cell_type": "code",
      "execution_count": 8,
      "metadata": {
        "id": "L96kVi9SYF95"
      },
      "outputs": [],
      "source": [
        "import pandas as pd\n",
        "import gzip\n",
        "import shutil\n",
        "import urllib.request\n"
      ]
    },
    {
      "cell_type": "markdown",
      "metadata": {
        "id": "yYGEHYwpxW9H"
      },
      "source": [
        "<b>Preparation :</b> Telecharger le fichier feature_table de E. coli qui contient l'annotation de son genome"
      ]
    },
    {
      "cell_type": "code",
      "execution_count": 9,
      "metadata": {
        "colab": {
          "base_uri": "https://localhost:8080/"
        },
        "id": "ZLEdjbg2YF95",
        "outputId": "2efd3530-6905-4bda-c3f4-806ca887304c"
      },
      "outputs": [
        {
          "data": {
            "text/plain": [
              "('GCF_000026345.1_ASM2634v1_feature_table.txt.gz',\n",
              " <email.message.Message at 0x7f314987c280>)"
            ]
          },
          "execution_count": 9,
          "metadata": {},
          "output_type": "execute_result"
        }
      ],
      "source": [
        "#Telecharger le fichier feature_table de E. coli qui contient l'annotation de son genome\n",
        "urllib.request.urlretrieve(\n",
        "    'ftp://ftp.ncbi.nlm.nih.gov/genomes/all/GCF/000/026/345/GCF_000026345.1_ASM2634v1/GCF_000026345.1_ASM2634v1_feature_table.txt.gz',\n",
        "    'GCF_000026345.1_ASM2634v1_feature_table.txt.gz')"
      ]
    },
    {
      "cell_type": "code",
      "execution_count": 10,
      "metadata": {
        "id": "PnLU7GjHYF96"
      },
      "outputs": [],
      "source": [
        "#Decompresser le fichier\n",
        "with gzip.open('GCF_000026345.1_ASM2634v1_feature_table.txt.gz', 'rb') as f_in:\n",
        "    with open('GCF_000026345.1_ASM2634v1_feature_table.txt', 'wb') as f_out:\n",
        "        shutil.copyfileobj(f_in, f_out)"
      ]
    },
    {
      "cell_type": "markdown",
      "metadata": {
        "id": "_kGwxPGAxuTb"
      },
      "source": [
        "**Question 1)**: Lire le fichier `GCF_000026345.1_ASM2634v1_feature_table.txt` à l'aide de Pandas"
      ]
    },
    {
      "cell_type": "code",
      "execution_count": 11,
      "metadata": {
        "id": "yjhRignyYF97"
      },
      "outputs": [],
      "source": [
        "#Lire le fichier à l'aide de Pandas\n",
        "feature_table = pd.read_table(\"./GCF_000026345.1_ASM2634v1_feature_table.txt\", sep='\\t')"
      ]
    },
    {
      "cell_type": "code",
      "execution_count": 12,
      "metadata": {
        "id": "uiGjqqtpYF97",
        "scrolled": true
      },
      "outputs": [
        {
          "name": "stdout",
          "output_type": "stream",
          "text": [
            "  # feature           class         assembly     assembly_unit    seq_type  \\\n",
            "0      gene  protein_coding  GCF_000026345.1  Primary Assembly  chromosome   \n",
            "1       CDS    with_protein  GCF_000026345.1  Primary Assembly  chromosome   \n",
            "2      gene  protein_coding  GCF_000026345.1  Primary Assembly  chromosome   \n",
            "3       CDS    with_protein  GCF_000026345.1  Primary Assembly  chromosome   \n",
            "4      gene  protein_coding  GCF_000026345.1  Primary Assembly  chromosome   \n",
            "\n",
            "   chromosome genomic_accession  start   end strand product_accession  \\\n",
            "0         NaN       NC_011750.1    189   254      +               NaN   \n",
            "1         NaN       NC_011750.1    189   254      +    WP_001386572.1   \n",
            "2         NaN       NC_011750.1    335  2797      +               NaN   \n",
            "3         NaN       NC_011750.1    335  2797      +    WP_001264707.1   \n",
            "4         NaN       NC_011750.1   2799  3731      +               NaN   \n",
            "\n",
            "  non-redundant_refseq  related_accession  \\\n",
            "0                  NaN                NaN   \n",
            "1       WP_001386572.1                NaN   \n",
            "2                  NaN                NaN   \n",
            "3       WP_001264707.1                NaN   \n",
            "4                  NaN                NaN   \n",
            "\n",
            "                                                name symbol  GeneID  \\\n",
            "0                                                NaN   thrL     NaN   \n",
            "1                          thr operon leader peptide   thrL     NaN   \n",
            "2                                                NaN   thrA     NaN   \n",
            "3  bifunctional aspartate kinase/homoserine dehyd...   thrA     NaN   \n",
            "4                                                NaN   thrB     NaN   \n",
            "\n",
            "         locus_tag  feature_interval_length  product_length  \\\n",
            "0  ECIAI39_RS00005                       66             NaN   \n",
            "1  ECIAI39_RS00005                       66            21.0   \n",
            "2  ECIAI39_RS00010                     2463             NaN   \n",
            "3  ECIAI39_RS00010                     2463           820.0   \n",
            "4  ECIAI39_RS00015                      933             NaN   \n",
            "\n",
            "                   attributes  \n",
            "0  old_locus_tag=ECIAI39_4936  \n",
            "1                         NaN  \n",
            "2  old_locus_tag=ECIAI39_0001  \n",
            "3                         NaN  \n",
            "4  old_locus_tag=ECIAI39_0002  \n"
          ]
        }
      ],
      "source": [
        "#afficher les premières 5 lignes\n",
        "print(feature_table.head(5))"
      ]
    },
    {
      "cell_type": "markdown",
      "metadata": {
        "id": "OEAvBpCqyI6d"
      },
      "source": [
        "**Question 2)**: Filtrer feature table et laisser seulement les lignes contenant \"protein_coding\" et le strand \"+\"."
      ]
    },
    {
      "cell_type": "code",
      "execution_count": 54,
      "metadata": {
        "id": "7DSlBIZfYF98"
      },
      "outputs": [
        {
          "name": "stdout",
          "output_type": "stream",
          "text": [
            "  # feature           class         assembly     assembly_unit    seq_type  \\\n",
            "0      gene  protein_coding  GCF_000026345.1  Primary Assembly  chromosome   \n",
            "2      gene  protein_coding  GCF_000026345.1  Primary Assembly  chromosome   \n",
            "4      gene  protein_coding  GCF_000026345.1  Primary Assembly  chromosome   \n",
            "6      gene  protein_coding  GCF_000026345.1  Primary Assembly  chromosome   \n",
            "8      gene  protein_coding  GCF_000026345.1  Primary Assembly  chromosome   \n",
            "\n",
            "   chromosome genomic_accession  start   end strand product_accession  \\\n",
            "0         NaN       NC_011750.1    189   254      +               NaN   \n",
            "2         NaN       NC_011750.1    335  2797      +               NaN   \n",
            "4         NaN       NC_011750.1   2799  3731      +               NaN   \n",
            "6         NaN       NC_011750.1   3732  5018      +               NaN   \n",
            "8         NaN       NC_011750.1   5232  5528      +               NaN   \n",
            "\n",
            "  non-redundant_refseq  related_accession name symbol  GeneID  \\\n",
            "0                  NaN                NaN  NaN   thrL     NaN   \n",
            "2                  NaN                NaN  NaN   thrA     NaN   \n",
            "4                  NaN                NaN  NaN   thrB     NaN   \n",
            "6                  NaN                NaN  NaN   thrC     NaN   \n",
            "8                  NaN                NaN  NaN    NaN     NaN   \n",
            "\n",
            "         locus_tag  feature_interval_length  product_length  \\\n",
            "0  ECIAI39_RS00005                       66             NaN   \n",
            "2  ECIAI39_RS00010                     2463             NaN   \n",
            "4  ECIAI39_RS00015                      933             NaN   \n",
            "6  ECIAI39_RS00020                     1287             NaN   \n",
            "8  ECIAI39_RS00025                      297             NaN   \n",
            "\n",
            "                   attributes  \n",
            "0  old_locus_tag=ECIAI39_4936  \n",
            "2  old_locus_tag=ECIAI39_0001  \n",
            "4  old_locus_tag=ECIAI39_0002  \n",
            "6  old_locus_tag=ECIAI39_0003  \n",
            "8  old_locus_tag=ECIAI39_0004  \n"
          ]
        }
      ],
      "source": [
        "filtered_feature_table = feature_table[(feature_table['strand']==\"+\") & (feature_table['class']==\"protein_coding\")]\n",
        "print(filtered_feature_table.head(5))"
      ]
    },
    {
      "cell_type": "markdown",
      "metadata": {
        "id": "T36RlIyOyZ47"
      },
      "source": [
        "**Question 3)**: Lire le fichier annotation_des_orfs.csv (produit au TME2) à l'aide de Pandas"
      ]
    },
    {
      "cell_type": "code",
      "execution_count": 48,
      "metadata": {
        "id": "F_JadhPoYF98"
      },
      "outputs": [
        {
          "name": "stdout",
          "output_type": "stream",
          "text": [
            "     number    start      end strand  length\n",
            "0         1      293     2797      +    2505\n",
            "1         2     3732     5018      +    1287\n",
            "2         3    12101    13963      +    1863\n",
            "3         4    14022    15182      +    1161\n",
            "4         5    16831    18324      +    1494\n",
            "..      ...      ...      ...    ...     ...\n",
            "752     753  5116363  5117793      +    1431\n",
            "753     754  5117814  5119046      +    1233\n",
            "754     755  5121367  5123235      +    1869\n",
            "755     756  5127123  5128535      +    1413\n",
            "756     757  5128620  5129945      +    1326\n",
            "\n",
            "[757 rows x 5 columns]\n"
          ]
        }
      ],
      "source": [
        "\n",
        "tme2_orfs = pd.read_csv(\"./annotation_des_orfs2.csv\", sep='\\t')\n",
        "print(brin_pos_tme2)"
      ]
    },
    {
      "cell_type": "markdown",
      "metadata": {
        "id": "jezFebivwqSX"
      },
      "source": [
        "**Question 4)**: Appliquez la fonction ``compare_intervalle`` à l’annotation des gènes sur le brin sens et à la prédiction par les ORFs sur le brin sens,  puis générer la matrice de confusion."
      ]
    },
    {
      "cell_type": "code",
      "execution_count": 66,
      "metadata": {
        "id": "oQlkjpxnYF99"
      },
      "outputs": [],
      "source": [
        "len_genome = 5132068\n",
        "pos_debut1 = filtered_feature_table.start.values.tolist()\n",
        "pos_fin1 = filtered_feature_table.end.values.tolist()\n",
        "interval_annote = ecrit_intervalle(pos_debut1, pos_fin1, len_genome)\n",
        "# brin_pos_tme2\n",
        "tme2_orfs = pd.read_csv(\"./annotation_des_orfs.csv\", sep=',')\n",
        "# brin_pos_tme2 = tme2_orfs[(tme2_orfs['strand']=='+')]\n",
        "# print([co for co in tme2_orfs])\n",
        "pos_debut2 = [start+1 for start in tme2_orfs['start'].values.tolist()]\n",
        "lens2 = tme2_orfs['length'].values.tolist()\n",
        "pos_fin2 = [pos_debut2[i]+lens2[i]-1 for i in range(len(pos_debut2))]\n",
        "interval_orf = ecrit_intervalle(pos_debut2, pos_fin2, len_genome)\n",
        "# print(interval_orf.count(1))\n",
        "\n",
        "\n"
      ]
    },
    {
      "cell_type": "markdown",
      "metadata": {},
      "source": [
        "# Signal :\n",
        "* Il y a des erreurs dans le corrigé `annotation_des_orfs.csv`: des lignes sont répliquées.\n",
        "    * Par exemple, le gène de position début 161071 et de taille 519 est répliqué."
      ]
    },
    {
      "cell_type": "code",
      "execution_count": 67,
      "metadata": {
        "colab": {
          "base_uri": "https://localhost:8080/"
        },
        "id": "QfsveV32YF99",
        "outputId": "a35413a0-6818-4499-8868-7a6f2369b4f1"
      },
      "outputs": [
        {
          "name": "stdout",
          "output_type": "stream",
          "text": [
            "[[2832019, 289621], [404766, 1605662]]\n"
          ]
        }
      ],
      "source": [
        "matrix = compare_intervalles(interval_annote, interval_orf)\n",
        "print(matrix)\n",
        "matrix_correct = [[2832055, 289585], [438732, 1571696]]"
      ]
    },
    {
      "cell_type": "markdown",
      "metadata": {
        "id": "34wx1lsizNPc"
      },
      "source": [
        "matrix = [[2832055, 289585], [438732, 1571696]]"
      ]
    },
    {
      "cell_type": "markdown",
      "metadata": {
        "id": "TL8pldTlzU3S"
      },
      "source": [
        "**Question 5)**: Appliquez la fonction ``eval_res`` à la matrice de confusion et affichez Sen, Spe et VP."
      ]
    },
    {
      "cell_type": "code",
      "execution_count": 68,
      "metadata": {
        "id": "goWShEC9YF9_"
      },
      "outputs": [
        {
          "name": "stdout",
          "output_type": "stream",
          "text": [
            "(0.7986667515573799, 0.9072215245832319, 0.8471885201312944)\n",
            "(0.7817718416178048, 0.9072330569828679, 0.844416291790439)\n"
          ]
        }
      ],
      "source": [
        "print(eval_res(matrix))\n",
        "print(eval_res(matrix_correct))"
      ]
    },
    {
      "cell_type": "markdown",
      "metadata": {
        "id": "6ZjQieavYF-A"
      },
      "source": [
        "<b>Question 6)</b>: Analyse des résultats. Pour comprendre les limitations d'une méthode de prédiction on doit toujours analyser dans un second temps les erreurs faites par le programme. En détectant des erreurs récurrente, il est plus facile de proposer ensuite des améliorations. Donnez deux exemples de régions d'au moins 50 nucléotides consécutifs qui sont :\n",
        "\n",
        "*   un faux négatif (gène raté)\n",
        "*   un faux positif (gène inexistant)\n",
        "\n",
        "A votre avis à quoi ces deux types d'erreurs sont-elles dues ? "
      ]
    },
    {
      "cell_type": "markdown",
      "metadata": {},
      "source": [
        "# réponse\n",
        "- Pour le cas faux négatif, il est possible qu'on fixe un seuil trop grand, qui filtre les gène.\n",
        "- Pour le cas faux positif, il est possible qu'il s'agti d'un gène niché, c'est-à-dire qu'il se trouve au milieu d'un autre gène."
      ]
    }
  ],
  "metadata": {
    "colab": {
      "collapsed_sections": [],
      "name": "TME3_LU3IN013.ipynb",
      "provenance": []
    },
    "kernelspec": {
      "display_name": "Python 3",
      "language": "python",
      "name": "python3"
    },
    "language_info": {
      "codemirror_mode": {
        "name": "ipython",
        "version": 3
      },
      "file_extension": ".py",
      "mimetype": "text/x-python",
      "name": "python",
      "nbconvert_exporter": "python",
      "pygments_lexer": "ipython3",
      "version": "3.8.10"
    }
  },
  "nbformat": 4,
  "nbformat_minor": 0
}
