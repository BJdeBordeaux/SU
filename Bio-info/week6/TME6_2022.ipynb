{
  "cells": [
    {
      "cell_type": "markdown",
      "metadata": {
        "id": "981-NdKA_huf"
      },
      "source": [
        "# TME 6 : Projet Detection de motifs\n",
        "\n",
        "\n",
        "## Recheche de pattern (motifs) en utilisant les algoritmes randomisés\n",
        "\n",
        "Les algorithmes randomisés prendre des décisions aléatoire plutôt que déterministes.\n",
        "l'algorithme s'exécute différemment à chaque fois. Ils sont couramment utilisés dans situations où aucun algorithme exact et rapide est connu. Nous allons implémenter deux algorithmes randomisés pour la recherche de motifs : Greedy Profile Motif Search et random Projections.\n"
      ]
    },
    {
      "cell_type": "markdown",
      "metadata": {
        "id": "5z3a_1W0_huk"
      },
      "source": [
        "1\\. Nous allons réutiliser les fonctions du TME5 pour générer `t` séquences artificielles de taille `n`, et implanter dans chaque séquence un motif de taille `k` à des positions aléatoires avec `v` substitutions choisies aléatoirement."
      ]
    },
    {
      "cell_type": "code",
      "execution_count": 36,
      "metadata": {
        "id": "6UbcF5N2_hul"
      },
      "outputs": [],
      "source": [
        "import random\n",
        "import numpy as np\n",
        "\n",
        "nuc = ('A', 'C', 'G', 'T')\n",
        "\n",
        "k=5 #taille de motif\n",
        "v=1 #nb de positions variable dans le motif\n",
        "t=3 #nb de sequences\n",
        "n=10 #longuer des sequence\n"
      ]
    },
    {
      "cell_type": "code",
      "execution_count": 37,
      "metadata": {
        "id": "IplKLaGL_hun"
      },
      "outputs": [
        {
          "name": "stdout",
          "output_type": "stream",
          "text": [
            "motif:  ACAGA\n",
            "modifiedMotifs:  ['ACCGA', 'GCAGA', 'CCAGA']\n",
            "['TTACCGAACC', 'GGAGCAGAGA', 'GCCCCCAGAG']\n",
            "['TTACCGAACC', 'GGAGCAGAGA', 'GCCCCCAGAG']\n"
          ]
        }
      ],
      "source": [
        "def generateRandomSequence(n, upper=True):\n",
        "    \"\"\"\n",
        "    Génère une séquence nucléotidique aléatoire \n",
        "    entrée n : longueur de la sequence\n",
        "    entrée upper : bool, si True les nucléotides seront majuscule, False minuscule\n",
        "    sortie sequence : une séquence nucléotidique aléatoire \n",
        "    \"\"\"\n",
        "    nucList = [nuc[random.randint(0,3)].upper() if upper else nuc[random.randint(0,3)].lower() for i in range(n)]\n",
        "    sequence = \"\".join(nucList)\n",
        "    return sequence\n",
        "\n",
        "def modifierMotif(motif, nbpos,  upper=True):\n",
        "    \"\"\"\n",
        "    Modifie nbpos positions d'un motif aléatoirement \n",
        "    entrée motif: motif à modifier\n",
        "    entrée nbpos: nombre de positions\n",
        "    entrée upper : bool, si True les nucléotides modifiés seront majuscule, False minuscule\n",
        "    sortie motifM: motif modifié\n",
        "    \"\"\"\n",
        "    motifM = motif\n",
        "    posToModified = random.sample(range(len(motif)), nbpos)\n",
        "    for pos in posToModified:\n",
        "        newNuc = random.choice(nuc)\n",
        "        while newNuc == motif[pos]:\n",
        "            newNuc = random.choice(nuc)\n",
        "        motifM = motifM[0:pos] + newNuc + motifM[pos+1:]\n",
        "    return motifM\n",
        "\n",
        "def implantMotifVar(k, v, t, n):\n",
        "    \"\"\"\n",
        "    Génère des séquences aléatoires et les implante des motifs variables (un motif par séquence)\n",
        "    entrée k: taille du motif\n",
        "    entrée v: nombre de variations\n",
        "    entrée t : nombre de séquences \n",
        "    entrée n : longueur des séquences\n",
        "    sortie DNA : matrice de dimension txn avec les motifs implantés\n",
        "    REMARQUE : La taille totale des séquences plus le motif doit être égal à n, pensez à générer de séquence aléatoire de taille n-k pour pouvoir implanter un motif de taille k\n",
        "    \"\"\"\n",
        "    motif = generateRandomSequence(k)\n",
        "    print(\"motif: \", motif)\n",
        "    modifiedMotifs = [modifierMotif(motif, v) for i in range(t)]\n",
        "    print(\"modifiedMotifs: \", modifiedMotifs)\n",
        "    posToInsert = [random.randint(0, n-k-1) for i in range(t)]\n",
        "    preSequences = [generateRandomSequence(n-k) for i in range(t)]\n",
        "    sequences = [preSequences[i][:posToInsert[i]+1] + modifiedMotifs[i] + preSequences[i][posToInsert[i]+1:] for i in range(t)]\n",
        "    return sequences\n",
        "\n",
        "adn = implantMotifVar(k, v, t, n)\n",
        "print (adn)\n",
        "\n",
        "adn  = [s.upper() for s in adn]\n",
        "print (adn)"
      ]
    },
    {
      "cell_type": "markdown",
      "metadata": {
        "id": "NoPjFWpM_huq"
      },
      "source": [
        "2\\. Faire une fonction pour sélectionner des positions de départ aléatoirement `s = (s1, …,st)`.\n"
      ]
    },
    {
      "cell_type": "code",
      "execution_count": 38,
      "metadata": {
        "colab": {
          "base_uri": "https://localhost:8080/"
        },
        "id": "WwUeYNeJ_hur",
        "outputId": "b0d6c2c1-ae10-461e-e9c5-68ba7c6da5be"
      },
      "outputs": [
        {
          "name": "stdout",
          "output_type": "stream",
          "text": [
            "['TTACCGAACC', 'GGAGCAGAGA', 'GCCCCCAGAG']\n",
            "[2, 3, 5]\n"
          ]
        }
      ],
      "source": [
        "#creating vector s\n",
        "#Get t random positions from 0 to n - k\n",
        "def generateRandomS(sequences, k):\n",
        "\t\"\"\"\n",
        "\tGénère un vecteur de position aléatoires\n",
        "\tentrée sequences: matrice de dimension txn contenant les sequences\n",
        "\tentrée k: taille du motif\n",
        "\tsortie s: vecteur de position aléatoires, une position par séquence\n",
        "  REMARQUE les positions doivent être inférieur à n-k\n",
        "\t\"\"\"\n",
        "\treturn [random.randint(0, len(sequences[i])-k) for i in range(len(sequences))]\n",
        "\n",
        "s = generateRandomS(adn, k)\n",
        "print (adn)\n",
        "print (s)"
      ]
    },
    {
      "cell_type": "markdown",
      "metadata": {
        "id": "vwTv0oVD_hut"
      },
      "source": [
        "3\\. Extraire les motifs en utilisant le vecteur `s`, et construire un profile (matrice de fréquence). Attention, utiliser les pseudocount 1 pour éviter les plus tard les probabilités à zéro.\n"
      ]
    },
    {
      "cell_type": "code",
      "execution_count": 39,
      "metadata": {
        "id": "GMC6y17y_hut"
      },
      "outputs": [],
      "source": [
        "def extractSeqs(s, seqs, k):\n",
        "    \"\"\"\n",
        "    Extraire les motifs des séquences à l'aide de positions s\n",
        "    entrée s: vecteur contenant les positions de départs\n",
        "    entrée seqs: matrice de dimension txn avec les séquences\n",
        "    entrée k: taille du motif\n",
        "    sortie motifs: liste de motifs\n",
        "    \"\"\"\n",
        "    motifs = []\n",
        "    try:\n",
        "        motifs = [seqs[i][s[i]:s[i]+k] for i in range(len(seqs))]\n",
        "    except IndexError:\n",
        "        pass\n",
        "    return motifs\n",
        "\n",
        "motifs = extractSeqs(s, adn, k)\n",
        "# print(motifs)\n",
        "\n",
        "#Construire matrice de fréquence\n",
        "def profile(motifs, k, nuc):\n",
        "    \"\"\"\n",
        "    Construire une matrice de fréquence de dimension k x |nuc|\n",
        "    entrée motifs: liste de motifs\n",
        "    entrée k: taille du motif\n",
        "    entrée nuc: alphabet\n",
        "    sortie MF: matrice de fréquence\n",
        "    \"\"\"\n",
        "    nDict = {nuc[i]: i for i in range(len(nuc))}\n",
        "    q = len(nuc)\n",
        "    mf = np.ones((q, k))\n",
        "    for col in range(k):\n",
        "        for line in range(len(motifs)):\n",
        "            # try:\n",
        "            nucleotide = motifs[line][col]\n",
        "            # except IndexError:\n",
        "                # print(line, col, motifs)\n",
        "            mf[nDict[nucleotide]][col] += 1\n",
        "    return mf\n",
        "    \n",
        "MF = profile(motifs, k, nuc)\n",
        "# print(MF)"
      ]
    },
    {
      "cell_type": "markdown",
      "metadata": {
        "id": "zIw6koU2_huu"
      },
      "source": [
        "4\\. Transformer la matrice de fréquence en PWM. Il faut diviser chaque élément par la somme de ses colonnes. Faire aussi une fonction pour calculer la sequence consensus d'une matrice de frequence."
      ]
    },
    {
      "cell_type": "code",
      "execution_count": 40,
      "metadata": {
        "id": "wOH5mbkA_huv"
      },
      "outputs": [
        {
          "name": "stdout",
          "output_type": "stream",
          "text": [
            "[[0.28571429 0.28571429 0.28571429 0.28571429 0.42857143]\n",
            " [0.28571429 0.42857143 0.28571429 0.14285714 0.14285714]\n",
            " [0.28571429 0.14285714 0.28571429 0.42857143 0.28571429]\n",
            " [0.14285714 0.14285714 0.14285714 0.14285714 0.14285714]]\n"
          ]
        }
      ],
      "source": [
        "# motifs = [s.upper() for s in motifs]\n",
        "\n",
        "def generatePWM(MF):\n",
        "  \"\"\"\n",
        "  Transforme la matrice de fréquence en PWM\n",
        "  entrée MF: matrice de fréquence\n",
        "  sortie PWM: matrice de probabilité (poids positions)\n",
        "  \"\"\"\n",
        "  q = len(nuc)\n",
        "  colSumList = np.sum(MF, 0)\n",
        "  colSum = colSumList[0]\n",
        "  for i in range(1, len(colSumList)):\n",
        "      assert(colSumList[i] == colSum)\n",
        "  # MF = np.ones((q, k))\n",
        "  # print(PWM)\n",
        "  return np.array([MF[i, j]/colSum for i in range(q) for j in range(k)]).reshape(q, k)\n",
        "\n",
        "PWM = generatePWM(MF)\n",
        "print(PWM)"
      ]
    },
    {
      "cell_type": "code",
      "execution_count": 41,
      "metadata": {
        "id": "lx1tEoWFjOPn"
      },
      "outputs": [
        {
          "name": "stdout",
          "output_type": "stream",
          "text": [
            "ACAGA\n"
          ]
        }
      ],
      "source": [
        "# si égal ?\n",
        "\n",
        "def getConsensus(MF, k, nuc):\n",
        "    \"\"\"\n",
        "    Renvoie la sequence consensus d'une matrice de frequence\n",
        "    entrée MF: matrice de fréquence\n",
        "    entrée k: taille du motif\n",
        "    entrée nuc: alphabet\n",
        "    sortie seqCons: sequence consensus\n",
        "    N.B. en cas d'égalité, on prend la sequence avec les premières nucléotides selon l'ordre de ACGT\n",
        "    \"\"\"\n",
        "    minIndexArray = np.argmax(MF, axis=0)\n",
        "    return \"\".join([nuc[index] for index in minIndexArray])\n",
        "\n",
        "seqCons = getConsensus(MF, k, nuc)\n",
        "print(seqCons)\n"
      ]
    },
    {
      "cell_type": "markdown",
      "metadata": {
        "id": "ThOfxUGq_huw"
      },
      "source": [
        "5\\. Faire une fonction pour calculer la probabilité d'un motif de taille `k` selon une PWM.\n"
      ]
    },
    {
      "cell_type": "code",
      "execution_count": 42,
      "metadata": {
        "id": "ZUNbTtum_huw"
      },
      "outputs": [
        {
          "name": "stdout",
          "output_type": "stream",
          "text": [
            "0.006425893972749447\n"
          ]
        }
      ],
      "source": [
        "def probability(PWM, motif):\n",
        "    \"\"\"\n",
        "    Calcul la probalité d'un motif selon PWM\n",
        "    entrée PWM: matrice de probabilité (poids positions)\n",
        "    entrée motif: motif\n",
        "    sortie prob: probalité Prob(motif|PWM)\n",
        "    \"\"\"\n",
        "    pos = 0; prob = 1\n",
        "    #print (PWM)\n",
        "    for n in motif:\n",
        "        i = nuc.index(n)\n",
        "        #print (i, pos)\n",
        "        prob *=PWM[i, pos]\n",
        "        pos +=1\n",
        "    return prob\n",
        "\n",
        "prob = probability(PWM, seqCons)\n",
        "print (prob)"
      ]
    },
    {
      "cell_type": "markdown",
      "metadata": {
        "id": "aqLjmxrx_hux"
      },
      "source": [
        "6\\. Faire une fonction pour calculer le pMostProbkmer d'une séquence, voir un exemple dans les slides de cours."
      ]
    },
    {
      "cell_type": "code",
      "execution_count": 43,
      "metadata": {
        "colab": {
          "base_uri": "https://localhost:8080/"
        },
        "id": "-_GDK4mQ_huy",
        "outputId": "fd27df91-a730-4e20-d1c4-1bfff3505910"
      },
      "outputs": [
        {
          "name": "stdout",
          "output_type": "stream",
          "text": [
            "3\n"
          ]
        }
      ],
      "source": [
        "def pMostProbkmer(P, k, sequence):\n",
        "    \"\"\"\n",
        "    calcul la position du k-mer le plus probable dans la séquence\n",
        "    entrée PWM: matrice de probabilité (poids positions)\n",
        "    entrée k: taille du motif\n",
        "    entrée sequence: séquence nucleotidique\n",
        "    sortie s: la position du k-mer le plus probable dans la sequence\n",
        "    \"\"\"\n",
        "    probList = [probability(P, sequence[i:i+k]) for i in range(len(sequence)-k+1)]\n",
        "    maxList = max(probList) # le premier plus grand\n",
        "    return probList.index(maxList)\n",
        "\n",
        "\n",
        "s = pMostProbkmer(PWM, k, \"GCC\" + seqCons+ \"GGATACT\")\n",
        "print (s)"
      ]
    },
    {
      "cell_type": "markdown",
      "metadata": {
        "id": "QwXuMhNn_huy"
      },
      "source": [
        "7\\. Faire une fonction pour obtenir les nouvelles positions de départ `s = (s1, …,st)`, c’était à dire les positions qui contiens les k-mer le plus probables."
      ]
    },
    {
      "cell_type": "code",
      "execution_count": 44,
      "metadata": {
        "id": "G3neuRM9_huz"
      },
      "outputs": [
        {
          "name": "stdout",
          "output_type": "stream",
          "text": [
            "[2, 3, 4]\n"
          ]
        }
      ],
      "source": [
        "def getNewS(PWM, k, sequences):\n",
        "    \"\"\"\n",
        "    Trouve les nouvelles positions des k-mer le plus probables\n",
        "    entrée PWM: matrice de probabilité (poids positions)\n",
        "    entrée k: taille du motif\n",
        "    entrée sequence: séquence nucleotidique\n",
        "    sortie s: vecteur avec les positions les plus problables\n",
        "    \"\"\"\n",
        "    s = [pMostProbkmer(PWM, k, seq) for seq in sequences]\n",
        "   \n",
        "    return s\n",
        "\n",
        "ns = getNewS(PWM, k, adn)\n",
        "print (ns)"
      ]
    },
    {
      "cell_type": "markdown",
      "metadata": {
        "id": "WoETBPxq_huz"
      },
      "source": [
        "8\\. La condition d’arrêt de l'algorithme est le non changement de la matrice de fréquence d'une itération à l'autre, \n",
        "faire une fonction pour comparer deux matrices et détecter le changement. \n",
        "Faire aussi une fonction pour obtenir le score d'une matrice de fréquence : la somme de max de chaque colonne"
      ]
    },
    {
      "cell_type": "code",
      "execution_count": 45,
      "metadata": {
        "id": "NUDOYB6A_hu0"
      },
      "outputs": [
        {
          "name": "stdout",
          "output_type": "stream",
          "text": [
            "13.0\n"
          ]
        }
      ],
      "source": [
        "def changeProfile(P1, P2):\n",
        "    \"\"\"\n",
        "    Compare deux matrice\n",
        "    entrée P1: matrice de fréquence\n",
        "    entrée P2: matrice de fréquence\n",
        "    sortie: True si les matrices sont différents, False au contraire\n",
        "    \"\"\"\n",
        "    print(P1, P2, np.mat(P1) == np.mat(P2), (np.mat(P1) == np.mat(P2)).all())\n",
        "    return (np.mat(P1) == np.mat(P2)).all()\n",
        "\n",
        "def getScore(MF, k):\n",
        "    \"\"\"\n",
        "    Renvoie le score de MF, la somme des max de chaque colonne\n",
        "    entrée P: matrice de fréquence\n",
        "    entrée k: taille du motif\n",
        "    sortie sc: score\n",
        "    \"\"\"\n",
        "    mf = np.mat(MF)\n",
        "    maxArray = np.max(mf, axis=0)\n",
        "    return np.sum(maxArray)\n",
        "\n",
        "# print(adn)\n",
        "# print(seqCons)\n",
        "\n",
        "# print(MF)\n",
        "sc = getScore(MF, k)\n",
        "print (sc)\n"
      ]
    },
    {
      "cell_type": "markdown",
      "metadata": {
        "id": "QhO7GPfn_hu0"
      },
      "source": [
        "9\\. Implementer l'algorithme ``GreedyProfileMotifSearch`` en utilisant les fonctions precedentes. \n"
      ]
    },
    {
      "cell_type": "code",
      "execution_count": 46,
      "metadata": {
        "id": "s3wvHQUp_hu0"
      },
      "outputs": [
        {
          "name": "stdout",
          "output_type": "stream",
          "text": [
            "['GAACC', 'GGAGC', 'GCCCC']\n"
          ]
        }
      ],
      "source": [
        "def GreedyProfileMotifSearch(sequences, t, n, k):\n",
        "    \"\"\"\n",
        "    Implémente l'algorithme GreedyProfileMotifSearch \n",
        "\t  entrée sequences: matrice de dimension txn contenant les séquences \n",
        "\t  entrée t : nombre de séquences \n",
        "\t  entrée n : longueur des séquences \n",
        "\t  entrée k : taille du motif \n",
        "    sortie s : vecteur de positions de départ ayant le meilleur motif \n",
        "    sortie bestScore : le score associé à s\n",
        "    \"\"\"\n",
        "    s = generateRandomS(sequences, k)\n",
        "    bestScore = 0\n",
        "    bestS = []\n",
        "    while getScore(profile(extractSeqs(s, sequences, k), k, nuc), k) > bestScore:\n",
        "        bestS = s\n",
        "        tmpProfile = profile(extractSeqs(s, sequences, k), k, nuc)\n",
        "        bestScore = getScore(tmpProfile, k)\n",
        "        s = getNewS(tmpProfile, k, sequences)\n",
        "    return bestS, int(bestScore)\n",
        "\n",
        "\n",
        "s, bestScore = GreedyProfileMotifSearch(adn, t, n, k)   \n",
        "motifs = extractSeqs(s, adn, k)\n",
        "print (motifs)\n",
        "        "
      ]
    },
    {
      "cell_type": "markdown",
      "metadata": {
        "id": "xvo0wA0R_hu1"
      },
      "source": [
        "10\\. Avez vous trouvez le motif implanté? Rexécuter l’algorithme plusieurs fois pour le trouver. "
      ]
    },
    {
      "cell_type": "code",
      "execution_count": 47,
      "metadata": {},
      "outputs": [
        {
          "name": "stdout",
          "output_type": "stream",
          "text": [
            "motif:  ACGGA\n",
            "modifiedMotifs:  ['CCGGA', 'AGGGA', 'ACGGC']\n",
            "sequences: ['GTCCCGGACT', 'TCTGTAGGGA', 'AGCAACGGCT']\n",
            "s, bestScore: [0, 2, 0] 13\n",
            "['GTCCC', 'TGTAG', 'AGCAA']\n",
            "AGCAA\n"
          ]
        }
      ],
      "source": [
        "nuc = ('A', 'C', 'G', 'T')\n",
        "\n",
        "k=5 #taille de motif\n",
        "v=1 #nb de positions variable dans le motif\n",
        "t=3 #nb de sequences\n",
        "n=10 #longuer des sequence\n",
        "\n",
        "mv = implantMotifVar(k, v, t, n)\n",
        "print(\"sequences:\", mv)\n",
        "\n",
        "sMv, bestScoreMv = GreedyProfileMotifSearch(mv, t, n, k)\n",
        "print(\"s, bestScore:\", sMv, bestScoreMv)\n",
        "seqsMv = extractSeqs(sMv, mv, k)\n",
        "print(seqsMv)\n",
        "consensusMv = getConsensus(profile(seqsMv, k, nuc), k, nuc)\n",
        "print(consensusMv)"
      ]
    },
    {
      "cell_type": "markdown",
      "metadata": {
        "id": "tQw_6g6I_hu1"
      },
      "source": [
        "<strong>Reponse:</strong> En exécutant l'algorithme plusieures fois, on constate que parfois on trouve le motif implémenté avec 1 ou 0 variation, et que la plupart du temps on trouve plus de 2 variations, i.e. on ne trouve pas le motif implémenté."
      ]
    },
    {
      "cell_type": "markdown",
      "metadata": {
        "id": "hFC52cFb_hu1"
      },
      "source": [
        "11\\. Vous avez certainement observer que l’algorithme ne produire pas toujours la même sortie et que les résultats dépendent de la sélection aléatoire des positions de départ `s`. Pour augmenter nous chances de retrouvez les bons motifs, nous allons implémenter une version itérative ``GreedyProfileMotifSearchIte`` \n",
        "qui a chaque fois sauvegarde `s` et le score du profile associé à `s`, après `I` itération, l’algorithme renvoie le vecteur `s` ayant le plus grand score."
      ]
    },
    {
      "cell_type": "markdown",
      "metadata": {},
      "source": [
        "<font><strong>Remarque :</strong> Avec cette version d'itération, la plupart du temps, on trouve au moins un motif implémenté avec 1 variation. Mais on peut trouver également le motif original ou celui avec 2 variations. De plus, le bon motif consensu n'a pas forcément la meuilleure Score.</font>"
      ]
    },
    {
      "cell_type": "code",
      "execution_count": 48,
      "metadata": {
        "id": "RN4HsjUX_hu2"
      },
      "outputs": [
        {
          "name": "stdout",
          "output_type": "stream",
          "text": [
            "{17: [3, 4, 3], 14: [1, 3, 2], 16: [5, 1, 0], 15: [2, 1, 2], 13: [2, 4, 1], 18: [3, 4, 5]} {17: 'CCGAG', 14: 'CCCCA', 16: 'GAACC', 15: 'ACCCA', 13: 'CCCAA', 18: 'CAGAG'}\n"
          ]
        }
      ],
      "source": [
        "def GreedyProfileMotifSearchIte(sequences, t, n, k, It=50):\n",
        "    \"\"\"\n",
        "    Implémente l'algorithme GreedyProfileMotifSearch iteratif\n",
        "\t  entrée séquences: matrice de dimension txn contenant les séquences \n",
        "\t  entrée t : nombre de séquences \n",
        "\t  entrée n : longueur des séquences \n",
        "\t  entrée k: taille du motif \n",
        "    entrée It: nombre d'iterations\n",
        "    sortie positions: dictionnaire clé=score, valeur= vecteur s \n",
        "    sortie consensus: dictionnaire clé=score, valeur= consensus sequence du motif\n",
        "    \"\"\"\n",
        "    pos = {}\n",
        "    consensus = {}\n",
        "    for i in range(It):\n",
        "        s, Score = GreedyProfileMotifSearch(sequences, t, n, k)\n",
        "        motifConsensus = getConsensus(profile(extractSeqs(s, sequences, k), k, nuc), k, nuc)\n",
        "        if Score not in pos.keys():\n",
        "            pos[Score] = s\n",
        "            consensus[Score] = motifConsensus\n",
        "    return pos, consensus\n",
        "\n",
        "def sortSCK(posDict, consensusDict, rev = True):\n",
        "    return sorted([(posDict[k], consensusDict[k],k) for k in posDict.keys()], key=lambda item:item[2], reverse = rev)\n",
        "\n",
        "s, consensus = GreedyProfileMotifSearchIte(adn, t, n, k, 50)\n",
        "print(s, consensus)\n"
      ]
    },
    {
      "cell_type": "code",
      "execution_count": 49,
      "metadata": {},
      "outputs": [
        {
          "name": "stdout",
          "output_type": "stream",
          "text": [
            "motif:  GTTTC\n",
            "modifiedMotifs:  ['GTTTT', 'ATTTC', 'GTTTT']\n",
            "sequences: ['TTGCGTTTTA', 'GTATATTTCC', 'TGTTTTCATT']\n",
            "s, concensus, k:  [([4, 0, 1], 'GTTTT', 18), ([4, 5, 1], 'GTTTT', 17), ([5, 2, 3], 'TTTTA', 16), ([1, 2, 0], 'TGATT', 15), ([3, 0, 5], 'CCATT', 14)]\n"
          ]
        }
      ],
      "source": [
        "nuc = ('A', 'C', 'G', 'T')\n",
        "\n",
        "k=5 #taille de motif\n",
        "v=1 #nb de positions variable dans le motif\n",
        "t=3 #nb de sequences\n",
        "n=10 #longuer des sequence\n",
        "\n",
        "mv2 = implantMotifVar(k, v, t, n)\n",
        "print(\"sequences:\", mv2)\n",
        "\n",
        "posDict, consensusDict = GreedyProfileMotifSearchIte(mv2, t, n, k)\n",
        "\n",
        "\n",
        "print(\"s, concensus, k: \", sortSCK(posDict, consensusDict))\n"
      ]
    },
    {
      "cell_type": "markdown",
      "metadata": {
        "id": "js7TuAsB_hu2"
      },
      "source": [
        "12\\. Tester algorithme  ``GreedyProfileMotifSearchIte`` sur vos données de chipSeq. N'oubliez pas de chercher les motifs dans le brin complémentaire et faire un merge de résultats."
      ]
    },
    {
      "cell_type": "code",
      "execution_count": 50,
      "metadata": {
        "id": "-M8y_sOS_hu3"
      },
      "outputs": [],
      "source": [
        "k=7; v=1; t=20; n=80\n",
        "\n",
        "def readFasta(genome, n):\n",
        "    sequence = []\n",
        "    file = open(genome, \"r\")\n",
        "    sequence = []\n",
        "    for s in file:\n",
        "        if s[0] != \">\":\n",
        "            sequence.append(s.strip().upper())\n",
        "    sequenceStr = \"\".join(sequence)\n",
        "    sequence = [sequenceStr[i:i+n] for i in range(0, len(sequenceStr), n)]\n",
        "    sequenceRet = [x for x in sequence if x]\n",
        "    return sequenceRet\n",
        "\n",
        "genome = \"Sequence_by_Peaks_2.fasta\" #Remplacer par votre fichier\n",
        "\n",
        "sequencesChip = readFasta(genome, n)\n",
        "t = len(sequencesChip)\n",
        "s, consensus = GreedyProfileMotifSearchIte(sequencesChip, t, n, k)\n",
        "# print(s, concensus)\n"
      ]
    },
    {
      "cell_type": "markdown",
      "metadata": {
        "id": "WNn2FXzf5UzK"
      },
      "source": [
        "Afficher les top motifs (leurs sequence consensus) de meilleurs scores."
      ]
    },
    {
      "cell_type": "code",
      "execution_count": 51,
      "metadata": {
        "id": "S7DtjmxjCyQ-"
      },
      "outputs": [
        {
          "name": "stdout",
          "output_type": "stream",
          "text": [
            "TTATTTT\n",
            "TTTTCAT\n",
            "TTATTTA\n",
            "TATTTTT\n",
            "ATAAATT\n",
            "AGCATTT\n",
            "TTTCATT\n",
            "TATATTA\n",
            "AAGTTTT\n",
            "AATTTTA\n"
          ]
        }
      ],
      "source": [
        "def printTopMotifsScore(consensus, top):\n",
        "\n",
        "    motifsSort = sorted(consensus.keys())\n",
        "    motifsSort.reverse()\n",
        "    for i in range(top):\n",
        "      # try:\n",
        "        print (consensus[motifsSort[i]])\n",
        "      # except IndexError:\n",
        "      #     pass\n",
        "\n",
        "top = 10\n",
        "printTopMotifsScore(consensus, top)"
      ]
    },
    {
      "cell_type": "markdown",
      "metadata": {
        "id": "UO-2rHmt_hu3"
      },
      "source": [
        "13\\. Nous allons implémenter l'algorithme ``randomProjection``. D'abord, faites la fonction `getRandomFixePositions` pour générer une projection de k à n, voir un exemple dans les slides de cours. Faire aussi la fonction `generateKey` qui extrait les caractères du motif puis génère une cle qui représente la projection."
      ]
    },
    {
      "cell_type": "code",
      "execution_count": 52,
      "metadata": {
        "id": "72rT-OkS_hu3"
      },
      "outputs": [
        {
          "name": "stdout",
          "output_type": "stream",
          "text": [
            "[1, 5, 4, 6]\n"
          ]
        },
        {
          "data": {
            "text/plain": [
              "'1546'"
            ]
          },
          "execution_count": 52,
          "metadata": {},
          "output_type": "execute_result"
        }
      ],
      "source": [
        "def getRandomFixePositions(k, n):\n",
        "    \"\"\"\n",
        "    Genere une projection de k vers n\n",
        "    entrée k: nombre de positions du motif original\n",
        "    entrée n: nombre de positions choisi pour la projection \n",
        "    sortie projection: liste de positions choisi aléatoirement\n",
        "    \"\"\"    \n",
        "    return random.sample(range(k), n)\n",
        "\n",
        "lR = getRandomFixePositions(7, 4)\n",
        "print (lR)\n",
        "\n",
        "def generateKey(positions, motif):\n",
        "    \"\"\"\n",
        "    extrait les caractères du motif et génère la cle de la projection\n",
        "    entrée positions : liste de positions qui represent la projection\n",
        "    entrée motif : motif de taille k\n",
        "    sortie cle : cle de la projection\n",
        "    \"\"\"\n",
        "    return \"\".join(motif[positions[i]] for i in range(len(positions)))\n",
        "\n",
        "generateKey(lR, \"01234567\")"
      ]
    },
    {
      "cell_type": "markdown",
      "metadata": {
        "id": "NK0BhSs1_hu3"
      },
      "source": [
        "14\\. Implémenter l'algorithme ``randomProjection``."
      ]
    },
    {
      "cell_type": "code",
      "execution_count": 53,
      "metadata": {
        "id": "yaDXNosb_hu3"
      },
      "outputs": [
        {
          "name": "stdout",
          "output_type": "stream",
          "text": [
            "{'CATG': 1, 'GAAC': 1, 'GCAA': 1, 'CGCC': 1, 'ATCG': 1, 'CCTC': 1, 'GACC': 1, 'CCAA': 1, 'GCAC': 1, 'GCCC': 1, 'CGCG': 1, 'CGGT': 1}\n",
            "{'CATG': 'TTAACGG', 'GAAC': 'TAACGGC', 'GCAA': 'AACGGCA', 'CGCC': 'ACGGCAC', 'ATCG': 'GCTCACG', 'CCTC': 'CTCACGC', 'GACC': 'TCACGCC', 'CCAA': 'CACGCCA', 'GCAC': 'TACCGGC', 'GCCC': 'ACCGGCC', 'CGCG': 'CCGGCCG', 'CGGT': 'CGGCCGT'}\n"
          ]
        },
        {
          "data": {
            "text/plain": [
              "[(1, 'TTAACGG', 'CATG'),\n",
              " (1, 'TAACGGC', 'GAAC'),\n",
              " (1, 'AACGGCA', 'GCAA'),\n",
              " (1, 'ACGGCAC', 'CGCC'),\n",
              " (1, 'GCTCACG', 'ATCG'),\n",
              " (1, 'CTCACGC', 'CCTC'),\n",
              " (1, 'TCACGCC', 'GACC'),\n",
              " (1, 'CACGCCA', 'CCAA'),\n",
              " (1, 'TACCGGC', 'GCAC'),\n",
              " (1, 'ACCGGCC', 'GCCC'),\n",
              " (1, 'CCGGCCG', 'CGCG'),\n",
              " (1, 'CGGCCGT', 'CGGT')]"
            ]
          },
          "execution_count": 53,
          "metadata": {},
          "output_type": "execute_result"
        }
      ],
      "source": [
        "def isRepeatN(seq, repeatMax = 5):\n",
        "    repeatDict = {nu: 0 for nu in nuc}\n",
        "    for nu in seq:\n",
        "        repeatDict[nu] += 1\n",
        "        if repeatDict[nu] >= repeatMax:\n",
        "            return True\n",
        "    return False\n",
        "\n",
        "def checkRepeat2(seq, repeat2Max = 5):\n",
        "    repeat2s = {(n1+n2)*(repeat2Max//2)+n1*(repeat2Max % 2) for n1 in nuc for n2 in nuc if n1!=n2}\n",
        "    for repeat2 in repeat2s:\n",
        "        if seq.find(repeat2) != -1:\n",
        "            return True\n",
        "    return False\n",
        "\n",
        "def randomProjection(k, n, sequences, removeLowComplexe = False):\n",
        "    \"\"\"\n",
        "    Implémente l'algorithme randomProjection\n",
        "    entrée k : nombre de positions du motif\n",
        "    entrée n : nombre de positions de la projection \n",
        "    entrée sequences : matrice de dimension txn contenant les séquences \n",
        "    sortie motifs : dictionaire, cle = projection, valeur= frequence\n",
        "    sortie motifsSeq:  dictionaire, cle = projection, valeur= original motif\n",
        "    \"\"\"\n",
        "    \n",
        "    motifs  = dict(); motifsSeq  = dict()\n",
        "    posFixed = getRandomFixePositions(k, n)\n",
        "    not_valid_motif = set()\n",
        "    for i in range(len(sequences)):\n",
        "        seq = sequences[i]\n",
        "        for j in range(len(seq)-k+1):\n",
        "            motif =  seq[j:j+k]\n",
        "            key = generateKey(posFixed, motif)\n",
        "            if key not in motifs.keys():\n",
        "                if key not in not_valid_motif:\n",
        "                    if removeLowComplexe:\n",
        "                        if not checkRepeat2(motif) and not isRepeatN(motif):\n",
        "                            motifs[key] = 1\n",
        "                            motifsSeq[key] = motif\n",
        "                        else:\n",
        "                            not_valid_motif.add(key)\n",
        "                    else:\n",
        "                        motifs[key] = 1\n",
        "                        motifsSeq[key] = motif\n",
        "            else:\n",
        "                motifs[key] += 1\n",
        "    return motifs, motifsSeq\n",
        "\n",
        "\n",
        "adnTest = ['TTAACGGCAC', 'GCTCACGCCA', 'TACCGGCCGT']\n",
        "motifsProj, motifsSeq = randomProjection(7, 4, adnTest)\n",
        "print (motifsProj)\n",
        "print (motifsSeq)\n",
        "\n",
        "def sortPS(motifsProj, motifsSeq, rev = True):\n",
        "    return sorted([(motifsProj[k], motifsSeq[k], k) for k in motifsProj.keys()], key=lambda item:item[0], reverse = rev)\n",
        "sortPS(motifsProj, motifsSeq)"
      ]
    },
    {
      "cell_type": "markdown",
      "metadata": {
        "id": "RWMsME8t_hu3"
      },
      "source": [
        "15\\. Avez vous trouvez le motif implanté? Rexécuter l’algorithme plusieurs fois pour augmenter les chances de le trouver. "
      ]
    },
    {
      "cell_type": "markdown",
      "metadata": {
        "id": "gj5RGPey_hu4"
      },
      "source": [
        "reponse: On peut trouver le motif implémenté, mais il n'a pas forcément la plus grande fréquence, et ce motif est souvent implémenté avec 1 variation. En exécutant plusieurs fois le code, on augmente la chance de le trouvé."
      ]
    },
    {
      "cell_type": "code",
      "execution_count": 54,
      "metadata": {
        "id": "Zs7rapz3_hu5"
      },
      "outputs": [
        {
          "name": "stdout",
          "output_type": "stream",
          "text": [
            "motif:  CTGCA\n",
            "modifiedMotifs:  ['CCGCA', 'CTGCT', 'TTGCA']\n",
            "sequences: ['ACCGCAAACC', 'CCTGCTATTA', 'ATACATTGCA']\n",
            "[(2, 'CCGCA', 'GAC'), (2, 'CCTGC', 'TCG'), (2, 'CTATT', 'ATT'), (1, 'ACCGC', 'CCG'), (1, 'CGCAA', 'CAA'), (1, 'GCAAA', 'AAA'), (1, 'CAAAC', 'ACA'), (1, 'AAACC', 'ACC'), (1, 'CTGCT', 'GTC'), (1, 'TGCTA', 'CAT'), (1, 'GCTAT', 'TTA'), (1, 'TATTA', 'TAT'), (1, 'ATACA', 'AAC'), (1, 'TACAT', 'CTA'), (1, 'CATTG', 'TGT')]\n"
          ]
        }
      ],
      "source": [
        "nuc = ('A', 'C', 'G', 'T')\n",
        "\n",
        "k=5 #taille de motif\n",
        "v=1 #nb de positions variable dans le motif\n",
        "t=3 #nb de sequences\n",
        "n=10 #longuer des sequence\n",
        "\n",
        "mv3 = implantMotifVar(k, v, t, n)\n",
        "print(\"sequences:\", mv3)\n",
        "\n",
        "projMv3, seqMv3 = randomProjection(k, 3, mv3)\n",
        "print(sortPS(projMv3, seqMv3))"
      ]
    },
    {
      "cell_type": "markdown",
      "metadata": {
        "id": "1DHZjpi4_hu6"
      },
      "source": [
        "16\\. Implémenter la version itérative de l’algorithme ``randomProjection``. "
      ]
    },
    {
      "cell_type": "code",
      "execution_count": 55,
      "metadata": {
        "id": "WkfqvtsT_hu6"
      },
      "outputs": [
        {
          "name": "stdout",
          "output_type": "stream",
          "text": [
            "2 CCCCCAG\n"
          ]
        }
      ],
      "source": [
        "def randomProjIt(sequences, k, v, nuc, It=50, removeLowComplexe=False):\n",
        "    \"\"\"\n",
        "    Implémente l'algorithme randomProjection version iteractive\n",
        "    entrée sequences : matrice de dimension txn contenant les séquences \n",
        "    entrée k : nombre de positions du motif\n",
        "    entrée v : nombre de positions de la projection \n",
        "    entrée nuc : alphabet\n",
        "    entrée It: nombre d'iterations\n",
        "    sortie score : meilleur score\n",
        "    sortie motifs :  liste de motifs associés au meilleur score\n",
        "    \"\"\"\n",
        "    \n",
        "    motifs = []; scores = []\n",
        "    for i in range(It):\n",
        "        motifsProj, motifsSeq = randomProjection(k, v, sequences, removeLowComplexe)\n",
        "        bestScore, motif, bucket = sortPS(motifsProj, motifsSeq)[0]\n",
        "        scores.append(bestScore)\n",
        "        motifs.append(motif)\n",
        "\n",
        "    return max(scores), motifs[scores.index(max(scores))] \n",
        "\n",
        "score, seqsMotif = randomProjIt(adn, 7, 4, nuc, 100)\n",
        "\n",
        "print (score, seqsMotif)\n"
      ]
    },
    {
      "cell_type": "markdown",
      "metadata": {
        "id": "JeBaa7f1_hu6"
      },
      "source": [
        "17\\. Tester l'algorithme  ``randomProjection`` sur vos données de chipSeq. N'oubliez pas de chercher les motifs dans le brin complémentaire et faire un merge de résultats. Puis générér le LOGO du motif trouvé."
      ]
    },
    {
      "cell_type": "code",
      "execution_count": 56,
      "metadata": {
        "id": "_jcWAluO_hu7"
      },
      "outputs": [
        {
          "name": "stdout",
          "output_type": "stream",
          "text": [
            "430 TCTTTCT\n"
          ]
        }
      ],
      "source": [
        "score, seqsMotif = randomProjIt(sequencesChip, 7, 4, nuc, 100)\n",
        "print(score, seqsMotif)"
      ]
    },
    {
      "cell_type": "markdown",
      "metadata": {
        "id": "KTvZuyFe9FoM"
      },
      "source": [
        "18\\. Vous avez sans doute remarqué que les algos implémentés trouvent, suivant des motifs peu complexes, réviser les implémentations pour régler/diminuer ce problème."
      ]
    },
    {
      "cell_type": "markdown",
      "metadata": {},
      "source": [
        "<strong>réponse : </strong>On ajoute un paramètre optionel `removeLowComplexe`, à défault False, aux fonction `randomProjection` et `randomProjIt`. Si ce paramètre vaut True, alors les motifs simples seront éliminés.<br/>\n",
        "Donc on obtient 430 TCTTTCT (avant d'éliminer) 378 CGTTTAT (après). (score, motif)\n"
      ]
    },
    {
      "cell_type": "code",
      "execution_count": 57,
      "metadata": {
        "id": "u__Up1UU-IYZ"
      },
      "outputs": [
        {
          "name": "stdout",
          "output_type": "stream",
          "text": [
            "378 CGTTTAT\n"
          ]
        }
      ],
      "source": [
        "score, seqsMotif = randomProjIt(sequencesChip, 7, 4, nuc, 100, True)\n",
        "print(score, seqsMotif)"
      ]
    },
    {
      "cell_type": "code",
      "execution_count": null,
      "metadata": {},
      "outputs": [],
      "source": []
    }
  ],
  "metadata": {
    "celltoolbar": "Raw Cell Format",
    "colab": {
      "collapsed_sections": [],
      "name": "TME6_2022.ipynb",
      "provenance": []
    },
    "kernelspec": {
      "display_name": "Python 3",
      "language": "python",
      "name": "python3"
    },
    "language_info": {
      "codemirror_mode": {
        "name": "ipython",
        "version": 3
      },
      "file_extension": ".py",
      "mimetype": "text/x-python",
      "name": "python",
      "nbconvert_exporter": "python",
      "pygments_lexer": "ipython3",
      "version": "3.8.10"
    }
  },
  "nbformat": 4,
  "nbformat_minor": 0
}
