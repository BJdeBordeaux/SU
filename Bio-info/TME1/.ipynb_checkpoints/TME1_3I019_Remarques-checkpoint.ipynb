{
 "cells": [
  {
   "cell_type": "markdown",
   "metadata": {},
   "source": [
    "## Quand utiliser la fonction `print` dans Jupyter?"
   ]
  },
  {
   "cell_type": "code",
   "execution_count": 1,
   "metadata": {},
   "outputs": [
    {
     "data": {
      "text/plain": [
       "\"\\nComme Jupyter imprime toujours le résultat de la dernière ligne de code dans la cellule, \\nil n'est pas nécessaire d'utiliser print explicitement.\\n\""
      ]
     },
     "execution_count": 1,
     "metadata": {},
     "output_type": "execute_result"
    }
   ],
   "source": [
    "\"\"\"\n",
    "Comme Jupyter imprime toujours le résultat de la dernière ligne de code dans la cellule, \n",
    "il n'est pas nécessaire d'utiliser print explicitement.\n",
    "\"\"\"\n",
    "# \"\"\" ou ''' indique une chaine de caractères multiligne"
   ]
  },
  {
   "cell_type": "code",
   "execution_count": 3,
   "metadata": {},
   "outputs": [],
   "source": [
    "\"On peut utiliser ; a la fin pour éviter que Jupyter imprime le résultat.\";"
   ]
  },
  {
   "cell_type": "markdown",
   "metadata": {},
   "source": [
    "Jupyter n'utilise pas `print` pour imprimer le résultat, par conséquent il y a des objets pour les qui on préfère utiliser `print` (par exemple avec chaine des caractères) où l'imprimant par défaut de Jupyter (par exemple avec *dataframes* de *pandas*). Aussi on peut utiliser `print` de manière explicite dans une Jupyter notebook quand on veut imprimer plusieurs des choses dans la même cellule:"
   ]
  },
  {
   "cell_type": "code",
   "execution_count": 13,
   "metadata": {},
   "outputs": [
    {
     "name": "stdout",
     "output_type": "stream",
     "text": [
      "[1, 2, 3]\n"
     ]
    },
    {
     "data": {
      "text/plain": [
       "[1, 2, 3, 4]"
      ]
     },
     "execution_count": 13,
     "metadata": {},
     "output_type": "execute_result"
    }
   ],
   "source": [
    "liste = [1, 2, 3]\n",
    "print(liste)\n",
    "liste.append(4)\n",
    "liste"
   ]
  },
  {
   "cell_type": "markdown",
   "metadata": {},
   "source": [
    "## Ne vous répétez pas"
   ]
  },
  {
   "cell_type": "markdown",
   "metadata": {},
   "source": [
    "[C'est toujours une bonne idée ne répétez pas code.](https://fr.wikipedia.org/wiki/Ne_vous_répétez_pas) Il y a plusieurs façons d'éviter la répétition. Une de les plus simples est écrire des variables avec la valeur qu'on va à utiliser plusieurs fois. Autre solution peut être d'écrire des fonctions."
   ]
  },
  {
   "cell_type": "code",
   "execution_count": 35,
   "metadata": {},
   "outputs": [],
   "source": [
    "dna = 'CTGACCACTTTACGAGGTTAGC'"
   ]
  },
  {
   "cell_type": "code",
   "execution_count": 36,
   "metadata": {},
   "outputs": [
    {
     "data": {
      "text/plain": [
       "'TAC'"
      ]
     },
     "execution_count": 36,
     "metadata": {},
     "output_type": "execute_result"
    }
   ],
   "source": [
    "# avec répétition\n",
    "dna[(len(dna) // 2) - 1:(len(dna) // 2) + 2]"
   ]
  },
  {
   "cell_type": "code",
   "execution_count": 37,
   "metadata": {},
   "outputs": [
    {
     "data": {
      "text/plain": [
       "'TAC'"
      ]
     },
     "execution_count": 37,
     "metadata": {},
     "output_type": "execute_result"
    }
   ],
   "source": [
    "# sans répétition\n",
    "index = len(dna) // 2\n",
    "dna[index - 1:index + 2]"
   ]
  },
  {
   "cell_type": "code",
   "execution_count": 43,
   "metadata": {},
   "outputs": [
    {
     "name": "stdout",
     "output_type": "stream",
     "text": [
      "TAC\n",
      "CTC\n"
     ]
    }
   ],
   "source": [
    "# avec répétition\n",
    "dna = 'CTGACCACTTTACGAGGTTAGC'\n",
    "index = len(dna) // 2\n",
    "print(dna[index - 1:index + 2])\n",
    "dna = 'ACTCA'\n",
    "index = len(dna) // 2\n",
    "print(dna[index - 1:index + 2])"
   ]
  },
  {
   "cell_type": "code",
   "execution_count": 46,
   "metadata": {},
   "outputs": [
    {
     "name": "stdout",
     "output_type": "stream",
     "text": [
      "TAC\n",
      "CTC\n"
     ]
    }
   ],
   "source": [
    "# sans répétition\n",
    "def codon_au_milieu(dna):\n",
    "    \"\"\"\n",
    "    Renvoi les trois caractères au milieu de la chaîne.\n",
    "    \n",
    "    >>> codon_au_milieu('12345')\n",
    "    '234'\n",
    "    >>> codon_au_milieu('123456')\n",
    "    '345'\n",
    "    \"\"\"\n",
    "    index = len(dna) // 2\n",
    "    return dna[index - 1:index + 2]\n",
    "\n",
    "\n",
    "print(codon_au_milieu('CTGACCACTTTACGAGGTTAGC'))\n",
    "print(codon_au_milieu('ACTCA'))"
   ]
  },
  {
   "cell_type": "markdown",
   "metadata": {},
   "source": [
    "La dernière version c'est beaucoup plus facile à modifier, maintenir, tester...."
   ]
  },
  {
   "cell_type": "markdown",
   "metadata": {},
   "source": [
    "## Indexation"
   ]
  },
  {
   "cell_type": "code",
   "execution_count": 52,
   "metadata": {},
   "outputs": [],
   "source": [
    "# index (+)\n",
    "#                111111111122\n",
    "#      0123456789012345678901\n",
    "dna = 'CTGACCACTTTACGAGGTTAGC'\n",
    "# index (-)\n",
    "#      -------------\n",
    "#      2211111111111---------          \n",
    "#      2109876543210987654321"
   ]
  },
  {
   "cell_type": "code",
   "execution_count": 53,
   "metadata": {},
   "outputs": [
    {
     "data": {
      "text/plain": [
       "'C'"
      ]
     },
     "execution_count": 53,
     "metadata": {},
     "output_type": "execute_result"
    }
   ],
   "source": [
    "# Le premier caractère est à l'index 0:\n",
    "dna[0]"
   ]
  },
  {
   "cell_type": "code",
   "execution_count": 54,
   "metadata": {},
   "outputs": [
    {
     "data": {
      "text/plain": [
       "'C'"
      ]
     },
     "execution_count": 54,
     "metadata": {},
     "output_type": "execute_result"
    }
   ],
   "source": [
    "# Le dernier caractère est à l'index -1:\n",
    "dna[-1]"
   ]
  },
  {
   "cell_type": "code",
   "execution_count": 55,
   "metadata": {},
   "outputs": [
    {
     "data": {
      "text/plain": [
       "'CTG'"
      ]
     },
     "execution_count": 55,
     "metadata": {},
     "output_type": "execute_result"
    }
   ],
   "source": [
    "# Les premières trois caractères en utilisant le début implicite,\n",
    "# le dernier index est toujours exclude du résultat:\n",
    "dna[:3]"
   ]
  },
  {
   "cell_type": "code",
   "execution_count": 56,
   "metadata": {},
   "outputs": [
    {
     "data": {
      "text/plain": [
       "'GC'"
      ]
     },
     "execution_count": 56,
     "metadata": {},
     "output_type": "execute_result"
    }
   ],
   "source": [
    "# Les deux derniers caractères en utilisant la fin implicite:\n",
    "dna[-2:]"
   ]
  },
  {
   "cell_type": "code",
   "execution_count": 57,
   "metadata": {},
   "outputs": [
    {
     "data": {
      "text/plain": [
       "'TAC'"
      ]
     },
     "execution_count": 57,
     "metadata": {},
     "output_type": "execute_result"
    }
   ],
   "source": [
    "# Les trois caractères au milieu de la chaîne\n",
    "# en utilizant en utilisant la division entière:\n",
    "i = len(dna) // 2\n",
    "dna[i - 1:i + 2]\n",
    "# Le +2 est nécessaire parce que le dernier index est toujours exclué."
   ]
  },
  {
   "cell_type": "code",
   "execution_count": 58,
   "metadata": {},
   "outputs": [
    {
     "data": {
      "text/plain": [
       "'CGATTGGAGCATTTCACCAGTC'"
      ]
     },
     "execution_count": 58,
     "metadata": {},
     "output_type": "execute_result"
    }
   ],
   "source": [
    "# Commencer pour le dernier element jusqu'au début (implicit), en avançant -1 chaque pas\n",
    "dna[-1::-1]"
   ]
  },
  {
   "cell_type": "markdown",
   "metadata": {},
   "source": [
    "## Test d'appartenance: `in`"
   ]
  },
  {
   "cell_type": "code",
   "execution_count": 12,
   "metadata": {},
   "outputs": [
    {
     "data": {
      "text/plain": [
       "False"
      ]
     },
     "execution_count": 12,
     "metadata": {},
     "output_type": "execute_result"
    }
   ],
   "source": [
    "# Utilisez le mot-clé in pour tester si une clé est dans le dictionnaire\n",
    "'N' in {'A': 'T', 'C': 'G', 'T': 'A', 'G': 'C'}\n",
    "# ou si un élément est dans une liste,\n",
    "'N' in ['A', 'C', 'T', 'G']\n",
    "# chaine des caractères\n",
    "'N' in 'ACTG'\n",
    "# ou ensembles.\n",
    "'N' in {'A', 'C', 'T', 'G'}"
   ]
  },
  {
   "cell_type": "markdown",
   "metadata": {},
   "source": [
    "La [complexité en temps](https://fr.wikipedia.org/wiki/Complexité_en_temps) pour tester si une clé est dans le dictionnaire ou si un élément est dans un ensemble est constant, c'est à dire *O(1)*. Par contre, tester si un élément est dans une liste ou chaine des caractères est lineal *O(N)*."
   ]
  },
  {
   "cell_type": "markdown",
   "metadata": {},
   "source": [
    "### Pythonique"
   ]
  },
  {
   "cell_type": "markdown",
   "metadata": {},
   "source": [
    "Il y a deux façons de vérifier si une chaîne et dans une autre, l'une utilise `find` et utilise le fait qu'elle renvoie `-1` si elle ne trouve pas la sous-chaîne, l'autre utilise `in`:"
   ]
  },
  {
   "cell_type": "code",
   "execution_count": 29,
   "metadata": {},
   "outputs": [],
   "source": [
    "chaine = 'ACTG'"
   ]
  },
  {
   "cell_type": "code",
   "execution_count": 30,
   "metadata": {},
   "outputs": [
    {
     "data": {
      "text/plain": [
       "False"
      ]
     },
     "execution_count": 30,
     "metadata": {},
     "output_type": "execute_result"
    }
   ],
   "source": [
    "chaine.find('N') != -1"
   ]
  },
  {
   "cell_type": "code",
   "execution_count": 31,
   "metadata": {},
   "outputs": [
    {
     "data": {
      "text/plain": [
       "False"
      ]
     },
     "execution_count": 31,
     "metadata": {},
     "output_type": "execute_result"
    }
   ],
   "source": [
    "'N' in chaine"
   ]
  },
  {
   "cell_type": "markdown",
   "metadata": {},
   "source": [
    "Les deux donnent la bonne réponse, cependant utiliser in est la meilleure façon de faire en Python. C'est le moyen le plus [pythonique](https://zestedesavoir.com/articles/1079/les-secrets-dun-code-pythonique/) de résoudre le problème car il est plus d'accord avec le Zen du Python:  \n",
    "\n",
    "> *Le beau est préférable au laid.*  \n",
    "> *L’explicite est préférable à l’implicite.*  \n",
    "> *Le simple est préférable au complexe.*  \n",
    "> *...*  \n",
    "> *La lisibilité compte.*  \n",
    "> *...*  \n",
    "> *Il devrait y avoir une – et de préférence une seule – manière évidente de le faire.*  "
   ]
  },
  {
   "cell_type": "markdown",
   "metadata": {},
   "source": [
    "## Opérateurs en circuit court "
   ]
  },
  {
   "cell_type": "markdown",
   "metadata": {},
   "source": [
    "Les opérateurs booléens and et or sont appelés [opérateurs en circuit court](https://docs.python.org/fr/3/tutorial/datastructures.html?highlight=short%20circuit#more-on-conditions): leurs arguments sont évalués de la gauche vers la droite et l'évaluation s'arrête dès que le résultat est déterminé"
   ]
  },
  {
   "cell_type": "code",
   "execution_count": 33,
   "metadata": {},
   "outputs": [
    {
     "name": "stdout",
     "output_type": "stream",
     "text": [
      "Je suis executé\n"
     ]
    }
   ],
   "source": [
    "True and print('Je suis executé')"
   ]
  },
  {
   "cell_type": "code",
   "execution_count": 34,
   "metadata": {},
   "outputs": [
    {
     "data": {
      "text/plain": [
       "False"
      ]
     },
     "execution_count": 34,
     "metadata": {},
     "output_type": "execute_result"
    }
   ],
   "source": [
    "False and print('Je ne suis pas executé')"
   ]
  },
  {
   "cell_type": "markdown",
   "metadata": {},
   "source": [
    "## `reversed` vs `list.reverse`"
   ]
  },
  {
   "cell_type": "markdown",
   "metadata": {},
   "source": [
    "`reversed` donne un [iterator](https://docs.python.org/fr/3/glossary.html#term-iterator) inversé sans modifier l'objet."
   ]
  },
  {
   "cell_type": "code",
   "execution_count": 20,
   "metadata": {},
   "outputs": [],
   "source": [
    "liste = [1, 2, 3]"
   ]
  },
  {
   "cell_type": "code",
   "execution_count": 21,
   "metadata": {},
   "outputs": [
    {
     "data": {
      "text/plain": [
       "<list_reverseiterator at 0x8c4850>"
      ]
     },
     "execution_count": 21,
     "metadata": {},
     "output_type": "execute_result"
    }
   ],
   "source": [
    "reversed(liste)"
   ]
  },
  {
   "cell_type": "code",
   "execution_count": 22,
   "metadata": {},
   "outputs": [
    {
     "data": {
      "text/plain": [
       "[1, 2, 3]"
      ]
     },
     "execution_count": 22,
     "metadata": {},
     "output_type": "execute_result"
    }
   ],
   "source": [
    "liste  # il n'a pas changé"
   ]
  },
  {
   "cell_type": "markdown",
   "metadata": {},
   "source": [
    "Vous pouvez utiliser `list` pour obtenir la liste inversée:"
   ]
  },
  {
   "cell_type": "code",
   "execution_count": 30,
   "metadata": {},
   "outputs": [
    {
     "data": {
      "text/plain": [
       "[1, 2, 3]"
      ]
     },
     "execution_count": 30,
     "metadata": {},
     "output_type": "execute_result"
    }
   ],
   "source": [
    "list(reversed(liste))"
   ]
  },
  {
   "cell_type": "markdown",
   "metadata": {},
   "source": [
    "Par contre, la méthode `reverse` inverse l'ordre des éléments de la liste, sur place (*in-place*)."
   ]
  },
  {
   "cell_type": "code",
   "execution_count": 23,
   "metadata": {},
   "outputs": [],
   "source": [
    "liste.reverse()"
   ]
  },
  {
   "cell_type": "code",
   "execution_count": 31,
   "metadata": {},
   "outputs": [
    {
     "data": {
      "text/plain": [
       "[3, 2, 1]"
      ]
     },
     "execution_count": 31,
     "metadata": {},
     "output_type": "execute_result"
    }
   ],
   "source": [
    "liste  # il a changé!"
   ]
  },
  {
   "cell_type": "markdown",
   "metadata": {},
   "source": [
    "### copie d'objets"
   ]
  },
  {
   "cell_type": "markdown",
   "metadata": {},
   "source": [
    "Vous pouvez utiliser une copie de l'objet pour éviter la modification de l'objet original. Le module [copy](https://docs.python.org/fr/3/library/copy.html?highlight=copy#module-copy) permet de faire copies des objets."
   ]
  },
  {
   "cell_type": "code",
   "execution_count": 25,
   "metadata": {},
   "outputs": [],
   "source": [
    "import copy"
   ]
  },
  {
   "cell_type": "code",
   "execution_count": 32,
   "metadata": {},
   "outputs": [],
   "source": [
    "liste = [1, 2, 3]\n",
    "copie = copy.copy(liste)"
   ]
  },
  {
   "cell_type": "code",
   "execution_count": 33,
   "metadata": {},
   "outputs": [
    {
     "data": {
      "text/plain": [
       "([1, 2, 3], [1, 2, 3])"
      ]
     },
     "execution_count": 33,
     "metadata": {},
     "output_type": "execute_result"
    }
   ],
   "source": [
    "copie, liste"
   ]
  },
  {
   "cell_type": "code",
   "execution_count": 34,
   "metadata": {},
   "outputs": [],
   "source": [
    "copie.reverse()"
   ]
  },
  {
   "cell_type": "code",
   "execution_count": 35,
   "metadata": {},
   "outputs": [
    {
     "data": {
      "text/plain": [
       "([3, 2, 1], [1, 2, 3])"
      ]
     },
     "execution_count": 35,
     "metadata": {},
     "output_type": "execute_result"
    }
   ],
   "source": [
    "copie, liste"
   ]
  },
  {
   "cell_type": "markdown",
   "metadata": {},
   "source": [
    "## *docstrings* et *doctests*"
   ]
  },
  {
   "cell_type": "markdown",
   "metadata": {},
   "source": [
    "Vous trouverez plus de informations sur [*docstrings* et *doctests* ici](https://blog.octo.com/python-doctest-quand-la-doc-devient-test/)."
   ]
  },
  {
   "cell_type": "markdown",
   "metadata": {},
   "source": [
    "## Bonnes pratiques de codage en Python."
   ]
  },
  {
   "cell_type": "markdown",
   "metadata": {},
   "source": [
    "Vous trouverez plus de informations sur [*PEP 8* et *20* ici](https://openclassrooms.com/fr/courses/235344-apprenez-a-programmer-en-python/235263-de-bonnes-pratiques)."
   ]
  },
  {
   "cell_type": "markdown",
   "metadata": {},
   "source": [
    "[Pylint](https://fr.wikipedia.org/wiki/Pylint) permet de trouver des erreurs dans le code et faire plus facile à suivre les recommandations en PEP8."
   ]
  },
  {
   "cell_type": "markdown",
   "metadata": {},
   "source": [
    "[code_prettify](https://jupyter-contrib-nbextensions.readthedocs.io/en/latest/nbextensions/code_prettify/README_code_prettify.html) il permet d'utiliser [yapf](http://sametmax.com/reformater-son-code-avec-yapf/) en jupyter pour suivre quelques règles du PEP8 de manière automatique"
   ]
  },
  {
   "cell_type": "markdown",
   "metadata": {},
   "source": [
    "## Fonctions anonymes"
   ]
  },
  {
   "cell_type": "markdown",
   "metadata": {},
   "source": [
    "Vous trouverez plus de informations sur les [fonctions anonymes ici](https://docs.python.org/fr/3/tutorial/controlflow.html#lambda-expressions)"
   ]
  },
  {
   "cell_type": "markdown",
   "metadata": {},
   "source": [
    "## `str.format()` et `f\"...\"`"
   ]
  },
  {
   "cell_type": "markdown",
   "metadata": {},
   "source": [
    "Vous pouvez lire plus sur `f\"...\"` [ici](https://docs.python.org/fr/3/reference/lexical_analysis.html#formatted-string-literals) et sur `\"...\".format()` [ici](https://docs.python.org/fr/3/library/string.html#formatspec)."
   ]
  },
  {
   "cell_type": "markdown",
   "metadata": {},
   "source": [
    "En les plus nouvelles versions de Python vous pouvez faire `f\"{seqid}\\n{seq}\"`,  \n",
    "en version une peu plus ancienne on peut faire `\"{}\\n{}\".format(seqid, seq)` à la place."
   ]
  },
  {
   "cell_type": "code",
   "execution_count": null,
   "metadata": {},
   "outputs": [],
   "source": []
  }
 ],
 "metadata": {
  "kernelspec": {
   "display_name": "Python 3",
   "language": "python",
   "name": "python3"
  },
  "language_info": {
   "codemirror_mode": {
    "name": "ipython",
    "version": 3
   },
   "file_extension": ".py",
   "mimetype": "text/x-python",
   "name": "python",
   "nbconvert_exporter": "python",
   "pygments_lexer": "ipython3",
   "version": "3.6.9"
  }
 },
 "nbformat": 4,
 "nbformat_minor": 2
}
