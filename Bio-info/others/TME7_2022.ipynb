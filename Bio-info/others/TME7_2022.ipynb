{
 "cells": [
  {
   "cell_type": "markdown",
   "metadata": {
    "id": "lRIv7xNV0nf9"
   },
   "source": [
    "# TME 7 : Projet Detection de motifs\n",
    "\n",
    "\n",
    "## Recheche de pattern (motifs) en utilisant les suffix trees\n",
    "\n",
    "Nous allons utiliser l'algorithme suffix-tree pour la recherche rapide et éfficace de motifs. Un suffix-tree est construit à partir d'un jeux de séquences, ensuite nous pouvons rechercher le motif en temps O(k) où k est la longueur du motif."
   ]
  },
  {
   "cell_type": "markdown",
   "metadata": {
    "id": "p2zEyqSq0nf_"
   },
   "source": [
    "1\\. Nous allons réutiliser les fonctions du TME6 pour générer ``t`` séquences artificielles de taille ``n``, et implanter dans chaque séquence un motif de taille ``k`` à des positions aléatoires avec ``v`` substitutions choisies aléatoirement. Cependant, les ``t`` séquences artificielles initiales (sans implantation) ainsi que le motif initial (sans variation/mutation) doivent être générées une seule fois. Ensuite, selon chaque question, nous introduisons des différentes variation au motif initial et les implantons dans les séquences afin de générer des nouveau jeux de données. "
   ]
  },
  {
   "cell_type": "code",
   "execution_count": 141,
   "metadata": {
    "id": "VagWKovI0ngA"
   },
   "outputs": [],
   "source": [
    "import math\n",
    "import random\n",
    "from random import *\n",
    "import operator\n",
    "import numpy as np\n",
    "\n",
    "\n",
    "nuc = ('A', 'C', 'G', 'T')\n",
    "\n",
    "k=8 #taille de motif\n",
    "v=0 #nb de positions variables dans le motif\n",
    "t=5 #nb de sequences\n",
    "n=100 #longuer des sequence\n"
   ]
  },
  {
   "cell_type": "markdown",
   "metadata": {
    "id": "N39jNZyt0ngC"
   },
   "source": [
    "1.1\\. Generer les séquences artificielles initiales et implanter un motif (sans variation, v=0)"
   ]
  },
  {
   "cell_type": "code",
   "execution_count": 16,
   "metadata": {
    "id": "3Vgz0SW71WtP"
   },
   "outputs": [
    {
     "name": "stdout",
     "output_type": "stream",
     "text": [
      "['CATGTCCAAGCGTCGTAGTGACCTGTTGATGCACCGCCCTTACTACTATCTAGGCTATAGGTGCGATTGATTCTGTCATGTTGGAAAATTGC', 'CAATGCCCCAAGTCCTCACCTTAACTCTTGAAAATTCAGCACCCCATGATCTATTGTTAAGTATCCAGTGGATCATGCAGCCAAGCCTAGGC', 'ACAGAAGAGGCAAATCCCTACAACGAATTCGACGAAAACTGCAGACTATCGTTTATCTTACAAAATAATGAGGCTTTACGTTGGCACAGCCT', 'GAACAAACGTTGGTATCGGACGTTGCCAACGAGGCCGTAGCGGAGATGGCAGCTTGCTATATGGGGGGCTGTCAGGCTTTTGGACGGAGTCC', 'GTCGGAGAACAGGCCAGCGCAACAGTTTTCAGTCCGTGAGGTATACATATGAAGAGCTCCCTGTGCTGGTGGGAACGCCGTTGCGTGTGCAC']\n",
      "['CATGTCCAAGCGTCGTAGTGACCTGTTGATGCACCGCCCTTACTACTATCTAGGCTATAGGTGCGATTGATTCTGTCATGTTGGAATTGCCTGAAATTGC', 'CAATGCCCCAAGTCCTCAATTGCCTGCCTTAACTCTTGAAAATTCAGCACCCCATGATCTATTGTTAAGTATCCAGTGGATCATGCAGCCAAGCCTAGGC', 'ACAGAAGAGGCAAATATTGCCTGCCCTACAACGAATTCGACGAAAACTGCAGACTATCGTTTATCTTACAAAATAATGAGGCTTTACGTTGGCACAGCCT', 'GAACAAACGTTGGTATCGGACGTTGCCAACGAGGCCGTAGCGGAGATGGCAGCTTGCTATATGGGGGATTGCCTGGCTGTCAGGCTTTTGGACGGAGTCC', 'GTCGGAGAACAGGCCAGCGCAACAGTTTATTGCCTGTCAGTCCGTGAGGTATACATATGAAGAGCTCCCTGTGCTGGTGGGAACGCCGTTGCGTGTGCAC']\n",
      "ATTGCCTG\n"
     ]
    }
   ],
   "source": [
    "def generateRandomSequence(n, upper=True):\n",
    "    \"\"\"\n",
    "    Génère une séquence nucléotidique aléatoire \n",
    "    entrée n : longueur de la sequence\n",
    "    entrée upper : bool, si True les nucléotides seront majuscule, False minuscule\n",
    "    sortie sequence : une séquence nucléotidique aléatoire \n",
    "    \"\"\"\n",
    "    sequence = \"\"\n",
    "    if upper:      \n",
    "        for i in range(0,n) :\n",
    "            sequence+= choice(nuc).upper()\n",
    "    else:\n",
    "        for i in range(0,n) :\n",
    "            sequence+= choice(nuc).lower()\n",
    "   \n",
    "    return sequence\n",
    "\n",
    "\n",
    "def posrand(taille, nb_nu):\n",
    "    \"\"\"\n",
    "    taille : len du motif\n",
    "    nb_nu : nb de nucleotides a changer\n",
    "    choisi dans une sequence les positions où insérer les motifs\n",
    "    renvoie une liste de int #position\n",
    "    \"\"\"\n",
    "    listpos = []\n",
    "    i = 0\n",
    "    while i < nb_nu:\n",
    "        rand = randint(0,taille-1)\n",
    "        if rand not in listpos :\n",
    "            listpos.append(rand)\n",
    "            i += 1\n",
    "    return sorted(listpos)\n",
    "\n",
    "\n",
    "def modifierMotif(motif, nbpos,  upper=True):\n",
    "    \"\"\"\n",
    "    Modifie nbpos positions d'un motif aléatoirement \n",
    "    entrée motif: motif à modifier\n",
    "    entrée nbpos: nombre de positions\n",
    "    entrée upper : bool, si True les nucléotides modifiés seront majuscule, False minuscule\n",
    "    sortie motifM: motif modifié\n",
    "    \"\"\"\n",
    "    motifM = ''\n",
    "    #je transforme le motif en liste pour changer les nuc\n",
    "    listemotif = list(motif)\n",
    "    listePos = posrand(len(motif),nbpos)\n",
    "    \n",
    "    for n in listePos :\n",
    "        listemotif[n] = choice(nuc)\n",
    "        \n",
    "    motifM = \"\".join(listemotif)\n",
    "    \n",
    "    if upper :\n",
    "        motifM = motifM.upper()\n",
    "    else :\n",
    "        motifM = motifM.lower()\n",
    "\n",
    "    return motifM\n",
    "\n",
    "\n",
    "def implantMotifVar(k, v, t, n):\n",
    "    \"\"\"\n",
    "    Génère des séquences aléatoires et les implante des motifs variables (un motif par séquence)\n",
    "    entrée k: taille du motif\n",
    "    entrée v: nombre de variations\n",
    "    entrée t : nombre de séquences \n",
    "    entrée n : longueur des séquences\n",
    "    sortie DNA : matrice de dimension txn avec les motifs implantés\n",
    "    REMARQUE : La taille totale des séquences plus le motif doit être égal à n, pensez à générer de séquence aléatoire de taille n-k pour pouvoir implanter un motif de taille k\n",
    "    \"\"\"\n",
    "  \n",
    "    sequences = []\n",
    "    taille = n-k\n",
    "    motif = generateRandomSequence(k)\n",
    "    \n",
    "    print(\"Le motif : \" + motif)\n",
    "    for i in range(t):\n",
    "        seq = generateRandomSequence(taille,True)\n",
    "        \n",
    "        listeseq = list(seq)\n",
    "        listeseq.insert(randint(0,taille-1), modifierMotif(motif, v))\n",
    "        seq = ''.join(listeseq)\n",
    "        sequences.append(seq)\n",
    "    \n",
    "\n",
    "    return sequences\n",
    "\n",
    "def implantMotif(sequences, motif, k, v, t, n):\n",
    "    \"\"\"\n",
    "    Génère des séquences aléatoires et implante des motifs (un motif par séquence)\n",
    "    entrée k: taille du motif\n",
    "    entrée v: nombre de variations (si v==0 implante un motif sans variations)\n",
    "    entrée t : nombre de séquences \n",
    "    entrée n : longueur des séquences\n",
    "    sortie DNAOrig : matrice de dimension t x n-k avec les sequences aléatoires\n",
    "    sortie DNAMot: matrice de dimension t x n avec les sequences aléatoires et les motifs implantés\n",
    "    sortie motifFix: motif sans variations\n",
    "    REMARQUE : La taille totale des séquences plus motif doit être égal à n, pensez à générer de séquence aléatoire de taille n-k pour pouvoir implanter un motif de taille k\n",
    "    Cette fonction permet de soit générer les séquences et le motif, soit juste implanter de motif (avec ou sans variations) à des séquences et motif existantes (passé en paramètre)\n",
    "    \"\"\"\n",
    "    DNAOrig = []\n",
    "    DNAMot = []\n",
    "    motif = generateRandomSequence(k)\n",
    "    \n",
    "    for i in range(t):\n",
    "        seq = generateRandomSequence(n-k)\n",
    "        DNAOrig.append(seq)\n",
    "        \n",
    "        listeseq = list(seq)\n",
    "        listeseq.insert(randint(0,n-k-1), modifierMotif(motif, v))\n",
    "        seq = ''.join(listeseq)\n",
    "        DNAMot.append(seq)\n",
    "\n",
    "    return DNAOrig, DNAMot, motif\n",
    "\n",
    "\n",
    "adnOri, adn, fix_motif = implantMotif(None, '', k, 0, t, n) #générer les séquences et le motif sans variation\n",
    "print (adnOri)\n",
    "print (adn)\n",
    "\n",
    "\n",
    "adn  = [s.upper() for s in adn]\n",
    "#print (adn)\n",
    "print (fix_motif)"
   ]
  },
  {
   "cell_type": "markdown",
   "metadata": {
    "id": "u27bZ9zV0ngE"
   },
   "source": [
    "2\\. Définissez une fonction ``construct_tree`` pour construire un suffix tree à partir des séquences artificielles (après implantation) en utilisant le python package suffix-trees trouvable ici: https://pypi.org/project/suffix-trees/. Tester si votre fonction est capable de trouver le motif sans variation implanté."
   ]
  },
  {
   "cell_type": "code",
   "execution_count": 17,
   "metadata": {
    "id": "sDeaGF8V11ew"
   },
   "outputs": [
    {
     "name": "stdout",
     "output_type": "stream",
     "text": [
      "Defaulting to user installation because normal site-packages is not writeable\n",
      "Collecting suffix-trees\n",
      "  Downloading suffix_trees-0.3.0-py3-none-any.whl (5.4 kB)\n",
      "Installing collected packages: suffix-trees\n",
      "Successfully installed suffix-trees-0.3.0\n",
      "\u001b[33mWARNING: You are using pip version 21.3; however, version 22.0.4 is available.\n",
      "You should consider upgrading via the '/usr/bin/python3.7 -m pip install --upgrade pip' command.\u001b[0m\n"
     ]
    }
   ],
   "source": [
    "!pip install suffix-trees"
   ]
  },
  {
   "cell_type": "code",
   "execution_count": 27,
   "metadata": {
    "id": "BDYzYIcY0ngF"
   },
   "outputs": [
    {
     "name": "stdout",
     "output_type": "stream",
     "text": [
      "0\n",
      "{8, 0}\n",
      "{432, 370, 85, 119, 217}\n"
     ]
    }
   ],
   "source": [
    "from suffix_trees import STree\n",
    "\n",
    "st = STree.STree(\"abcdefghab\")\n",
    "print(st.find(\"abc\")) # 0\n",
    "print(st.find_all(\"ab\")) # [0, 8]\n",
    "\n",
    "def construct_tree(sequences):\n",
    "    \"\"\"\n",
    "    construire un abre de suffixe\n",
    "    entrée1 sequences : matrice de dimension txn avec les sequences\n",
    "    sortie1 st : arbre de suffixe\n",
    "    REMARK: Vous devez concatener toutes les sequences de la matrice avant d'appeller la fonction STree\n",
    "    \"\"\"\n",
    "    st = STree.STree(sequences)\n",
    "    return st\n",
    "\n",
    "tree = construct_tree(adn)\n",
    "print(tree.find_all(fix_motif))\n",
    "\n",
    "\n"
   ]
  },
  {
   "cell_type": "markdown",
   "metadata": {
    "id": "rdSlwIl00ngH"
   },
   "source": [
    "3\\. Avant de chercher les motifs, implémentez ou reutilisez les fonctions pour générer tous les motifs (k-mer) possibles de taille k, en éliminant les motifs peu complexe pour éviter les calculs inutiles."
   ]
  },
  {
   "cell_type": "code",
   "execution_count": 47,
   "metadata": {
    "id": "3uxo3Y6j0ngI"
   },
   "outputs": [
    {
     "name": "stdout",
     "output_type": "stream",
     "text": [
      "65536\n",
      "49680\n"
     ]
    }
   ],
   "source": [
    "from itertools import product\n",
    "\n",
    "def kmerList(allkmers):\n",
    "    \"\"\"\n",
    "    On transforme le resultat du product en liste\n",
    "    \"\"\"\n",
    "    Liste = []\n",
    "    for mo in allkmers :\n",
    "        Liste.append(\"\".join(list(mo)))\n",
    "        \n",
    "    return Liste\n",
    "\n",
    "\n",
    "#Enlever les motifs peu complexe\n",
    "#quand une lettre est repetée m fois (ou par defaut 5 fois)\n",
    "#ou quand deux lettres consecutifs sont répétés (ex AGAG)\n",
    "\n",
    "#Enlever les motifs peu complexe\n",
    "#quand une lettre est repetée m fois (ou par defaut 5 fois)\n",
    "#ou quand deux lettres consecutifs sont répétés (ex AGAG)\n",
    "\n",
    "def removeLowComplexe(kmers, m = 5):\n",
    "    \"\"\"\n",
    "    entree kmers : Liste de tous les K-mers de taille k\n",
    "    sortie tout les K-mers en enlevant ceux qui sont peu complexe\n",
    "    \"\"\"\n",
    "    resultat = []\n",
    "    for mo in kmers :\n",
    "        valid = True\n",
    "        cpt = 0\n",
    "        \n",
    "        for i in range(len(mo)-1) :\n",
    "            #on regarde si deux lettres consécutifs sont répétées\n",
    "            if i < len(mo)-3 :\n",
    "                if mo[i] == mo[i+2] and mo[i+1] == mo[i+3] : \n",
    "                    valid = False\n",
    "                    break\n",
    "            #on regarde si une lettre est répétée m fois\n",
    "            if mo[i] == mo[i+1] :\n",
    "                cpt+= 1\n",
    "                if cpt >= m-1 :\n",
    "                    valid = False\n",
    "                    break\n",
    "            else :\n",
    "                cpt = 0\n",
    "                \n",
    "        if valid == True :\n",
    "            resultat.append(mo)\n",
    "            \n",
    "    return resultat\n",
    "\n",
    "allkmers = product(nuc, repeat=k)\n",
    "kmers = kmerList(allkmers)\n",
    "\n",
    "\n",
    "print (len(kmers))\n",
    "kmersValid = removeLowComplexe(kmers)\n",
    "print (len(kmersValid))\n",
    "\n",
    "\n"
   ]
  },
  {
   "cell_type": "markdown",
   "metadata": {
    "id": "AhKHuWkE0ngK"
   },
   "source": [
    "4\\. **Exact matching:** Définissez la fonction ``exact_match`` qui cherche dans le suffix tree tous les motifs possibles (k-mers), générés à la question precedent. La fonction renvoie un dictionnaire qui contient les motifs (clés) et leurs nombre d'occurrence (valeurs). Ce dictionnaire doit être trié par nombre d'occurrences. \n",
    "\n",
    "Ensuite, trouvez et affichez les 10 motifs plus fréquents dans notre jeux de données artificiels."
   ]
  },
  {
   "cell_type": "code",
   "execution_count": 67,
   "metadata": {
    "id": "pUmfblsq0ngL"
   },
   "outputs": [
    {
     "name": "stdout",
     "output_type": "stream",
     "text": [
      "ATTGCCTG 5\n",
      "AATTGCCT 2\n",
      "TATTGCCT 2\n",
      "TGCCTGCC 2\n",
      "TTGCCTGC 2\n",
      "AAACGTTG 1\n",
      "AAACTGCA 1\n",
      "AAATAATG 1\n",
      "AAATTCAG 1\n",
      "AACAAACG 1\n"
     ]
    }
   ],
   "source": [
    "def exact_match(kmersV, stree):\n",
    "    \"\"\"\n",
    "    Cherche dans le suffix tree tous les motifs possibles\n",
    "    entrée1 kmersV: Liste de Kmers à chercher\n",
    "    entrée2 stree: suffix tree\n",
    "    sortie1 motif_occur_sorted: dictionnaire qui contient les motifs (clés) et leurs nombre d'occurrences (values).\n",
    "    \"\"\"\n",
    "    motif_occur = {}\n",
    "    \n",
    "    for mer in kmersV :\n",
    "        tmp = stree.find_all(mer)\n",
    "        if len(tmp) > 0 : \n",
    "            motif_occur[mer] = len(tmp)\n",
    "    \n",
    "    motif_occur = {ka: v for ka, v in sorted(motif_occur.items(), key=lambda item: item[1],reverse=True)}\n",
    "    return motif_occur\n",
    "\n",
    "st = construct_tree(adn)\n",
    "motif_occur = exact_match(kmersValid, st)\n",
    "\n",
    "i = 0\n",
    "while i < 10 : \n",
    "    kee = list(motif_occur.keys())[i]\n",
    "    print(kee, motif_occur[kee])\n",
    "    i+=1"
   ]
  },
  {
   "cell_type": "markdown",
   "metadata": {
    "id": "GqpsNfaA0ngM"
   },
   "source": [
    "5\\. Avez-vous réussi à trouver votre motif initial implanté en séquences? l'algorithme était-il rapide? Faites attention aux valeurs élevées des variable k, t, et n par rapport aux TMEs précedants. Quelle est la complexité de chaque recherche de motif? "
   ]
  },
  {
   "cell_type": "markdown",
   "metadata": {
    "id": "cTWCNaA9jLFG"
   },
   "source": [
    "reponse : Oui, le motif ATTGCCTG a été retrouvé, l'algorithme a été très rapide."
   ]
  },
  {
   "cell_type": "markdown",
   "metadata": {
    "id": "HrSnp3Q70ngM"
   },
   "source": [
    "6\\. Introduisez deux variation (v=2) au motif initial. Pour cela avant de chaque implantation, créez d'abord un motif varié (avec v substitutions choisies aléatoirement) à partir du motif initial et puis implantez-le dans une séquence. Repetez pour chaque sequence dans le Jeux de donnée. Il suffit de mettre ``v`` égal ``2`` et réutiliser les fonctions définies à la question 1."
   ]
  },
  {
   "cell_type": "code",
   "execution_count": 150,
   "metadata": {
    "id": "OqVEMgjW0ngN"
   },
   "outputs": [
    {
     "name": "stdout",
     "output_type": "stream",
     "text": [
      "['CCAGAAGGAACCATCCGGTGAGTCATTTTATGTCAGTTAATCGCCGGTCTTCGCACCAGCGAGAAGCATTATTTAAAAACTCAATAAGAGCCTCTCGATA', 'ATCCGAAATGGACACGAATCAGTGTCTCACTGAAGCGGTCTTGGTGGGATAGGTTCGATATACATCGGGAAGCGAATCGGAGCAAAGCCTGATCGATGTG', 'TCAAAGGTCCAAACTCATAGGGATGATTCACTTTGACGCAAAGTACACATACAGAGATTATTGACTGGAAATGGGCGAGGCCGCGAAGCGGCGGCTCCCG', 'TAACTTCGCCCGCGAAACTGTTGCACTCTACGCCTTAGATCACGCGCAGACATTACGATCCCCGTGGTTCGCATTACCGGGGTTCATCGGCGCTCTTACA', 'ATCTCGGGTTTCATAGGCACGCTTGTAGCATTGTAACCCCCGGGGTTTCTATAGCACTCGGCAGTATGTTTAAAGGACTATGTCGGGCTTACAGCAATTG']\n",
      "Fixed motif:  AATCGGCG\n"
     ]
    }
   ],
   "source": [
    "v=2\n",
    "adnOri, adn,  fix_motif = implantMotif(adnOri, fix_motif, k, v, t, n)\n",
    "print (adn)\n",
    "adn  = [s.upper() for s in adn]\n",
    "print('Fixed motif: ', fix_motif)\n"
   ]
  },
  {
   "cell_type": "markdown",
   "metadata": {
    "id": "1RGyKcwP0ngN"
   },
   "source": [
    "7\\. Construisez le suffix tree à nouveau à partir des nouvelles séquences en utilisant le python package suffix-trees."
   ]
  },
  {
   "cell_type": "code",
   "execution_count": 151,
   "metadata": {
    "id": "xN70Hhtt0ngO"
   },
   "outputs": [],
   "source": [
    "st = construct_tree(adn)"
   ]
  },
  {
   "cell_type": "markdown",
   "metadata": {
    "id": "ZVbMQGFX0ngO"
   },
   "source": [
    "8\\. **Inexact matching:** \n",
    "\n",
    "Définissez fonction ``inexact_match`` qui cherche tous les motifs possibles (k-mers) générés à la question 2 dans le nouveau suffix tree donné (construit à partir des nouvelle séquences qui incluent le motif varié), et renvoie un dictionnaire qui contient les motifs (keys) et les listes de toutes leurs variations (values). Il faut que vous utilisiez la technique *seed* pour trouver le motif variable. \n",
    "\n",
    "Ensuite afficher les top motifs (les sequence consensus) de meilleurs scores.\n",
    "Pour calculer les scores utilisér les fonctions precedents. par exemple, le score d'une matrice de fréquence est la somme de max de chaque colonne.\n",
    "\n"
   ]
  },
  {
   "cell_type": "code",
   "execution_count": 152,
   "metadata": {
    "id": "IJ1qE29o0ngP",
    "scrolled": true
   },
   "outputs": [
    {
     "name": "stdout",
     "output_type": "stream",
     "text": [
      "{'banbna': ['banana', 'banbna', 'banbna']}\n",
      "55\n",
      "GGCGAAAC 72\n",
      "GGCGAAAG 72\n",
      "GGCGAAAT 72\n",
      "GGCGAACA 72\n",
      "GGCGAACC 72\n",
      "GGCGAACG 72\n",
      "GGCGAACT 72\n",
      "GGCGAAGA 72\n",
      "GGCGAAGC 72\n",
      "GGCGAAGG 72\n"
     ]
    }
   ],
   "source": [
    "def inexact_match(kmersV, sequences, stree, v):\n",
    "    \"\"\"\n",
    "    cherche de motif variables dans un suffix tree\n",
    "    entrée1 kmersV: liste de motifs à chercher\n",
    "    entrée2 sequences: matrice de dimension txn avec les sequences\n",
    "    entrée3 stree: suffix Tree\n",
    "    entrée4 v: nombre de variations dans le motifs\n",
    "    sortie1 motif_match: dictionnaire clé=sequence consensus des motifs; value= list de motifs.\n",
    "    \"\"\"\n",
    "    motif_match = {}\n",
    "    text = '' \n",
    "    for s in sequences : \n",
    "        text = text + s + ' ' \n",
    "    \n",
    "    for mer in kmersV : \n",
    "        ns = v +1\n",
    "        ls = int(len(mer)/ns)\n",
    "        \n",
    "        for i in range(ns-1) : \n",
    "            seed_mer = mer[i*ls:i*ls+ls]\n",
    "            fa = stree.find_all(seed_mer)\n",
    "            if len(fa) > 1 : \n",
    "                for cp in fa :\n",
    "                    try : \n",
    "                        seed_text = text[cp-i*ls:cp+len(mer)-i*ls]\n",
    "                        if ' ' in seed_text :\n",
    "                            continue\n",
    "                    except IndexError : \n",
    "                        continue\n",
    "                        \n",
    "                    diff = 0\n",
    "                    j = 0\n",
    "                    while j > len(mer) and diff>v :\n",
    "                        if mer[j] == seed_text[j] :\n",
    "                            diff += 1\n",
    "                        j += 1\n",
    "                            \n",
    "                    if diff <= v :\n",
    "                        if mer in motif_match :\n",
    "                            motif_match[mer].append(seed_text)\n",
    "                        else :\n",
    "                            motif_match[mer] = [seed_text]\n",
    "                            \n",
    "    return motif_match\n",
    "\n",
    "\n",
    "#Test\n",
    "seqTest = \"banananabanbnaabanbna\"\n",
    "st1 = construct_tree([seqTest])\n",
    "motif_match = inexact_match(['banbna'], [seqTest], st1, 1)\n",
    "print(motif_match)\n",
    "#{'banbna': ['banana', 'banbna', 'banbna']}\n",
    "\n",
    "\n",
    "\n",
    "\n",
    "def printTopMotifsScore(motif_match, top):\n",
    "    \"\"\"\n",
    "    Affiche les Top Motifs ayant les meilleurs scores \n",
    "    entrée1 motif_match: dictionnaire clé=sequence consensus des motifs; value= list de motifs\n",
    "    entrée top: la valeur à consider pour l'affichage\n",
    "    sortie None\n",
    "    \"\"\"\n",
    "    nv_dico = {}\n",
    "    for ka, val in motif_match.items() :\n",
    "        nv_dico[ka] = len(val)\n",
    "    print(nv_dico[\"GTAACCAG\"])\n",
    "        \n",
    "    nv_dico = {ka: v for ka, v in sorted(nv_dico.items(), key=lambda item: item[1],reverse=True)}\n",
    "    i = 0\n",
    "    while i < top : \n",
    "        kee = list(nv_dico.keys())[i]\n",
    "        print(kee, nv_dico[kee])\n",
    "        i+=1\n",
    "\n",
    "top = 10\n",
    "motif_match1 = inexact_match(kmersValid, adn, st, v)\n",
    "\n",
    "printTopMotifsScore(motif_match1, top)\n",
    "\n",
    "#GTAACCAG\n"
   ]
  },
  {
   "cell_type": "markdown",
   "metadata": {
    "id": "5ABb0l6D0ngQ"
   },
   "source": [
    "9\\. Créez le motif logo à partir des séquences du meilleur motif variable que vouz venez de trouver. Vous pouvez utilizer ce site: https://weblogo.berkeley.edu/logo.cgi. Affichez votre logo ci-dessous."
   ]
  },
  {
   "cell_type": "markdown",
   "metadata": {
    "id": "tXYeF8IY0ngQ"
   },
   "source": [
    "Motif LOGO:\n",
    "<img src=\"logo_1.png\">"
   ]
  },
  {
   "cell_type": "markdown",
   "metadata": {
    "id": "acxgFV6b0ngQ"
   },
   "source": [
    "10\\. Avez-vous réussi à trouver votre motif initial implanté en séquences? l'algorithme était-il rapide? Quelle est la complexité de l'algorithme?"
   ]
  },
  {
   "cell_type": "markdown",
   "metadata": {
    "id": "NAygy1d00ngR"
   },
   "source": [
    "11\\. Tester l'algorithme  suffix tree sur vos données de chipSeq. N'oubliez pas de chercher les motifs dans le brin complémentaire et faire un merge de résultats. Puis générér le LOGO du motif trouvé."
   ]
  },
  {
   "cell_type": "code",
   "execution_count": null,
   "metadata": {
    "id": "kPIHUtnb0ngR"
   },
   "outputs": [],
   "source": [
    "def readFasta(genome):\n",
    "    sequence = []\n",
    "    file = open(genome, \"r\")\n",
    "    sequences = []\n",
    "    seq = \"\"\n",
    "    for s in file:\n",
    "        if s[0] != \">\":\n",
    "            seq += s.strip().upper()\n",
    "        else:\n",
    "            sequences.append(seq)\n",
    "            seq = \"\"\n",
    "    return sequences[1:]\n",
    "genome = \"Sequence_by_Peaks_0.fasta\"\n",
    "sequences = readFasta(genome)\n",
    "#print(sequences)"
   ]
  },
  {
   "cell_type": "markdown",
   "metadata": {
    "id": "POgmVAqT0ngS"
   },
   "source": [
    "Motif LOGO:\n",
    "<img src=\"logo_2.png\">"
   ]
  },
  {
   "cell_type": "code",
   "execution_count": null,
   "metadata": {},
   "outputs": [],
   "source": []
  }
 ],
 "metadata": {
  "celltoolbar": "Raw Cell Format",
  "colab": {
   "collapsed_sections": [],
   "name": "TME7_2022.ipynb",
   "provenance": []
  },
  "kernelspec": {
   "display_name": "Python 3",
   "language": "python",
   "name": "python3"
  },
  "language_info": {
   "codemirror_mode": {
    "name": "ipython",
    "version": 3
   },
   "file_extension": ".py",
   "mimetype": "text/x-python",
   "name": "python",
   "nbconvert_exporter": "python",
   "pygments_lexer": "ipython3",
   "version": "3.7.3"
  }
 },
 "nbformat": 4,
 "nbformat_minor": 1
}
