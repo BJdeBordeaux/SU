{
 "cells": [
  {
   "cell_type": "markdown",
   "metadata": {
    "id": "981-NdKA_huf"
   },
   "source": [
    "# TME 6 : Projet Detection de motifs\n",
    "\n",
    "\n",
    "## Recheche de pattern (motifs) en utilisant les algoritmes randomisés\n",
    "\n",
    "Les algorithmes randomisés prendre des décisions aléatoire plutôt que déterministes.\n",
    "l'algorithme s'exécute différemment à chaque fois. Ils sont couramment utilisés dans situations où aucun algorithme exact et rapide est connu. Nous allons implémenter deux algorithmes randomisés pour la recherche de motifs : Greedy Profile Motif Search et random Projections.\n"
   ]
  },
  {
   "cell_type": "markdown",
   "metadata": {
    "id": "5z3a_1W0_huk"
   },
   "source": [
    "1\\. Nous allons réutiliser les fonctions du TME5 pour générer `t` séquences artificielles de taille `n`, et implanter dans chaque séquence un motif de taille `k` à des positions aléatoires avec `v` substitutions choisies aléatoirement."
   ]
  },
  {
   "cell_type": "code",
   "execution_count": 1,
   "metadata": {
    "id": "6UbcF5N2_hul"
   },
   "outputs": [],
   "source": [
    "import math\n",
    "import random\n",
    "from random import *\n",
    "import operator\n",
    "import numpy as np\n",
    "\n",
    "nuc = ('A', 'C', 'G', 'T')\n",
    "\n",
    "k=5 #taille de motif\n",
    "v=1 #nb de positions variable dans le motif\n",
    "t=3 #nb de sequences\n",
    "n=10 #longuer des sequence\n"
   ]
  },
  {
   "cell_type": "code",
   "execution_count": 2,
   "metadata": {
    "id": "IplKLaGL_hun"
   },
   "outputs": [
    {
     "name": "stdout",
     "output_type": "stream",
     "text": [
      "Le motif : GGCTG\n",
      "['CAAAGACTGG', 'AGCGCTGATG', 'TGGCTTCGGT']\n"
     ]
    }
   ],
   "source": [
    "\n",
    "def generateRandomSequence(n, upper=True):\n",
    "    \"\"\"\n",
    "    Génère une séquence nucléotidique aléatoire \n",
    "    entrée n : longueur de la sequence\n",
    "    entrée upper : bool, si True les nucléotides seront majuscule, False minuscule\n",
    "    sortie sequence : une séquence nucléotidique aléatoire \n",
    "    \"\"\"\n",
    "    sequence = \"\"\n",
    "    if upper:      \n",
    "        for i in range(0,n) :\n",
    "            sequence+= choice(nuc).upper()\n",
    "    else:\n",
    "        for i in range(0,n) :\n",
    "            sequence+= choice(nuc).lower()\n",
    "   \n",
    "    return sequence\n",
    "\n",
    "\n",
    "\n",
    "def posrand(taille, nb_nu):\n",
    "    \"\"\"\n",
    "    taille : len du motif\n",
    "    nb_nu : nb de nucleotides a changer\n",
    "    choisi dans une sequence les positions où insérer les motifs\n",
    "    renvoie une liste de int #position\n",
    "    \"\"\"\n",
    "    listpos = []\n",
    "    i = 0\n",
    "    while i < nb_nu:\n",
    "        rand = randint(0,taille-1)\n",
    "        if rand not in listpos :\n",
    "            listpos.append(rand)\n",
    "            i += 1\n",
    "    return sorted(listpos)\n",
    "\n",
    "\n",
    "def modifierMotif(motif, nbpos,  upper=True):\n",
    "    \"\"\"\n",
    "    Modifie nbpos positions d'un motif aléatoirement \n",
    "    entrée motif: motif à modifier\n",
    "    entrée nbpos: nombre de positions\n",
    "    entrée upper : bool, si True les nucléotides modifiés seront majuscule, False minuscule\n",
    "    sortie motifM: motif modifié\n",
    "    \"\"\"\n",
    "    motifM = ''\n",
    "    #je transforme le motif en liste pour changer les nuc\n",
    "    listemotif = list(motif)\n",
    "    listePos = posrand(len(motif),nbpos)\n",
    "    \n",
    "    for n in listePos :\n",
    "        listemotif[n] = choice(nuc)\n",
    "        \n",
    "    motifM = \"\".join(listemotif)\n",
    "    \n",
    "    if upper :\n",
    "        motifM = motifM.upper()\n",
    "    else :\n",
    "        motifM = motifM.lower()\n",
    "\n",
    "    return motifM\n",
    "\n",
    "\n",
    "def implantMotifVar(k, v, t, n):\n",
    "    \"\"\"\n",
    "    Génère des séquences aléatoires et les implante des motifs variables (un motif par séquence)\n",
    "    entrée k: taille du motif\n",
    "    entrée v: nombre de variations\n",
    "    entrée t : nombre de séquences \n",
    "    entrée n : longueur des séquences\n",
    "    sortie DNA : matrice de dimension txn avec les motifs implantés\n",
    "    REMARQUE : La taille totale des séquences plus le motif doit être égal à n, pensez à générer de séquence aléatoire de taille n-k pour pouvoir implanter un motif de taille k\n",
    "    \"\"\"\n",
    "  \n",
    "    sequences = []\n",
    "    taille = n-k\n",
    "    motif = generateRandomSequence(k)\n",
    "    \n",
    "    print(\"Le motif : \" + motif)\n",
    "    for i in range(t):\n",
    "        seq = generateRandomSequence(taille,True)\n",
    "        \n",
    "        listeseq = list(seq)\n",
    "        listeseq.insert(randint(0,taille-1), modifierMotif(motif, v))\n",
    "        seq = ''.join(listeseq)\n",
    "        sequences.append(seq)\n",
    "    \n",
    "\n",
    "    return sequences\n",
    "\n",
    "adn = implantMotifVar(k, v, t, n)\n",
    "#print (adn)\n",
    "\n",
    "adn  = [s.upper() for s in adn]\n",
    "print (adn)"
   ]
  },
  {
   "cell_type": "markdown",
   "metadata": {
    "id": "NoPjFWpM_huq"
   },
   "source": [
    "2\\. Faire une fonction pour sélectionner des positions de départ aléatoirement `s = (s1, …,st)`.\n"
   ]
  },
  {
   "cell_type": "code",
   "execution_count": 3,
   "metadata": {
    "colab": {
     "base_uri": "https://localhost:8080/"
    },
    "id": "WwUeYNeJ_hur",
    "outputId": "b0d6c2c1-ae10-461e-e9c5-68ba7c6da5be"
   },
   "outputs": [
    {
     "name": "stdout",
     "output_type": "stream",
     "text": [
      "['CAAAGACTGG', 'AGCGCTGATG', 'TGGCTTCGGT']\n",
      "[0, 4, 0]\n"
     ]
    }
   ],
   "source": [
    "#creating vector s\n",
    "#Get t random positions from 0 to n - k\n",
    "def generateRandomS(sequences, k):\n",
    "    \"\"\"\n",
    "    Génère un vecteur de position aléatoires\n",
    "    entrée sequences: matrice de dimension txn contenant les sequences\n",
    "    entrée k: taille du motif\n",
    "    sortie s: vecteur de position aléatoires, une position par séquence\n",
    "    REMARQUE les positions doivent être inférieur à n-k\n",
    "    \"\"\"\n",
    "    s = []\n",
    "    for i in range(len(sequences)) : \n",
    "        s.append(randint(0,len(sequences[i])-k-1))\n",
    "    return s\n",
    "\n",
    "s = generateRandomS(adn, k)\n",
    "print (adn)\n",
    "print (s)"
   ]
  },
  {
   "cell_type": "markdown",
   "metadata": {
    "id": "vwTv0oVD_hut"
   },
   "source": [
    "3\\. Extraire les motifs en utilisant le vecteur `s`, et construire un profile (matrice de fréquence). Attention, utiliser les pseudocount 1 pour éviter les plus tard les probabilités à zéro.\n"
   ]
  },
  {
   "cell_type": "code",
   "execution_count": 4,
   "metadata": {
    "id": "GMC6y17y_hut"
   },
   "outputs": [
    {
     "name": "stdout",
     "output_type": "stream",
     "text": [
      "['CAAAG', 'CTGAT', 'TGGCT']\n",
      "[[1. 2. 2. 3. 1.]\n",
      " [3. 1. 1. 2. 1.]\n",
      " [1. 2. 3. 1. 2.]\n",
      " [2. 2. 1. 1. 3.]]\n"
     ]
    }
   ],
   "source": [
    "def extractSeqs(s, seqs, k):\n",
    "    \"\"\"\n",
    "    Extraire les motifs des séquences à l'aide de positions s\n",
    "    entrée s: vecteur contenant les positions de départs\n",
    "    entrée seqs: matrice de dimension txn avec les séquences\n",
    "    entrée k: taille du motif\n",
    "    sortie motifs: liste de motifs\n",
    "    \"\"\"\n",
    "    motifs = []   \n",
    "    if (len(seqs) != len(s)):\n",
    "        print(\"erreur len(seqs) != len(s) \")\n",
    "        return\n",
    "    i = 0\n",
    "    while i < len(seqs):\n",
    "        motifs.append(seqs[i][s[i]:s[i]+k])\n",
    "        i = i+1\n",
    "        \n",
    "    return motifs\n",
    "\n",
    "#Construire matrice de fréquence\n",
    "def profile(motifs, k, nuc):\n",
    "    \"\"\"\n",
    "    Construire une matrice de fréquence de dimension k x |nuc|\n",
    "    entrée motifs: liste de motifs\n",
    "    entrée k: taille du motif\n",
    "    entrée nuc: alphabet\n",
    "    sortie MF: matrice de fréquence\n",
    "    \"\"\"\n",
    "    \n",
    "    MF = np.ones((len(nuc), k))\n",
    "    \n",
    "    dico = {\"A\":0, \"a\":0, \"C\":1, \"c\":1, \"G\":2, \"g\":2, \"T\":3, \"t\":3}\n",
    "    \n",
    "    i = 0\n",
    "    while i < k:\n",
    "        j = 0\n",
    "        while j < len(motifs):\n",
    "            MF[dico[motifs[j][i]]][i] = MF[dico[motifs[j][i]]][i] + 1\n",
    "            j=j+1\n",
    "        i=i+1\n",
    "        \n",
    "    return MF\n",
    "\n",
    "motifs = extractSeqs(s, adn, k)\n",
    "print(motifs)\n",
    "MF = profile(motifs, k, nuc)\n",
    "print(MF)"
   ]
  },
  {
   "cell_type": "markdown",
   "metadata": {
    "id": "zIw6koU2_huu"
   },
   "source": [
    "4\\. Transformer la matrice de fréquence en PWM. Il faut diviser chaque élément par la somme de ses colonnes. Faire aussi une fonction pour calculer la sequence consensus d'une matrice de frequence."
   ]
  },
  {
   "cell_type": "code",
   "execution_count": 5,
   "metadata": {
    "id": "wOH5mbkA_huv"
   },
   "outputs": [
    {
     "name": "stdout",
     "output_type": "stream",
     "text": [
      "[[0.14285714 0.28571429 0.28571429 0.42857143 0.14285714]\n",
      " [0.42857143 0.14285714 0.14285714 0.28571429 0.14285714]\n",
      " [0.14285714 0.28571429 0.42857143 0.14285714 0.28571429]\n",
      " [0.28571429 0.28571429 0.14285714 0.14285714 0.42857143]]\n"
     ]
    }
   ],
   "source": [
    "motifs = [s.upper() for s in motifs]\n",
    "\n",
    "def generatePWM(MF):\n",
    "    \"\"\"\n",
    "    Transforme la matrice de fréquence en PWM\n",
    "    entrée MF: matrice de fréquence\n",
    "    sortie PWM: matrice de probabilité (poids positions)\n",
    "    \"\"\"\n",
    "    somme = 0 \n",
    "    for i in range(len(MF)) : \n",
    "        somme+= MF[i][0]\n",
    "\n",
    "    PWM = np.zeros((len(MF), len(MF[0])))\n",
    "    \n",
    "    for i in range(len(MF)) : \n",
    "        for j in range(len(MF[i])) :\n",
    "            PWM[i][j] = MF[i][j]/somme \n",
    "            \n",
    "    return PWM\n",
    "\n",
    "PWM = generatePWM(MF)\n",
    "\n",
    "print(PWM)"
   ]
  },
  {
   "cell_type": "code",
   "execution_count": 6,
   "metadata": {
    "id": "lx1tEoWFjOPn"
   },
   "outputs": [
    {
     "name": "stdout",
     "output_type": "stream",
     "text": [
      "CAGAT\n"
     ]
    }
   ],
   "source": [
    "def getConsensus(MF, k, nuc):\n",
    "    \"\"\"\n",
    "    Renvoie la sequence consensus d'une matrice de frequence\n",
    "    entrée MF: matrice de fréquence\n",
    "    entrée k: taille du motif\n",
    "    entrée nuc: alphabet\n",
    "    sortie seqCons: sequence consensus\n",
    "    \"\"\"\n",
    "    dic = {0:\"A\", 1:\"C\", 2:\"G\", 3:\"T\"}\n",
    "    \n",
    "    seqCons = \"\"\n",
    "    for i in range(k):\n",
    "        pos = 0\n",
    "        maxx = 0\n",
    "        for j in range(4):\n",
    "            if maxx < MF[j][i]:\n",
    "                maxx = MF[j][i]\n",
    "                pos = j\n",
    "        seqCons += dic[pos]\n",
    "        \n",
    "    return seqCons\n",
    "\n",
    "seqCons = getConsensus(MF, k, nuc)\n",
    "print(seqCons)"
   ]
  },
  {
   "cell_type": "markdown",
   "metadata": {
    "id": "ThOfxUGq_huw"
   },
   "source": [
    "5\\. Faire une fonction pour calculer la probabilité d'un motif de taille `k` selon une PWM.\n"
   ]
  },
  {
   "cell_type": "code",
   "execution_count": 7,
   "metadata": {
    "id": "ZUNbTtum_huw"
   },
   "outputs": [
    {
     "name": "stdout",
     "output_type": "stream",
     "text": [
      "0.00963884095912417\n"
     ]
    }
   ],
   "source": [
    "def probability(PWM, motif):\n",
    "    \"\"\"\n",
    "    Calcul la probalité d'un motif selon PWM\n",
    "    entrée PWM: matrice de probabilité (poids positions)\n",
    "    entrée motif: motif\n",
    "    sortie prob: probalité Prob(motif|PWM)\n",
    "    \"\"\"\n",
    "    pos = 0; prob = 1\n",
    "    #print (PWM)\n",
    "    for n in motif:\n",
    "        i = nuc.index(n)\n",
    "        #print (i, pos)\n",
    "        prob *=PWM[i, pos]\n",
    "        pos +=1\n",
    "    return prob\n",
    "\n",
    "prob = probability(PWM, seqCons)\n",
    "print (prob)"
   ]
  },
  {
   "cell_type": "markdown",
   "metadata": {
    "id": "aqLjmxrx_hux"
   },
   "source": [
    "6\\. Faire une fonction pour calculer le pMostProbkmer d'une séquence, voir un exemple dans les slides de cours."
   ]
  },
  {
   "cell_type": "code",
   "execution_count": 8,
   "metadata": {
    "colab": {
     "base_uri": "https://localhost:8080/"
    },
    "id": "-_GDK4mQ_huy",
    "outputId": "fd27df91-a730-4e20-d1c4-1bfff3505910"
   },
   "outputs": [
    {
     "name": "stdout",
     "output_type": "stream",
     "text": [
      "3\n"
     ]
    }
   ],
   "source": [
    "def pMostProbkmer(PWM, k, sequence):\n",
    "    \"\"\"\n",
    "    calcul la position du k-mer le plus probable dans la séquence\n",
    "    entrée PWM: matrice de probabilité (poids positions)\n",
    "    entrée k: taille du motif\n",
    "    entrée sequence: séquence nucleotidique\n",
    "    sortie s: la position du k-mer le plus probable dans la sequence\n",
    "    \"\"\"\n",
    "    \n",
    "    s = 0 # position\n",
    "    probmax = 0\n",
    "    for i in range(len(sequence)-k) :\n",
    "        Prob = probability(PWM, sequence[i:i+k])\n",
    "        if (probmax < Prob) :\n",
    "            s = i\n",
    "            probmax = Prob\n",
    "        \n",
    "        \n",
    "    return s\n",
    "\n",
    "s = pMostProbkmer(PWM, k, \"GCC\" + seqCons+ \"GGATACT\")\n",
    "\n",
    "print (s)"
   ]
  },
  {
   "cell_type": "markdown",
   "metadata": {
    "id": "QwXuMhNn_huy"
   },
   "source": [
    "7\\. Faire une fonction pour obtenir les nouvelles positions de départ `s = (s1, …,st)`, c’était à dire les positions qui contiens les k-mer le plus probables."
   ]
  },
  {
   "cell_type": "code",
   "execution_count": 9,
   "metadata": {
    "id": "G3neuRM9_huz"
   },
   "outputs": [
    {
     "name": "stdout",
     "output_type": "stream",
     "text": [
      "['CAAAGACTGG', 'AGCGCTGATG', 'TGGCTTCGGT']\n",
      "[[1. 2. 2. 3. 1.]\n",
      " [3. 1. 1. 2. 1.]\n",
      " [1. 2. 3. 1. 2.]\n",
      " [2. 2. 1. 1. 3.]]\n",
      "[0, 4, 0]\n"
     ]
    }
   ],
   "source": [
    "def getNewS(PWM, k, sequences):\n",
    "    \"\"\"\n",
    "    Trouve les nouvelles positions des k-mer le plus probables\n",
    "    entrée PWM: matrice de probabilité (poids positions)\n",
    "    entrée k: taille du motif\n",
    "    entrée sequence: séquence nucleotidique\n",
    "    sortie s: vecteur avec les positions les plus problables\n",
    "    \"\"\"\n",
    "\n",
    "    s = []\n",
    "    \n",
    "    for i in sequences :\n",
    "        \n",
    "        s.append(pMostProbkmer(PWM, k, i))\n",
    "   \n",
    "    return s\n",
    "print(adn)\n",
    "print(MF)\n",
    "ns = getNewS(PWM, k, adn)\n",
    "print (ns)"
   ]
  },
  {
   "cell_type": "markdown",
   "metadata": {
    "id": "WoETBPxq_huz"
   },
   "source": [
    "8\\. La condition d’arrêt de l'algorithme est le non changement de la matrice de fréquence d'une itération à l'autre, \n",
    "faire une fonction pour comparer deux matrices et détecter le changement. \n",
    "Faire aussi une fonction pour obtenir le score d'une matrice de fréquence : la somme de max de chaque colonne"
   ]
  },
  {
   "cell_type": "code",
   "execution_count": 10,
   "metadata": {
    "id": "NUDOYB6A_hu0"
   },
   "outputs": [
    {
     "name": "stdout",
     "output_type": "stream",
     "text": [
      "3 [0, 4, 0]\n",
      "14.0\n"
     ]
    }
   ],
   "source": [
    "def changeProfile(P1, P2):\n",
    "    \"\"\"\n",
    "    Compare deux matrice\n",
    "    entrée P1: matrice de fréquence\n",
    "    entrée P2: matrice de fréquence\n",
    "    sortie: True si les matrices sont différents, False au contraire\n",
    "    \"\"\"\n",
    "    \n",
    "    return np.array_equal(P1, P2, equal_nan=True)\n",
    "\n",
    "def getScore(MF, k):\n",
    "    \"\"\"\n",
    "    Renvoie le score de MF, la somme des max de chaque colonne\n",
    "    entrée P: matrice de fréquence\n",
    "    entrée k: taille du motif\n",
    "    sortie sc: score\n",
    "    \"\"\"\n",
    "    sc = 0\n",
    "\n",
    "    for i in range(k):\n",
    "        maxx= 0\n",
    "        for j in range(4):\n",
    "            if maxx < MF[j][i]:\n",
    "                maxx = MF[j][i]\n",
    "        sc+= maxx\n",
    "    \n",
    "    return sc\n",
    "\n",
    "ns = getNewS(PWM, k, adn)\n",
    "print (s, ns)\n",
    "\n",
    "sc = getScore(MF, k)\n",
    "print (sc)\n"
   ]
  },
  {
   "cell_type": "markdown",
   "metadata": {
    "id": "QhO7GPfn_hu0"
   },
   "source": [
    "9\\. Implementer l'algorithme ``GreedyProfileMotifSearch`` en utilisant les fonctions precedentes. \n"
   ]
  },
  {
   "cell_type": "code",
   "execution_count": 11,
   "metadata": {
    "id": "s3wvHQUp_hu0"
   },
   "outputs": [
    {
     "name": "stdout",
     "output_type": "stream",
     "text": [
      "CAAAG\n",
      "['CAAAG', 'CGCTG', 'CTTCG']\n"
     ]
    }
   ],
   "source": [
    "def GreedyProfileMotifSearch(sequences, t, n, k):\n",
    "    \"\"\"\n",
    "    Implémente l'algorithme GreedyProfileMotifSearch \n",
    "    entrée sequences: matrice de dimension txn contenant les séquences \n",
    "    entrée t : nombre de séquences \n",
    "    entrée n : longueur des séquences \n",
    "    entrée k : taille du motif \n",
    "    sortie s : vecteur de positions de départ ayant le meilleur motif \n",
    "    sortie bestScore : le score associé à s\n",
    "    sortie seqCons : consensus\n",
    "    \n",
    "1. Sélectionnez des positions de départ aléatoirement s = (s 1 , ...,s t ).\n",
    "2. Créez un profil Pr à partir des séquences de ces positions de départ.\n",
    "3. Trouver le P-most-probable k-mers a pour chaque séquence et changer la position de\n",
    "départ à la position de départ de a.\n",
    "4. Calculer un nouveau profil basé sur le nouveaux positions de départs\n",
    "5. procéder jusqu'à ce qu’on ne peut plus changer le Profil ou augmenter le score(s,\n",
    "DNA)\n",
    "    \"\"\"\n",
    "    vec = generateRandomS(sequences, k)\n",
    "    #print(vec)\n",
    "    motif1 = extractSeqs(vec, sequences, k)\n",
    "    #print(motif1)\n",
    "    MF1 = profile(motif1, k, nuc)\n",
    "    #print(MF1)\n",
    "    PWM1 = generatePWM(MF1)\n",
    "    #print(PWM1)\n",
    "    seqCons1 = getConsensus(MF1, k, nuc)\n",
    "    #print(seqCons1)\n",
    "    prob1 = probability(PWM1, seqCons1)\n",
    "    #print(prob1)\n",
    "    ns1 = getNewS(PWM1, k, sequences)\n",
    "    #print(ns1)\n",
    "\n",
    "    b = True\n",
    "    while b :\n",
    "        motif2 = extractSeqs(ns1, sequences, k)\n",
    "        #print(motif2)\n",
    "        MF2 = profile(motif2, k, nuc)\n",
    "        #print(MF2)\n",
    "        PWM2 = generatePWM(MF2)\n",
    "        #print(PWM2)\n",
    "        seqCons2 = getConsensus(MF2, k, nuc)\n",
    "        #print(seqCons2)\n",
    "        prob2 = probability(PWM2, seqCons2)\n",
    "        #print(prob2)\n",
    "        ns2 = getNewS(PWM2, k, sequences)\n",
    "        #print(ns2) \n",
    "        #print(getScore(MF1, k))\n",
    "        #print(getScore(MF2, k))\n",
    "        \n",
    "        if (not changeProfile(PWM1, PWM2) )or (getScore(MF1, k) > getScore(MF2, k)) : \n",
    "            MF1 = MF2\n",
    "            PWM1 = PWM2\n",
    "            seqCons1 = seqCons2\n",
    "            prob1 = prob2\n",
    "            ns1 = ns2\n",
    "        else : \n",
    "            b = False \n",
    "\n",
    "    s = getNewS(PWM1, k, sequences)\n",
    "    bestScore = getScore(MF1, k)\n",
    "    \n",
    "    return s, bestScore, seqCons1\n",
    "\n",
    "s, bestScore, seqCons = GreedyProfileMotifSearch(adn, t, n, k)   \n",
    "motifs = extractSeqs(s, adn, k)\n",
    "print(seqCons)\n",
    "print (motifs)\n",
    "        "
   ]
  },
  {
   "cell_type": "markdown",
   "metadata": {
    "id": "xvo0wA0R_hu1"
   },
   "source": [
    "10\\. Avez vous trouvez le motif implanté? Rexécuter l’algorithme plusieurs fois pour le trouver. "
   ]
  },
  {
   "cell_type": "markdown",
   "metadata": {
    "id": "tQw_6g6I_hu1"
   },
   "source": [
    "Reponse: Notre motif de base CCCTG a pu être retrouvé en rexécutant plusieurs fois l'algorithme."
   ]
  },
  {
   "cell_type": "markdown",
   "metadata": {
    "id": "hFC52cFb_hu1"
   },
   "source": [
    "11\\. Vous avez certainement observer que l’algorithme ne produire pas toujours la même sortie et que les résultats dépendent de la sélection aléatoire des positions de départ `s`. Pour augmenter nous chances de retrouvez les bons motifs, nous allons implémenter une version itérative ``GreedyProfileMotifSearchIte`` \n",
    "qui a chaque fois sauvegarde `s` et le score du profile associé à `s`, après `I` itération, l’algorithme renvoie le vecteur `s` ayant le plus grand score."
   ]
  },
  {
   "cell_type": "code",
   "execution_count": 12,
   "metadata": {
    "id": "RN4HsjUX_hu2",
    "scrolled": false
   },
   "outputs": [
    {
     "name": "stdout",
     "output_type": "stream",
     "text": [
      "{15.0: [3, 0, 0], 12.0: [2, 2, 2], 14.0: [2, 1, 2], 13.0: [1, 3, 1], 17.0: [4, 2, 1], 11.0: [1, 1, 4], 16.0: [3, 1, 0]}\n",
      "{15.0: 'AGACT', 12.0: 'AACTC', 14.0: 'GCGAC', 13.0: 'GAAGA', 17.0: 'GGCTG', 11.0: 'AAAGA', 16.0: 'AGGCT'}\n",
      "[4, 2, 1]\n"
     ]
    }
   ],
   "source": [
    "\n",
    "\n",
    "def GreedyProfileMotifSearchIte(sequences, t, n, k, It):\n",
    "    \"\"\"\n",
    "    Implémente l'algorithme GreedyProfileMotifSearch iteratif\n",
    "    entrée séquences: matrice de dimension txn contenant les séquences \n",
    "    entrée t : nombre de séquences \n",
    "    entrée n : longueur des séquences \n",
    "    entrée k: taille du motif \n",
    "    entrée It: nombre d'iterations\n",
    "    sortie positions: dictionnaire clé=score, valeur= vecteur s \n",
    "    sortie consensus: dictionnaire clé=score, valeur= consensus sequence du motif\n",
    "    sortie maxBestScore : la clef la plus élevée\n",
    "    \"\"\"\n",
    "   \n",
    "    pos = {}\n",
    "    consensus = {}\n",
    "    maxBestScore = 0\n",
    "    \n",
    "    i = 0\n",
    "    while i < It :\n",
    "        s, bestScore, seqCons = GreedyProfileMotifSearch(sequences, t, n, k)\n",
    "        \n",
    "        pos[bestScore] = s\n",
    "        consensus[bestScore] = seqCons\n",
    "        \n",
    "        if maxBestScore < bestScore :\n",
    "            maxBestScore = bestScore\n",
    "        i+=1\n",
    "    \n",
    "    return pos, consensus, maxBestScore\n",
    "\n",
    "\n",
    "pos, consensus, maxBestScore = GreedyProfileMotifSearchIte(adn, t, n, k, 50)\n",
    "print(pos)\n",
    "print(consensus)\n",
    "print(pos[maxBestScore])"
   ]
  },
  {
   "cell_type": "markdown",
   "metadata": {
    "id": "js7TuAsB_hu2"
   },
   "source": [
    "12\\. Tester algorithme  ``GreedyProfileMotifSearchIte`` sur vos données de chipSeq. N'oubliez pas de chercher les motifs dans le brin complémentaire et faire un merge de résultats."
   ]
  },
  {
   "cell_type": "code",
   "execution_count": 14,
   "metadata": {
    "id": "-M8y_sOS_hu3"
   },
   "outputs": [
    {
     "name": "stdout",
     "output_type": "stream",
     "text": [
      "['TCCTTTG', 'TGAATCT', 'TAGTTTA', 'TGCAGTA', 'AGAATTG', 'GGAAGCT', 'TTGGGTG', 'TTTTTTG', 'TTGTCTC', 'TATCATC', 'TACCCGG', 'TATCCTC', 'TTGTATC', 'AGAAACG', 'TGCAGCT', 'TTACATA', 'ACAAATT', 'GGAAGAG', 'TAATTTC', 'TTGCTGG', 'TACACGC', 'TTTTAGC', 'TGAAGTG', 'TAACCTC', 'TGAACAT', 'TCGCTTG', 'TTCCAGA', 'TTCTTGA', 'AACAATT', 'TCCAATC', 'TTCATTC', 'TGCAGAA', 'TTATGGG', 'TACTAGC', 'AGAAACT', 'TACTATG', 'TACTCGG', 'TTGCTTG', 'TTGCAGG', 'GGTAATT', 'TCAACTT', 'TATTTTG', 'TTCCCTC', 'TTGGTTA', 'TTTCTGA', 'TTACCTC', 'TACTTTC', 'GGAAAAG', 'AGAAGAT', 'TATAAAT', 'TTGGATG', 'TTTTATC', 'AAAAATT', 'TTCTTTA', 'TTGTCGC', 'TTCTGTA', 'TTGGTGA', 'TGCAACA', 'TGTACAG', 'TGTAAAT', 'TCGCTTC', 'TACATTA', 'TCTAATG', 'AGTAGAT', 'AGAACCC', 'TTCCCTA', 'TTGGATA', 'TACGCTG', 'GGAACTG', 'TGTATTT', 'TTATATC', 'TACCTTA', 'AGAACAA', 'AACAATA', 'TAAAGTA', 'TGTAGTG', 'TGCAAAG', 'TTGGCTG', 'AGCAGCG', 'AGAAATA', 'TTTGCTG', 'AGAAGAG', 'TTATATG', 'TGAATTG', 'TGCAGCG', 'TACTCTG', 'TTCTAGG', 'AGAAAAC', 'TTCTCTA', 'GGCAGTT', 'AGAAGAA', 'TAGCATG', 'TTAAATC', 'TGAACTA', 'TGCAACT', 'TTTCCGC', 'AGAACCT', 'GGAATAT', 'TCTACTG', 'TTCCCGA', 'AGAATTA', 'TTCTATC', 'TGAAGAT', 'TGTATAT', 'TTGTTTG', 'TCCTATC', 'TACAGTG', 'AGTACTA', 'AGCACTT', 'AGCACCA', 'TGAATTT', 'AGTACCA', 'AGCACTC', 'AGAAGCA', 'AGCATTT', 'AGTAGCT', 'ACAACAT', 'TTCCCTG', 'ACAAACT', 'TTCGAGG', 'TACAGCT', 'TTCCCGC', 'TGAAAAT', 'TGCACTT', 'AGCACTA', 'AGAAGTT', 'TGTATTA', 'TGAAACA', 'TTCTATG', 'AATAATT', 'TGAAAAA', 'AGAACTG', 'TCCTCTG', 'TTATTTG', 'GGAATAA', 'TGAAAAG', 'TGAAGCA', 'AGCAAAA', 'TACCTTG', 'TATCTTG', 'TTGCATC', 'AGCAACT', 'TGAAGTT', 'GGAATTT', 'AGCAGTA', 'AGCAAAG', 'TTTCCTC', 'TTCCATA', 'TCGCATC', 'GGTACTA', 'TCAAGTT', 'TTGAATC', 'TCCCATC', 'AGAATTT', 'TACAATG', 'TTGTTTC', 'TTTACTC', 'TGAAATA', 'TCCCCTC', 'TGAACAG', 'GGCAGAG', 'CGAAAAG', 'TATTGTC', 'TTTAATC', 'TAATCTG', 'TTGCCGC', 'GGAAACG', 'AGAATCG', 'TTCTAGA', 'TTTGATC', 'TGCAATA', 'TTATCTC', 'TCCCTGC', 'TCCTTTC', 'GGAAACA', 'TTTCCTG', 'AGTACCT', 'TTTCATG', 'TTCTCTC', 'AGTACAA', 'TTCCAGC', 'GGAAGTT', 'TTTGTTG', 'TATCTTC', 'TGAAATG', 'AGCAGTT', 'TAATTTG', 'TCTCTTC', 'TCAAAAT', 'AGCACAT', 'TCCCTTG', 'AACAATG', 'TAATTGG', 'TTTCAGC', 'TCCTCTC', 'ACCACTG', 'TTGCCTA', 'TTGTATG', 'TTTGCTA', 'TCTGTTC', 'TTACTGG', 'TAGCTTC', 'TTTATTC', 'TGTAAAG', 'GGTAAAG', 'TTCCTGG', 'GGAAACT', 'AGAAACA', 'TTCTGTG', 'TTATTGG', 'GGAAGTA', 'TTCTATA', 'TAGAATC', 'TTGTGGG', 'TTACTTG', 'TACACTC', 'AGCAGAT', 'AGAATAG', 'TACCTTC', 'TTCCATG', 'TGTAGAT', 'TAAAATA', 'AAAACTT', 'TTCTCGG', 'TTTGTTC', 'TTCACTG', 'TATGTTA', 'TTCACTA', 'TTGATTG', 'TTTTCGC', 'GGAAATG', 'TTGCATG', 'ACCACTT', 'TGTACCT', 'TTTACTA', 'AGTAGTT', 'TGAATAG', 'TTCAATG', 'TTTTTGC', 'GGTATTT', 'TTGGCGG', 'TGAAACT', 'TTGTCTG', 'TGAACAA', 'TTTTTGG', 'TAAAAAT', 'GGAAAGA', 'CGTACTT', 'TTCTTGC', 'TTCCCGG', 'TCCACTC', 'TTCTTGG', 'AGTATAA', 'TTTATTG', 'TTCTCTG', 'AGCAATT', 'GGCAAAG', 'TGTACTT', 'TGAACTG', 'GGAACCA', 'ACAAGAT', 'TGTAAAA', 'AGCAGAG', 'TGTATAA', 'TTCACTC', 'TGAATTA', 'TTATTTC', 'AGTAAAG', 'TGTAACG', 'TCGCCGA', 'AGAACAT', 'TTCCCAC', 'TCGTTTA', 'TGCAAAA', 'TGAAGCT', 'TTTTCGG', 'AGAAAGT', 'TCGTTGC', 'TTGTTTA', 'TTGCCCG', 'TGTACCG', 'GGCAAAT', 'TGGTATG', 'TCCCTTC', 'AGAAGCT', 'TTACATC', 'AGTAATG', 'GGAAGAT', 'CGAAGTT', 'AGTATTA', 'TTGTAGC', 'TTGTGTC', 'GGAAATT', 'ACTACAT', 'TTTTCTG', 'TTAGAGA', 'TTGGTTC', 'AGAAATG', 'TCCCCTA', 'TTCTTTC', 'GGCACAA', 'GGCACTG', 'TAATATG', 'TTTGCGA', 'GTCTCTG', 'AGCAACA', 'TTGGATC', 'TCTTTTC', 'AAAAACT', 'TTCGATC', 'ACCAATT', 'AGCACAG', 'AGTAAAA', 'TTCTCGC', 'GGAAAAA', 'TTTTCTC', 'GGAATCT', 'GGAAAAT', 'TGTACTG', 'TCTAATT', 'AGAAAAA', 'TAGCATA', 'TAATATC', 'AGAACTA', 'GGCAAAA', 'TGCATTG', 'TGAACCA', 'TAAACTT', 'TTCGATG', 'AGAACAG', 'TCGTTTC', 'TACCATG', 'AGAACTT', 'TGCACAG', 'AGCAATG', 'AGAAATT', 'TTCTGTC', 'TGTAGTA', 'AGAAGTA', 'TTGACTG', 'TCCAATA', 'TTCCTTG', 'TACTCTC', 'TTCGCTG', 'TTGCCTC', 'TAGGTTC', 'AGCATTG', 'TAGTCTC', 'AATAACT', 'TTGTTGC', 'TACTATC', 'TGTAACT', 'AGCACTG', 'TGTAGAA', 'AGAATCA', 'TATTCTG', 'TCTTTGC', 'GGCATCA', 'TCAGCTC', 'TGTAATT', 'TTACTTC', 'TAACAGC', 'TGCACTA', 'TGTAATG', 'TAGTATC', 'TCCCATG', 'GGAACCT', 'TCGTATG', 'TTCGTTG', 'AGAAAAT', 'GGAAATA', 'TGAATAT', 'TAGGATA', 'AGAGACT', 'TAGTTTG', 'TACCCTC', 'TACATAT', 'TTTCTTC', 'AGAACCA', 'TGCAGTG', 'TTGTGTG', 'TTGTCGA', 'TAATCTC', 'TTTCTGC', 'TGTAATA', 'TACTGTC', 'TGTAACA', 'TTTTATG', 'AGAAAGA', 'TTCCTGA', 'AGCACAA', 'TACATTC', 'TTCTTTG', 'AGAAAAG', 'TTCCATC', 'TTGCTTA', 'TTACCTG', 'TACCCTG', 'AGAATAA', 'TGAAGAA', 'GGTATAA', 'AGAATAT', 'TGTATCA', 'TTGCTTC', 'TTCGTGC', 'TAGTCTG', 'TACTTGC', 'TTTTTTC', 'TCCAATT', 'AGTAATA', 'TGAAATT', 'GGTACAG', 'TAACTGC', 'TACAATC', 'TTATATA', 'TGAACTT', 'TTCCTGC', 'AGCAAAT', 'GGAATCG', 'TTCATTG', 'TGCAATG', 'TTTGCTC', 'GGTATAT', 'TCATCTC', 'TCATATG', 'TTAGCTC', 'TGCAATT', 'TAGATTC', 'TACAATT', 'TAGGATG', 'TAATCGC', 'TAGTTTC', 'TAAAGAT', 'TGCAAAT', 'AGTAATT', 'TAAGCTG', 'TTCCTTC', 'TAGCTTG', 'TGAACCT', 'TGAAGTA', 'TGTAGTT', 'TATTCTA', 'TCCAGCT', 'AAAAATA', 'GGAACAA', 'TACTGGC', 'AAAAAAA', 'TAATCTA', 'AGTAGTG', 'TTTTCTA', 'TATTCTC', 'TTGTCTA', 'TGAAGTC', 'AGTACTT', 'TTTTTGA']\n"
     ]
    }
   ],
   "source": [
    "k=7; v=1; t=20; n=80\n",
    "\n",
    "def reversecompl(seq):\n",
    "    \"\"\"Renvoie le brin complémentaire d’une séquence.\n",
    "    entrée : sequence de nucléotides (brin sens)\n",
    "    sortie : sequence de nucléotides (brin complementaire)\n",
    "    >>> reversecompl('AACGTGGCA')\n",
    "    'TGCCACGTT'\n",
    "    \"\"\"\n",
    "    compl = {'A': 'T', 'C': 'G', 'G': 'C', 'T':'A','a': 't', 'c': 'g', 'g': 'c', 't':'a'}\n",
    "    \n",
    "    l = list(seq)\n",
    "    for i in range(len(seq)) : \n",
    "        l[i] = compl[seq[i]]\n",
    "    l.reverse()\n",
    "    return ''.join(l)\n",
    "\n",
    "def readFasta(genome, n):\n",
    "    sequence = []\n",
    "    file = open(genome, \"r\")\n",
    "    sequence = []\n",
    "    for s in file:\n",
    "        if s[0] != \">\":\n",
    "            sequence.append(s.strip().upper())\n",
    "    sequenceStr = \"\".join(sequence)\n",
    "    sequence = [sequenceStr[i:i+n] for i in range(0, len(sequenceStr), n)]\n",
    "    sequenceRet = [x for x in sequence if x]\n",
    "    return sequenceRet\n",
    "\n",
    "genome = \"Sequence_by_Peaks_2.fasta\" #Remplacer par votre fichier\n",
    "\n",
    "\n",
    "\n",
    "sequencesChip = readFasta(genome, n)\n",
    "\n",
    "chipSequences = []\n",
    "for s in sequencesChip : \n",
    "    chipSequences.append(reversecompl(s)) \n",
    "    \n",
    "t = len(sequencesChip)\n",
    "pos, consensus, maxBestScore = GreedyProfileMotifSearchIte(sequencesChip, t, n, k, 50)\n",
    "posComp, consensusComp, maxBestScoreComp = GreedyProfileMotifSearchIte(chipSequences, t, n, k, 50)\n",
    "\n",
    "\"\"\" donne liste des motifs trouvés sur les deux brins :\"\"\"\n",
    "\n",
    "motifs = extractSeqs(pos[maxBestScore], sequencesChip, k)\n",
    "motifsComp = extractSeqs(posComp[maxBestScoreComp], chipSequences, k)\n",
    "\n",
    "mergeMotifs = list(set(motifs + motifsComp))\n",
    "print(mergeMotifs)"
   ]
  },
  {
   "cell_type": "markdown",
   "metadata": {
    "id": "WNn2FXzf5UzK"
   },
   "source": [
    "Afficher les top motifs (leurs sequence consensus) de meilleurs scores."
   ]
  },
  {
   "cell_type": "code",
   "execution_count": 15,
   "metadata": {
    "id": "S7DtjmxjCyQ-"
   },
   "outputs": [
    {
     "name": "stdout",
     "output_type": "stream",
     "text": [
      "TTCTTTC\n",
      "TATTTCT\n",
      "TTTCTTT\n",
      "AATTGCT\n",
      "AAGAAGT\n",
      "TTTTTCT\n",
      "CTTCTTG\n",
      "CAATTTT\n",
      "TTTCTCT\n",
      "TTTCTTT\n",
      "________\n",
      "AGAAATT\n",
      "AGAGAAA\n",
      "AGAAACT\n",
      "AGAAATA\n",
      "AGAGAAA\n",
      "ATGGAAA\n",
      "TGGAAAT\n",
      "AGAGAAA\n",
      "AAATTCT\n",
      "AAAGAAA\n"
     ]
    }
   ],
   "source": [
    "def printTopMotifsScore(consensus, top):\n",
    "\n",
    "    motifsSort = sorted(consensus.keys())\n",
    "    motifsSort.reverse()\n",
    "    tailledico = len(consensus)\n",
    "    i = 0\n",
    "    while i<top and i<tailledico :\n",
    "        print (consensus[motifsSort[i]])\n",
    "        i+=1\n",
    "\n",
    "top = 10\n",
    "printTopMotifsScore(consensus, top)\n",
    "print(\"________\")\n",
    "printTopMotifsScore(consensusComp, top)"
   ]
  },
  {
   "cell_type": "markdown",
   "metadata": {
    "id": "UO-2rHmt_hu3"
   },
   "source": [
    "13\\. Nous allons implémenter l'algorithme ``randomProjection``. D'abord, faites la fonction `getRandomFixePositions` pour générer une projection de k à n, voir un exemple dans les slides de cours. Faire aussi la fonction `generateKey` qui extrait les caractères du motif puis génère une cle qui représente la projection."
   ]
  },
  {
   "cell_type": "code",
   "execution_count": 16,
   "metadata": {
    "id": "72rT-OkS_hu3"
   },
   "outputs": [
    {
     "name": "stdout",
     "output_type": "stream",
     "text": [
      "[1, 3, 5, 6]\n",
      "1356\n"
     ]
    }
   ],
   "source": [
    "def getRandomFixePositions(k, n):\n",
    "    \"\"\"\n",
    "    Genere une projection de k vers n\n",
    "    entrée k: nombre de positions du motif original\n",
    "    entrée n: nombre de positions choisi pour la projection \n",
    "    sortie projection: liste de positions choisi aléatoirement\n",
    "    \"\"\"\n",
    "    return posrand(k,n)\n",
    "\n",
    "lR = getRandomFixePositions(7, 4)\n",
    "print (lR)\n",
    "\n",
    "def generateKey(positions, motif):\n",
    "    \"\"\"\n",
    "    extrait les caractères du motif et génère la cle de la projection\n",
    "    entrée positions : liste de positions qui represent la projection\n",
    "    entrée motif : motif de taille k\n",
    "    sortie cle : cle de la projection\n",
    "    \"\"\"\n",
    "    cle = \"\"\n",
    "    \n",
    "    for i in positions :\n",
    "        cle+= motif[i]\n",
    "\n",
    "    return cle\n",
    "\n",
    "print(generateKey(lR, \"0123456\"))"
   ]
  },
  {
   "cell_type": "markdown",
   "metadata": {
    "id": "NK0BhSs1_hu3"
   },
   "source": [
    "14\\. Implémenter l'algorithme ``randomProjection``."
   ]
  },
  {
   "cell_type": "code",
   "execution_count": 17,
   "metadata": {
    "id": "yaDXNosb_hu3"
   },
   "outputs": [
    {
     "name": "stdout",
     "output_type": "stream",
     "text": [
      "{'TTCG': 1, 'CTCC': 1, 'TAGC': 1}\n",
      "{'TTCG': ['TTAACGGCAC'], 'CTCC': ['GCTCACGCCA'], 'TAGC': ['TACCGGCCGT']}\n"
     ]
    }
   ],
   "source": [
    "def randomProjection(k, n, sequences):\n",
    "    \"\"\"\n",
    "    Implémente l'algorithme randomProjection\n",
    "    entrée k : nombre de positions du motif\n",
    "    entrée n : nombre de positions de la projection \n",
    "    entrée sequences : matrice de dimension txn contenant les séquences \n",
    "    sortie motifs : dictionaire, cle = projection, valeur= frequence\n",
    "    sortie motifsSeq:  dictionaire, cle = projection, valeur= original motif\n",
    "    \"\"\"\n",
    "    motifs  = {}; motifsSeq  = {}\n",
    "    for s in sequences : \n",
    "        pro = generateKey(getRandomFixePositions(k,n), s)\n",
    "        if pro not in motifs :\n",
    "            motifs[pro] = 0\n",
    "            motifsSeq[pro] = []\n",
    "        motifs[pro] += 1\n",
    "        motifsSeq[pro].append(s)\n",
    "        \n",
    "    return motifs, motifsSeq\n",
    "\n",
    "\n",
    "#motifsSort = sorted(motifs, reverse=True, key=motifs.get)\n",
    "\n",
    "adnTest = ['TTAACGGCAC', 'GCTCACGCCA', 'TACCGGCCGT']\n",
    "motifsProj, motifsSeq = randomProjection(7, 4, adnTest)\n",
    "print (motifsProj)\n",
    "print (motifsSeq)\n"
   ]
  },
  {
   "cell_type": "markdown",
   "metadata": {
    "id": "RWMsME8t_hu3"
   },
   "source": [
    "15\\. Avez vous trouvez le motif implanté? Rexécuter l’algorithme plusieurs fois pour augmenter les chances de le trouver. "
   ]
  },
  {
   "cell_type": "markdown",
   "metadata": {
    "id": "gj5RGPey_hu4"
   },
   "source": [
    "reponse: Le motif implanté pourrait être TACG car il a une fréquence de 2, dans le cas où un vecteur de position différent est utilisé pour chaque séquence. "
   ]
  },
  {
   "cell_type": "markdown",
   "metadata": {
    "id": "1DHZjpi4_hu6"
   },
   "source": [
    "16\\. Implémenter la version itérative de l’algorithme ``randomProjection``. "
   ]
  },
  {
   "cell_type": "code",
   "execution_count": 18,
   "metadata": {
    "id": "WkfqvtsT_hu6"
   },
   "outputs": [
    {
     "name": "stdout",
     "output_type": "stream",
     "text": [
      "1 CAAAGACTGG\n"
     ]
    }
   ],
   "source": [
    "def randomProjIt(sequences, k, v, nuc, It):\n",
    "    \"\"\"\n",
    "    Implémente l'algorithme randomProjection version iteractive\n",
    "    entrée sequences : matrice de dimension txn contenant les séquences \n",
    "    entrée k : nombre de positions du motif\n",
    "    entrée v : nombre de positions de la projection \n",
    "    entrée nuc : alphabet\n",
    "    entrée It: nombre d'iterations\n",
    "    sortie score : meilleur score\n",
    "    sortie motifs :  liste de motifs associés au meilleur score\n",
    "    \"\"\"\n",
    "    \n",
    "    motifs = []; scores = []\n",
    "    \n",
    "    i=0\n",
    "    while i < It : \n",
    "        motifsProj, motifsSeq = randomProjection(k, v, sequences)\n",
    "        for key, value in motifsSeq.items() : \n",
    "            motifs.extend(value)\n",
    "        for key, value in  motifsProj.items() : \n",
    "            scores.append(value)\n",
    "        \n",
    "        i+=1\n",
    "        \n",
    "    return max(scores), motifs[scores.index(max(scores))] \n",
    "\n",
    "score, seqsMotif = randomProjIt(adn, 7, 4, nuc, 100)\n",
    "\n",
    "print (score, seqsMotif)\n"
   ]
  },
  {
   "cell_type": "markdown",
   "metadata": {
    "id": "JeBaa7f1_hu6"
   },
   "source": [
    "17\\. Tester l'algorithme  ``randomProjection`` sur vos données de chipSeq. N'oubliez pas de chercher les motifs dans le brin complémentaire et faire un merge de résultats. Puis générér le LOGO du motif trouvé."
   ]
  },
  {
   "cell_type": "code",
   "execution_count": 19,
   "metadata": {
    "id": "_jcWAluO_hu7"
   },
   "outputs": [
    {
     "name": "stdout",
     "output_type": "stream",
     "text": [
      "12 TTTCAGGCCTTGTTTCTTTCAAATTTTCAGCCAATAGGCGGCGAGTAGCAGCGCTGGGCGAGGATAATAGCACAATTTGA\n"
     ]
    }
   ],
   "source": [
    "score, seqsMotif = randomProjIt(sequencesChip, 7, 4, nuc, 100)\n",
    "print (score, seqsMotif)"
   ]
  },
  {
   "cell_type": "markdown",
   "metadata": {
    "id": "KTvZuyFe9FoM"
   },
   "source": [
    "18\\. Vous avez sans doute remarqué que les algos implémentés trouvent souvent des motifs peu complexes, réviser les implémentations pour régler/diminuer ce problème."
   ]
  },
  {
   "cell_type": "markdown",
   "metadata": {
    "id": "u__Up1UU-IYZ"
   },
   "source": [
    "Pour réduire le problème, on pourrait ignorer les motifs qui ont des nucléotides qui se répétent.\n"
   ]
  },
  {
   "cell_type": "markdown",
   "metadata": {},
   "source": []
  }
 ],
 "metadata": {
  "celltoolbar": "Raw Cell Format",
  "colab": {
   "collapsed_sections": [],
   "name": "TME6_2022.ipynb",
   "provenance": []
  },
  "kernelspec": {
   "display_name": "Python 3",
   "language": "python",
   "name": "python3"
  },
  "language_info": {
   "codemirror_mode": {
    "name": "ipython",
    "version": 3
   },
   "file_extension": ".py",
   "mimetype": "text/x-python",
   "name": "python",
   "nbconvert_exporter": "python",
   "pygments_lexer": "ipython3",
   "version": "3.8.10"
  }
 },
 "nbformat": 4,
 "nbformat_minor": 1
}
